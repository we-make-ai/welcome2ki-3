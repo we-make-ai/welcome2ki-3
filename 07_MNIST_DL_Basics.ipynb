{
  "nbformat": 4,
  "nbformat_minor": 0,
  "metadata": {
    "colab": {
      "name": "07_MNIST_DL_Basics.ipynb",
      "provenance": [],
      "collapsed_sections": [],
      "authorship_tag": "ABX9TyOp8mjEMt+TxtYWfoXHHktw",
      "include_colab_link": true
    },
    "kernelspec": {
      "name": "python3",
      "display_name": "Python 3"
    }
  },
  "cells": [
    {
      "cell_type": "markdown",
      "metadata": {
        "id": "view-in-github",
        "colab_type": "text"
      },
      "source": [
        "<a href=\"https://colab.research.google.com/github/we-make-ai/welcome2ki-3/blob/main/07_MNIST_DL_Basics.ipynb\" target=\"_parent\"><img src=\"https://colab.research.google.com/assets/colab-badge.svg\" alt=\"Open In Colab\"/></a>"
      ]
    },
    {
      "cell_type": "code",
      "metadata": {
        "id": "0IXs10wfkgXe",
        "outputId": "1cae0c18-ef4e-4ec5-f0a6-749166eab8a4",
        "colab": {
          "base_uri": "https://localhost:8080/"
        }
      },
      "source": [
        "!pip install fastai --upgrade -q"
      ],
      "execution_count": 1,
      "outputs": [
        {
          "output_type": "stream",
          "text": [
            "\u001b[K     |████████████████████████████████| 194kB 2.8MB/s \n",
            "\u001b[K     |████████████████████████████████| 51kB 5.3MB/s \n",
            "\u001b[?25h"
          ],
          "name": "stdout"
        }
      ]
    },
    {
      "cell_type": "code",
      "metadata": {
        "id": "6RDyBYDJzVMd",
        "outputId": "4610cc35-60df-4b42-8341-9529f53dc38b",
        "colab": {
          "base_uri": "https://localhost:8080/"
        }
      },
      "source": [
        "!pip install -Uqq fastbook\n",
        "import fastbook\n",
        "fastbook.setup_book()"
      ],
      "execution_count": 2,
      "outputs": [
        {
          "output_type": "stream",
          "text": [
            "\u001b[K     |████████████████████████████████| 727kB 2.7MB/s \n",
            "\u001b[K     |████████████████████████████████| 51kB 5.4MB/s \n",
            "\u001b[K     |████████████████████████████████| 1.1MB 13.2MB/s \n",
            "\u001b[K     |████████████████████████████████| 51kB 6.1MB/s \n",
            "\u001b[K     |████████████████████████████████| 40kB 5.0MB/s \n",
            "\u001b[K     |████████████████████████████████| 92kB 7.3MB/s \n",
            "\u001b[K     |████████████████████████████████| 61kB 6.5MB/s \n",
            "\u001b[K     |████████████████████████████████| 51kB 6.2MB/s \n",
            "\u001b[K     |████████████████████████████████| 2.6MB 17.9MB/s \n",
            "\u001b[?25hMounted at /content/gdrive\n"
          ],
          "name": "stdout"
        }
      ]
    },
    {
      "cell_type": "code",
      "metadata": {
        "id": "nKbj3Qh2kouz"
      },
      "source": [
        "from fastai.vision.all import *\n",
        "from fastbook import *\n",
        "matplotlib.rc('image', cmap='Greys')"
      ],
      "execution_count": 3,
      "outputs": []
    },
    {
      "cell_type": "markdown",
      "metadata": {
        "id": "Rfuee50kkZhb"
      },
      "source": [
        "# MNIST Ziffern Klassifizierer"
      ]
    },
    {
      "cell_type": "code",
      "metadata": {
        "id": "GqVVpzq8kHLx",
        "outputId": "e85c014c-c27a-4aa0-8f39-5e9b543211da",
        "colab": {
          "base_uri": "https://localhost:8080/",
          "height": 17
        }
      },
      "source": [
        "path = untar_data(URLs.MNIST_SAMPLE)"
      ],
      "execution_count": 4,
      "outputs": [
        {
          "output_type": "display_data",
          "data": {
            "text/html": [
              ""
            ],
            "text/plain": [
              "<IPython.core.display.HTML object>"
            ]
          },
          "metadata": {
            "tags": []
          }
        }
      ]
    },
    {
      "cell_type": "code",
      "metadata": {
        "id": "uqFcMzHZkYd7"
      },
      "source": [
        "Path.BASE_PATH = path"
      ],
      "execution_count": 5,
      "outputs": []
    },
    {
      "cell_type": "code",
      "metadata": {
        "id": "aU7OGCy3kY-Z",
        "outputId": "ff10d8c4-f70d-4323-fa75-093eef96b0fc",
        "colab": {
          "base_uri": "https://localhost:8080/"
        }
      },
      "source": [
        "path.ls()"
      ],
      "execution_count": 6,
      "outputs": [
        {
          "output_type": "execute_result",
          "data": {
            "text/plain": [
              "(#3) [Path('train'),Path('labels.csv'),Path('valid')]"
            ]
          },
          "metadata": {
            "tags": []
          },
          "execution_count": 6
        }
      ]
    },
    {
      "cell_type": "code",
      "metadata": {
        "id": "NYKmzWAwrdxk",
        "outputId": "dd83450e-1d8f-423b-f1ab-a04ff1562474",
        "colab": {
          "base_uri": "https://localhost:8080/"
        }
      },
      "source": [
        "!ls"
      ],
      "execution_count": 7,
      "outputs": [
        {
          "output_type": "stream",
          "text": [
            "gdrive\tsample_data\n"
          ],
          "name": "stdout"
        }
      ]
    },
    {
      "cell_type": "code",
      "metadata": {
        "id": "JFEsGMZekp-5",
        "outputId": "c28a8509-8196-4c24-9880-f7435136d4e0",
        "colab": {
          "base_uri": "https://localhost:8080/"
        }
      },
      "source": [
        "(path/'train').ls()"
      ],
      "execution_count": 8,
      "outputs": [
        {
          "output_type": "execute_result",
          "data": {
            "text/plain": [
              "(#2) [Path('train/7'),Path('train/3')]"
            ]
          },
          "metadata": {
            "tags": []
          },
          "execution_count": 8
        }
      ]
    },
    {
      "cell_type": "code",
      "metadata": {
        "id": "cKKfBxrskuYh",
        "outputId": "37f6440f-3dbf-4f76-e89d-f43ed58e8033",
        "colab": {
          "base_uri": "https://localhost:8080/"
        }
      },
      "source": [
        "threes = (path/'train'/'3').ls().sorted()\n",
        "sevens = (path/'train'/'7').ls().sorted()\n",
        "threes"
      ],
      "execution_count": 9,
      "outputs": [
        {
          "output_type": "execute_result",
          "data": {
            "text/plain": [
              "(#6131) [Path('train/3/10.png'),Path('train/3/10000.png'),Path('train/3/10011.png'),Path('train/3/10031.png'),Path('train/3/10034.png'),Path('train/3/10042.png'),Path('train/3/10052.png'),Path('train/3/1007.png'),Path('train/3/10074.png'),Path('train/3/10091.png')...]"
            ]
          },
          "metadata": {
            "tags": []
          },
          "execution_count": 9
        }
      ]
    },
    {
      "cell_type": "code",
      "metadata": {
        "id": "uKcSI9xTruLy",
        "outputId": "5e86f07b-7822-4547-af6c-a961a5677dc3",
        "colab": {
          "base_uri": "https://localhost:8080/"
        }
      },
      "source": [
        "type(sevens)"
      ],
      "execution_count": 10,
      "outputs": [
        {
          "output_type": "execute_result",
          "data": {
            "text/plain": [
              "fastcore.foundation.L"
            ]
          },
          "metadata": {
            "tags": []
          },
          "execution_count": 10
        }
      ]
    },
    {
      "cell_type": "code",
      "metadata": {
        "id": "Who_xgJbkzBK",
        "outputId": "94d23621-5e42-4516-f149-6d7dee1e2d96",
        "colab": {
          "base_uri": "https://localhost:8080/",
          "height": 45
        }
      },
      "source": [
        "im3_path = threes[1]\n",
        "im3 = Image.open(im3_path)\n",
        "im3"
      ],
      "execution_count": 11,
      "outputs": [
        {
          "output_type": "execute_result",
          "data": {
            "image/png": "[encoded data removed]",
            "text/plain": [
              "<PIL.PngImagePlugin.PngImageFile image mode=L size=28x28 at 0x7F492E95E2B0>"
            ]
          },
          "metadata": {
            "tags": []
          },
          "execution_count": 11
        }
      ]
    },
    {
      "cell_type": "code",
      "metadata": {
        "id": "Mefzi8CYk1oo",
        "outputId": "c3934351-fbda-46f3-e978-c24c5799c1c4",
        "colab": {
          "base_uri": "https://localhost:8080/"
        }
      },
      "source": [
        "array(im3)[4:10,4:10]"
      ],
      "execution_count": 12,
      "outputs": [
        {
          "output_type": "execute_result",
          "data": {
            "text/plain": [
              "array([[  0,   0,   0,   0,   0,   0],\n",
              "       [  0,   0,   0,   0,   0,  29],\n",
              "       [  0,   0,   0,  48, 166, 224],\n",
              "       [  0,  93, 244, 249, 253, 187],\n",
              "       [  0, 107, 253, 253, 230,  48],\n",
              "       [  0,   3,  20,  20,  15,   0]], dtype=uint8)"
            ]
          },
          "metadata": {
            "tags": []
          },
          "execution_count": 12
        }
      ]
    },
    {
      "cell_type": "code",
      "metadata": {
        "id": "2saHPLwtlNwB",
        "outputId": "c8559ae8-876b-4d2f-f7dd-a76c9a2a8326",
        "colab": {
          "base_uri": "https://localhost:8080/"
        }
      },
      "source": [
        "tensor(im3)[4:10,4:10]"
      ],
      "execution_count": 13,
      "outputs": [
        {
          "output_type": "execute_result",
          "data": {
            "text/plain": [
              "tensor([[  0,   0,   0,   0,   0,   0],\n",
              "        [  0,   0,   0,   0,   0,  29],\n",
              "        [  0,   0,   0,  48, 166, 224],\n",
              "        [  0,  93, 244, 249, 253, 187],\n",
              "        [  0, 107, 253, 253, 230,  48],\n",
              "        [  0,   3,  20,  20,  15,   0]], dtype=torch.uint8)"
            ]
          },
          "metadata": {
            "tags": []
          },
          "execution_count": 13
        }
      ]
    },
    {
      "cell_type": "code",
      "metadata": {
        "id": "RYzRfHkGlVMx",
        "outputId": "40b44933-e104-4984-ade9-c780ae585304",
        "colab": {
          "base_uri": "https://localhost:8080/",
          "height": 258
        }
      },
      "source": [
        "im3_t = tensor(im3)\n",
        "df = pd.DataFrame(im3_t[4:15,4:22])\n",
        "df.style.set_properties(**{'font-size':'6pt'}).background_gradient('Greys')"
      ],
      "execution_count": 14,
      "outputs": [
        {
          "output_type": "execute_result",
          "data": {
            "text/html": [
              "<style  type=\"text/css\" >\n",
              "#T_058f5e24_2040_11eb_9192_0242ac1c0002row0_col0,#T_058f5e24_2040_11eb_9192_0242ac1c0002row0_col1,#T_058f5e24_2040_11eb_9192_0242ac1c0002row0_col2,#T_058f5e24_2040_11eb_9192_0242ac1c0002row0_col3,#T_058f5e24_2040_11eb_9192_0242ac1c0002row0_col4,#T_058f5e24_2040_11eb_9192_0242ac1c0002row0_col5,#T_058f5e24_2040_11eb_9192_0242ac1c0002row0_col6,#T_058f5e24_2040_11eb_9192_0242ac1c0002row0_col7,#T_058f5e24_2040_11eb_9192_0242ac1c0002row0_col8,#T_058f5e24_2040_11eb_9192_0242ac1c0002row0_col9,#T_058f5e24_2040_11eb_9192_0242ac1c0002row0_col10,#T_058f5e24_2040_11eb_9192_0242ac1c0002row0_col11,#T_058f5e24_2040_11eb_9192_0242ac1c0002row0_col12,#T_058f5e24_2040_11eb_9192_0242ac1c0002row0_col13,#T_058f5e24_2040_11eb_9192_0242ac1c0002row0_col14,#T_058f5e24_2040_11eb_9192_0242ac1c0002row0_col15,#T_058f5e24_2040_11eb_9192_0242ac1c0002row0_col16,#T_058f5e24_2040_11eb_9192_0242ac1c0002row0_col17,#T_058f5e24_2040_11eb_9192_0242ac1c0002row1_col0,#T_058f5e24_2040_11eb_9192_0242ac1c0002row1_col1,#T_058f5e24_2040_11eb_9192_0242ac1c0002row1_col2,#T_058f5e24_2040_11eb_9192_0242ac1c0002row1_col3,#T_058f5e24_2040_11eb_9192_0242ac1c0002row1_col4,#T_058f5e24_2040_11eb_9192_0242ac1c0002row1_col15,#T_058f5e24_2040_11eb_9192_0242ac1c0002row1_col16,#T_058f5e24_2040_11eb_9192_0242ac1c0002row1_col17,#T_058f5e24_2040_11eb_9192_0242ac1c0002row2_col0,#T_058f5e24_2040_11eb_9192_0242ac1c0002row2_col1,#T_058f5e24_2040_11eb_9192_0242ac1c0002row2_col2,#T_058f5e24_2040_11eb_9192_0242ac1c0002row2_col15,#T_058f5e24_2040_11eb_9192_0242ac1c0002row2_col16,#T_058f5e24_2040_11eb_9192_0242ac1c0002row2_col17,#T_058f5e24_2040_11eb_9192_0242ac1c0002row3_col0,#T_058f5e24_2040_11eb_9192_0242ac1c0002row3_col15,#T_058f5e24_2040_11eb_9192_0242ac1c0002row3_col16,#T_058f5e24_2040_11eb_9192_0242ac1c0002row3_col17,#T_058f5e24_2040_11eb_9192_0242ac1c0002row4_col0,#T_058f5e24_2040_11eb_9192_0242ac1c0002row4_col6,#T_058f5e24_2040_11eb_9192_0242ac1c0002row4_col7,#T_058f5e24_2040_11eb_9192_0242ac1c0002row4_col8,#T_058f5e24_2040_11eb_9192_0242ac1c0002row4_col9,#T_058f5e24_2040_11eb_9192_0242ac1c0002row4_col10,#T_058f5e24_2040_11eb_9192_0242ac1c0002row4_col15,#T_058f5e24_2040_11eb_9192_0242ac1c0002row4_col16,#T_058f5e24_2040_11eb_9192_0242ac1c0002row4_col17,#T_058f5e24_2040_11eb_9192_0242ac1c0002row5_col0,#T_058f5e24_2040_11eb_9192_0242ac1c0002row5_col5,#T_058f5e24_2040_11eb_9192_0242ac1c0002row5_col6,#T_058f5e24_2040_11eb_9192_0242ac1c0002row5_col7,#T_058f5e24_2040_11eb_9192_0242ac1c0002row5_col8,#T_058f5e24_2040_11eb_9192_0242ac1c0002row5_col9,#T_058f5e24_2040_11eb_9192_0242ac1c0002row5_col15,#T_058f5e24_2040_11eb_9192_0242ac1c0002row5_col16,#T_058f5e24_2040_11eb_9192_0242ac1c0002row5_col17,#T_058f5e24_2040_11eb_9192_0242ac1c0002row6_col0,#T_058f5e24_2040_11eb_9192_0242ac1c0002row6_col1,#T_058f5e24_2040_11eb_9192_0242ac1c0002row6_col2,#T_058f5e24_2040_11eb_9192_0242ac1c0002row6_col3,#T_058f5e24_2040_11eb_9192_0242ac1c0002row6_col4,#T_058f5e24_2040_11eb_9192_0242ac1c0002row6_col5,#T_058f5e24_2040_11eb_9192_0242ac1c0002row6_col6,#T_058f5e24_2040_11eb_9192_0242ac1c0002row6_col7,#T_058f5e24_2040_11eb_9192_0242ac1c0002row6_col8,#T_058f5e24_2040_11eb_9192_0242ac1c0002row6_col9,#T_058f5e24_2040_11eb_9192_0242ac1c0002row6_col14,#T_058f5e24_2040_11eb_9192_0242ac1c0002row6_col15,#T_058f5e24_2040_11eb_9192_0242ac1c0002row6_col16,#T_058f5e24_2040_11eb_9192_0242ac1c0002row6_col17,#T_058f5e24_2040_11eb_9192_0242ac1c0002row7_col0,#T_058f5e24_2040_11eb_9192_0242ac1c0002row7_col1,#T_058f5e24_2040_11eb_9192_0242ac1c0002row7_col2,#T_058f5e24_2040_11eb_9192_0242ac1c0002row7_col3,#T_058f5e24_2040_11eb_9192_0242ac1c0002row7_col4,#T_058f5e24_2040_11eb_9192_0242ac1c0002row7_col5,#T_058f5e24_2040_11eb_9192_0242ac1c0002row7_col6,#T_058f5e24_2040_11eb_9192_0242ac1c0002row7_col13,#T_058f5e24_2040_11eb_9192_0242ac1c0002row7_col14,#T_058f5e24_2040_11eb_9192_0242ac1c0002row7_col15,#T_058f5e24_2040_11eb_9192_0242ac1c0002row7_col16,#T_058f5e24_2040_11eb_9192_0242ac1c0002row7_col17,#T_058f5e24_2040_11eb_9192_0242ac1c0002row8_col0,#T_058f5e24_2040_11eb_9192_0242ac1c0002row8_col1,#T_058f5e24_2040_11eb_9192_0242ac1c0002row8_col2,#T_058f5e24_2040_11eb_9192_0242ac1c0002row8_col3,#T_058f5e24_2040_11eb_9192_0242ac1c0002row8_col4,#T_058f5e24_2040_11eb_9192_0242ac1c0002row8_col13,#T_058f5e24_2040_11eb_9192_0242ac1c0002row8_col14,#T_058f5e24_2040_11eb_9192_0242ac1c0002row8_col15,#T_058f5e24_2040_11eb_9192_0242ac1c0002row8_col16,#T_058f5e24_2040_11eb_9192_0242ac1c0002row8_col17,#T_058f5e24_2040_11eb_9192_0242ac1c0002row9_col0,#T_058f5e24_2040_11eb_9192_0242ac1c0002row9_col1,#T_058f5e24_2040_11eb_9192_0242ac1c0002row9_col2,#T_058f5e24_2040_11eb_9192_0242ac1c0002row9_col3,#T_058f5e24_2040_11eb_9192_0242ac1c0002row9_col4,#T_058f5e24_2040_11eb_9192_0242ac1c0002row9_col16,#T_058f5e24_2040_11eb_9192_0242ac1c0002row9_col17,#T_058f5e24_2040_11eb_9192_0242ac1c0002row10_col0,#T_058f5e24_2040_11eb_9192_0242ac1c0002row10_col1,#T_058f5e24_2040_11eb_9192_0242ac1c0002row10_col2,#T_058f5e24_2040_11eb_9192_0242ac1c0002row10_col3,#T_058f5e24_2040_11eb_9192_0242ac1c0002row10_col4,#T_058f5e24_2040_11eb_9192_0242ac1c0002row10_col5,#T_058f5e24_2040_11eb_9192_0242ac1c0002row10_col6,#T_058f5e24_2040_11eb_9192_0242ac1c0002row10_col17{\n",
              "            font-size:  6pt;\n",
              "            background-color:  #ffffff;\n",
              "            color:  #000000;\n",
              "        }#T_058f5e24_2040_11eb_9192_0242ac1c0002row1_col5{\n",
              "            font-size:  6pt;\n",
              "            background-color:  #efefef;\n",
              "            color:  #000000;\n",
              "        }#T_058f5e24_2040_11eb_9192_0242ac1c0002row1_col6,#T_058f5e24_2040_11eb_9192_0242ac1c0002row1_col13{\n",
              "            font-size:  6pt;\n",
              "            background-color:  #7c7c7c;\n",
              "            color:  #000000;\n",
              "        }#T_058f5e24_2040_11eb_9192_0242ac1c0002row1_col7{\n",
              "            font-size:  6pt;\n",
              "            background-color:  #4a4a4a;\n",
              "            color:  #f1f1f1;\n",
              "        }#T_058f5e24_2040_11eb_9192_0242ac1c0002row1_col8,#T_058f5e24_2040_11eb_9192_0242ac1c0002row1_col9,#T_058f5e24_2040_11eb_9192_0242ac1c0002row1_col10,#T_058f5e24_2040_11eb_9192_0242ac1c0002row2_col5,#T_058f5e24_2040_11eb_9192_0242ac1c0002row2_col6,#T_058f5e24_2040_11eb_9192_0242ac1c0002row2_col7,#T_058f5e24_2040_11eb_9192_0242ac1c0002row2_col11,#T_058f5e24_2040_11eb_9192_0242ac1c0002row2_col12,#T_058f5e24_2040_11eb_9192_0242ac1c0002row2_col13,#T_058f5e24_2040_11eb_9192_0242ac1c0002row3_col4,#T_058f5e24_2040_11eb_9192_0242ac1c0002row3_col12,#T_058f5e24_2040_11eb_9192_0242ac1c0002row3_col13,#T_058f5e24_2040_11eb_9192_0242ac1c0002row4_col1,#T_058f5e24_2040_11eb_9192_0242ac1c0002row4_col2,#T_058f5e24_2040_11eb_9192_0242ac1c0002row4_col3,#T_058f5e24_2040_11eb_9192_0242ac1c0002row4_col12,#T_058f5e24_2040_11eb_9192_0242ac1c0002row4_col13,#T_058f5e24_2040_11eb_9192_0242ac1c0002row5_col12,#T_058f5e24_2040_11eb_9192_0242ac1c0002row6_col11,#T_058f5e24_2040_11eb_9192_0242ac1c0002row9_col11,#T_058f5e24_2040_11eb_9192_0242ac1c0002row10_col11,#T_058f5e24_2040_11eb_9192_0242ac1c0002row10_col12,#T_058f5e24_2040_11eb_9192_0242ac1c0002row10_col13,#T_058f5e24_2040_11eb_9192_0242ac1c0002row10_col14,#T_058f5e24_2040_11eb_9192_0242ac1c0002row10_col15,#T_058f5e24_2040_11eb_9192_0242ac1c0002row10_col16{\n",
              "            font-size:  6pt;\n",
              "            background-color:  #000000;\n",
              "            color:  #f1f1f1;\n",
              "        }#T_058f5e24_2040_11eb_9192_0242ac1c0002row1_col11{\n",
              "            font-size:  6pt;\n",
              "            background-color:  #606060;\n",
              "            color:  #f1f1f1;\n",
              "        }#T_058f5e24_2040_11eb_9192_0242ac1c0002row1_col12{\n",
              "            font-size:  6pt;\n",
              "            background-color:  #4d4d4d;\n",
              "            color:  #f1f1f1;\n",
              "        }#T_058f5e24_2040_11eb_9192_0242ac1c0002row1_col14{\n",
              "            font-size:  6pt;\n",
              "            background-color:  #bbbbbb;\n",
              "            color:  #000000;\n",
              "        }#T_058f5e24_2040_11eb_9192_0242ac1c0002row2_col3{\n",
              "            font-size:  6pt;\n",
              "            background-color:  #e4e4e4;\n",
              "            color:  #000000;\n",
              "        }#T_058f5e24_2040_11eb_9192_0242ac1c0002row2_col4,#T_058f5e24_2040_11eb_9192_0242ac1c0002row8_col6{\n",
              "            font-size:  6pt;\n",
              "            background-color:  #6b6b6b;\n",
              "            color:  #000000;\n",
              "        }#T_058f5e24_2040_11eb_9192_0242ac1c0002row2_col8,#T_058f5e24_2040_11eb_9192_0242ac1c0002row2_col14,#T_058f5e24_2040_11eb_9192_0242ac1c0002row3_col14{\n",
              "            font-size:  6pt;\n",
              "            background-color:  #171717;\n",
              "            color:  #f1f1f1;\n",
              "        }#T_058f5e24_2040_11eb_9192_0242ac1c0002row2_col9,#T_058f5e24_2040_11eb_9192_0242ac1c0002row3_col11{\n",
              "            font-size:  6pt;\n",
              "            background-color:  #4b4b4b;\n",
              "            color:  #f1f1f1;\n",
              "        }#T_058f5e24_2040_11eb_9192_0242ac1c0002row2_col10,#T_058f5e24_2040_11eb_9192_0242ac1c0002row7_col10,#T_058f5e24_2040_11eb_9192_0242ac1c0002row8_col8,#T_058f5e24_2040_11eb_9192_0242ac1c0002row8_col10,#T_058f5e24_2040_11eb_9192_0242ac1c0002row9_col8,#T_058f5e24_2040_11eb_9192_0242ac1c0002row9_col10{\n",
              "            font-size:  6pt;\n",
              "            background-color:  #010101;\n",
              "            color:  #f1f1f1;\n",
              "        }#T_058f5e24_2040_11eb_9192_0242ac1c0002row3_col1{\n",
              "            font-size:  6pt;\n",
              "            background-color:  #272727;\n",
              "            color:  #f1f1f1;\n",
              "        }#T_058f5e24_2040_11eb_9192_0242ac1c0002row3_col2{\n",
              "            font-size:  6pt;\n",
              "            background-color:  #0a0a0a;\n",
              "            color:  #f1f1f1;\n",
              "        }#T_058f5e24_2040_11eb_9192_0242ac1c0002row3_col3{\n",
              "            font-size:  6pt;\n",
              "            background-color:  #050505;\n",
              "            color:  #f1f1f1;\n",
              "        }#T_058f5e24_2040_11eb_9192_0242ac1c0002row3_col5{\n",
              "            font-size:  6pt;\n",
              "            background-color:  #333333;\n",
              "            color:  #f1f1f1;\n",
              "        }#T_058f5e24_2040_11eb_9192_0242ac1c0002row3_col6{\n",
              "            font-size:  6pt;\n",
              "            background-color:  #e6e6e6;\n",
              "            color:  #000000;\n",
              "        }#T_058f5e24_2040_11eb_9192_0242ac1c0002row3_col7,#T_058f5e24_2040_11eb_9192_0242ac1c0002row3_col10{\n",
              "            font-size:  6pt;\n",
              "            background-color:  #fafafa;\n",
              "            color:  #000000;\n",
              "        }#T_058f5e24_2040_11eb_9192_0242ac1c0002row3_col8{\n",
              "            font-size:  6pt;\n",
              "            background-color:  #fbfbfb;\n",
              "            color:  #000000;\n",
              "        }#T_058f5e24_2040_11eb_9192_0242ac1c0002row3_col9{\n",
              "            font-size:  6pt;\n",
              "            background-color:  #fdfdfd;\n",
              "            color:  #000000;\n",
              "        }#T_058f5e24_2040_11eb_9192_0242ac1c0002row4_col4{\n",
              "            font-size:  6pt;\n",
              "            background-color:  #1b1b1b;\n",
              "            color:  #f1f1f1;\n",
              "        }#T_058f5e24_2040_11eb_9192_0242ac1c0002row4_col5{\n",
              "            font-size:  6pt;\n",
              "            background-color:  #e0e0e0;\n",
              "            color:  #000000;\n",
              "        }#T_058f5e24_2040_11eb_9192_0242ac1c0002row4_col11{\n",
              "            font-size:  6pt;\n",
              "            background-color:  #4e4e4e;\n",
              "            color:  #f1f1f1;\n",
              "        }#T_058f5e24_2040_11eb_9192_0242ac1c0002row4_col14{\n",
              "            font-size:  6pt;\n",
              "            background-color:  #767676;\n",
              "            color:  #000000;\n",
              "        }#T_058f5e24_2040_11eb_9192_0242ac1c0002row5_col1{\n",
              "            font-size:  6pt;\n",
              "            background-color:  #fcfcfc;\n",
              "            color:  #000000;\n",
              "        }#T_058f5e24_2040_11eb_9192_0242ac1c0002row5_col2,#T_058f5e24_2040_11eb_9192_0242ac1c0002row5_col3{\n",
              "            font-size:  6pt;\n",
              "            background-color:  #f6f6f6;\n",
              "            color:  #000000;\n",
              "        }#T_058f5e24_2040_11eb_9192_0242ac1c0002row5_col4,#T_058f5e24_2040_11eb_9192_0242ac1c0002row7_col7{\n",
              "            font-size:  6pt;\n",
              "            background-color:  #f8f8f8;\n",
              "            color:  #000000;\n",
              "        }#T_058f5e24_2040_11eb_9192_0242ac1c0002row5_col10,#T_058f5e24_2040_11eb_9192_0242ac1c0002row10_col7{\n",
              "            font-size:  6pt;\n",
              "            background-color:  #e8e8e8;\n",
              "            color:  #000000;\n",
              "        }#T_058f5e24_2040_11eb_9192_0242ac1c0002row5_col11{\n",
              "            font-size:  6pt;\n",
              "            background-color:  #222222;\n",
              "            color:  #f1f1f1;\n",
              "        }#T_058f5e24_2040_11eb_9192_0242ac1c0002row5_col13,#T_058f5e24_2040_11eb_9192_0242ac1c0002row6_col12{\n",
              "            font-size:  6pt;\n",
              "            background-color:  #090909;\n",
              "            color:  #f1f1f1;\n",
              "        }#T_058f5e24_2040_11eb_9192_0242ac1c0002row5_col14{\n",
              "            font-size:  6pt;\n",
              "            background-color:  #d0d0d0;\n",
              "            color:  #000000;\n",
              "        }#T_058f5e24_2040_11eb_9192_0242ac1c0002row6_col10,#T_058f5e24_2040_11eb_9192_0242ac1c0002row7_col11,#T_058f5e24_2040_11eb_9192_0242ac1c0002row9_col6{\n",
              "            font-size:  6pt;\n",
              "            background-color:  #060606;\n",
              "            color:  #f1f1f1;\n",
              "        }#T_058f5e24_2040_11eb_9192_0242ac1c0002row6_col13{\n",
              "            font-size:  6pt;\n",
              "            background-color:  #979797;\n",
              "            color:  #000000;\n",
              "        }#T_058f5e24_2040_11eb_9192_0242ac1c0002row7_col8{\n",
              "            font-size:  6pt;\n",
              "            background-color:  #b6b6b6;\n",
              "            color:  #000000;\n",
              "        }#T_058f5e24_2040_11eb_9192_0242ac1c0002row7_col9{\n",
              "            font-size:  6pt;\n",
              "            background-color:  #252525;\n",
              "            color:  #f1f1f1;\n",
              "        }#T_058f5e24_2040_11eb_9192_0242ac1c0002row7_col12{\n",
              "            font-size:  6pt;\n",
              "            background-color:  #999999;\n",
              "            color:  #000000;\n",
              "        }#T_058f5e24_2040_11eb_9192_0242ac1c0002row8_col5{\n",
              "            font-size:  6pt;\n",
              "            background-color:  #f9f9f9;\n",
              "            color:  #000000;\n",
              "        }#T_058f5e24_2040_11eb_9192_0242ac1c0002row8_col7{\n",
              "            font-size:  6pt;\n",
              "            background-color:  #101010;\n",
              "            color:  #f1f1f1;\n",
              "        }#T_058f5e24_2040_11eb_9192_0242ac1c0002row8_col9,#T_058f5e24_2040_11eb_9192_0242ac1c0002row9_col9{\n",
              "            font-size:  6pt;\n",
              "            background-color:  #020202;\n",
              "            color:  #f1f1f1;\n",
              "        }#T_058f5e24_2040_11eb_9192_0242ac1c0002row8_col11{\n",
              "            font-size:  6pt;\n",
              "            background-color:  #545454;\n",
              "            color:  #f1f1f1;\n",
              "        }#T_058f5e24_2040_11eb_9192_0242ac1c0002row8_col12{\n",
              "            font-size:  6pt;\n",
              "            background-color:  #f1f1f1;\n",
              "            color:  #000000;\n",
              "        }#T_058f5e24_2040_11eb_9192_0242ac1c0002row9_col5{\n",
              "            font-size:  6pt;\n",
              "            background-color:  #f7f7f7;\n",
              "            color:  #000000;\n",
              "        }#T_058f5e24_2040_11eb_9192_0242ac1c0002row9_col7{\n",
              "            font-size:  6pt;\n",
              "            background-color:  #030303;\n",
              "            color:  #f1f1f1;\n",
              "        }#T_058f5e24_2040_11eb_9192_0242ac1c0002row9_col12{\n",
              "            font-size:  6pt;\n",
              "            background-color:  #181818;\n",
              "            color:  #f1f1f1;\n",
              "        }#T_058f5e24_2040_11eb_9192_0242ac1c0002row9_col13{\n",
              "            font-size:  6pt;\n",
              "            background-color:  #303030;\n",
              "            color:  #f1f1f1;\n",
              "        }#T_058f5e24_2040_11eb_9192_0242ac1c0002row9_col14{\n",
              "            font-size:  6pt;\n",
              "            background-color:  #a9a9a9;\n",
              "            color:  #000000;\n",
              "        }#T_058f5e24_2040_11eb_9192_0242ac1c0002row9_col15{\n",
              "            font-size:  6pt;\n",
              "            background-color:  #fefefe;\n",
              "            color:  #000000;\n",
              "        }#T_058f5e24_2040_11eb_9192_0242ac1c0002row10_col8,#T_058f5e24_2040_11eb_9192_0242ac1c0002row10_col9{\n",
              "            font-size:  6pt;\n",
              "            background-color:  #bababa;\n",
              "            color:  #000000;\n",
              "        }#T_058f5e24_2040_11eb_9192_0242ac1c0002row10_col10{\n",
              "            font-size:  6pt;\n",
              "            background-color:  #393939;\n",
              "            color:  #f1f1f1;\n",
              "        }</style><table id=\"T_058f5e24_2040_11eb_9192_0242ac1c0002\" ><thead>    <tr>        <th class=\"blank level0\" ></th>        <th class=\"col_heading level0 col0\" >0</th>        <th class=\"col_heading level0 col1\" >1</th>        <th class=\"col_heading level0 col2\" >2</th>        <th class=\"col_heading level0 col3\" >3</th>        <th class=\"col_heading level0 col4\" >4</th>        <th class=\"col_heading level0 col5\" >5</th>        <th class=\"col_heading level0 col6\" >6</th>        <th class=\"col_heading level0 col7\" >7</th>        <th class=\"col_heading level0 col8\" >8</th>        <th class=\"col_heading level0 col9\" >9</th>        <th class=\"col_heading level0 col10\" >10</th>        <th class=\"col_heading level0 col11\" >11</th>        <th class=\"col_heading level0 col12\" >12</th>        <th class=\"col_heading level0 col13\" >13</th>        <th class=\"col_heading level0 col14\" >14</th>        <th class=\"col_heading level0 col15\" >15</th>        <th class=\"col_heading level0 col16\" >16</th>        <th class=\"col_heading level0 col17\" >17</th>    </tr></thead><tbody>\n",
              "                <tr>\n",
              "                        <th id=\"T_058f5e24_2040_11eb_9192_0242ac1c0002level0_row0\" class=\"row_heading level0 row0\" >0</th>\n",
              "                        <td id=\"T_058f5e24_2040_11eb_9192_0242ac1c0002row0_col0\" class=\"data row0 col0\" >0</td>\n",
              "                        <td id=\"T_058f5e24_2040_11eb_9192_0242ac1c0002row0_col1\" class=\"data row0 col1\" >0</td>\n",
              "                        <td id=\"T_058f5e24_2040_11eb_9192_0242ac1c0002row0_col2\" class=\"data row0 col2\" >0</td>\n",
              "                        <td id=\"T_058f5e24_2040_11eb_9192_0242ac1c0002row0_col3\" class=\"data row0 col3\" >0</td>\n",
              "                        <td id=\"T_058f5e24_2040_11eb_9192_0242ac1c0002row0_col4\" class=\"data row0 col4\" >0</td>\n",
              "                        <td id=\"T_058f5e24_2040_11eb_9192_0242ac1c0002row0_col5\" class=\"data row0 col5\" >0</td>\n",
              "                        <td id=\"T_058f5e24_2040_11eb_9192_0242ac1c0002row0_col6\" class=\"data row0 col6\" >0</td>\n",
              "                        <td id=\"T_058f5e24_2040_11eb_9192_0242ac1c0002row0_col7\" class=\"data row0 col7\" >0</td>\n",
              "                        <td id=\"T_058f5e24_2040_11eb_9192_0242ac1c0002row0_col8\" class=\"data row0 col8\" >0</td>\n",
              "                        <td id=\"T_058f5e24_2040_11eb_9192_0242ac1c0002row0_col9\" class=\"data row0 col9\" >0</td>\n",
              "                        <td id=\"T_058f5e24_2040_11eb_9192_0242ac1c0002row0_col10\" class=\"data row0 col10\" >0</td>\n",
              "                        <td id=\"T_058f5e24_2040_11eb_9192_0242ac1c0002row0_col11\" class=\"data row0 col11\" >0</td>\n",
              "                        <td id=\"T_058f5e24_2040_11eb_9192_0242ac1c0002row0_col12\" class=\"data row0 col12\" >0</td>\n",
              "                        <td id=\"T_058f5e24_2040_11eb_9192_0242ac1c0002row0_col13\" class=\"data row0 col13\" >0</td>\n",
              "                        <td id=\"T_058f5e24_2040_11eb_9192_0242ac1c0002row0_col14\" class=\"data row0 col14\" >0</td>\n",
              "                        <td id=\"T_058f5e24_2040_11eb_9192_0242ac1c0002row0_col15\" class=\"data row0 col15\" >0</td>\n",
              "                        <td id=\"T_058f5e24_2040_11eb_9192_0242ac1c0002row0_col16\" class=\"data row0 col16\" >0</td>\n",
              "                        <td id=\"T_058f5e24_2040_11eb_9192_0242ac1c0002row0_col17\" class=\"data row0 col17\" >0</td>\n",
              "            </tr>\n",
              "            <tr>\n",
              "                        <th id=\"T_058f5e24_2040_11eb_9192_0242ac1c0002level0_row1\" class=\"row_heading level0 row1\" >1</th>\n",
              "                        <td id=\"T_058f5e24_2040_11eb_9192_0242ac1c0002row1_col0\" class=\"data row1 col0\" >0</td>\n",
              "                        <td id=\"T_058f5e24_2040_11eb_9192_0242ac1c0002row1_col1\" class=\"data row1 col1\" >0</td>\n",
              "                        <td id=\"T_058f5e24_2040_11eb_9192_0242ac1c0002row1_col2\" class=\"data row1 col2\" >0</td>\n",
              "                        <td id=\"T_058f5e24_2040_11eb_9192_0242ac1c0002row1_col3\" class=\"data row1 col3\" >0</td>\n",
              "                        <td id=\"T_058f5e24_2040_11eb_9192_0242ac1c0002row1_col4\" class=\"data row1 col4\" >0</td>\n",
              "                        <td id=\"T_058f5e24_2040_11eb_9192_0242ac1c0002row1_col5\" class=\"data row1 col5\" >29</td>\n",
              "                        <td id=\"T_058f5e24_2040_11eb_9192_0242ac1c0002row1_col6\" class=\"data row1 col6\" >150</td>\n",
              "                        <td id=\"T_058f5e24_2040_11eb_9192_0242ac1c0002row1_col7\" class=\"data row1 col7\" >195</td>\n",
              "                        <td id=\"T_058f5e24_2040_11eb_9192_0242ac1c0002row1_col8\" class=\"data row1 col8\" >254</td>\n",
              "                        <td id=\"T_058f5e24_2040_11eb_9192_0242ac1c0002row1_col9\" class=\"data row1 col9\" >255</td>\n",
              "                        <td id=\"T_058f5e24_2040_11eb_9192_0242ac1c0002row1_col10\" class=\"data row1 col10\" >254</td>\n",
              "                        <td id=\"T_058f5e24_2040_11eb_9192_0242ac1c0002row1_col11\" class=\"data row1 col11\" >176</td>\n",
              "                        <td id=\"T_058f5e24_2040_11eb_9192_0242ac1c0002row1_col12\" class=\"data row1 col12\" >193</td>\n",
              "                        <td id=\"T_058f5e24_2040_11eb_9192_0242ac1c0002row1_col13\" class=\"data row1 col13\" >150</td>\n",
              "                        <td id=\"T_058f5e24_2040_11eb_9192_0242ac1c0002row1_col14\" class=\"data row1 col14\" >96</td>\n",
              "                        <td id=\"T_058f5e24_2040_11eb_9192_0242ac1c0002row1_col15\" class=\"data row1 col15\" >0</td>\n",
              "                        <td id=\"T_058f5e24_2040_11eb_9192_0242ac1c0002row1_col16\" class=\"data row1 col16\" >0</td>\n",
              "                        <td id=\"T_058f5e24_2040_11eb_9192_0242ac1c0002row1_col17\" class=\"data row1 col17\" >0</td>\n",
              "            </tr>\n",
              "            <tr>\n",
              "                        <th id=\"T_058f5e24_2040_11eb_9192_0242ac1c0002level0_row2\" class=\"row_heading level0 row2\" >2</th>\n",
              "                        <td id=\"T_058f5e24_2040_11eb_9192_0242ac1c0002row2_col0\" class=\"data row2 col0\" >0</td>\n",
              "                        <td id=\"T_058f5e24_2040_11eb_9192_0242ac1c0002row2_col1\" class=\"data row2 col1\" >0</td>\n",
              "                        <td id=\"T_058f5e24_2040_11eb_9192_0242ac1c0002row2_col2\" class=\"data row2 col2\" >0</td>\n",
              "                        <td id=\"T_058f5e24_2040_11eb_9192_0242ac1c0002row2_col3\" class=\"data row2 col3\" >48</td>\n",
              "                        <td id=\"T_058f5e24_2040_11eb_9192_0242ac1c0002row2_col4\" class=\"data row2 col4\" >166</td>\n",
              "                        <td id=\"T_058f5e24_2040_11eb_9192_0242ac1c0002row2_col5\" class=\"data row2 col5\" >224</td>\n",
              "                        <td id=\"T_058f5e24_2040_11eb_9192_0242ac1c0002row2_col6\" class=\"data row2 col6\" >253</td>\n",
              "                        <td id=\"T_058f5e24_2040_11eb_9192_0242ac1c0002row2_col7\" class=\"data row2 col7\" >253</td>\n",
              "                        <td id=\"T_058f5e24_2040_11eb_9192_0242ac1c0002row2_col8\" class=\"data row2 col8\" >234</td>\n",
              "                        <td id=\"T_058f5e24_2040_11eb_9192_0242ac1c0002row2_col9\" class=\"data row2 col9\" >196</td>\n",
              "                        <td id=\"T_058f5e24_2040_11eb_9192_0242ac1c0002row2_col10\" class=\"data row2 col10\" >253</td>\n",
              "                        <td id=\"T_058f5e24_2040_11eb_9192_0242ac1c0002row2_col11\" class=\"data row2 col11\" >253</td>\n",
              "                        <td id=\"T_058f5e24_2040_11eb_9192_0242ac1c0002row2_col12\" class=\"data row2 col12\" >253</td>\n",
              "                        <td id=\"T_058f5e24_2040_11eb_9192_0242ac1c0002row2_col13\" class=\"data row2 col13\" >253</td>\n",
              "                        <td id=\"T_058f5e24_2040_11eb_9192_0242ac1c0002row2_col14\" class=\"data row2 col14\" >233</td>\n",
              "                        <td id=\"T_058f5e24_2040_11eb_9192_0242ac1c0002row2_col15\" class=\"data row2 col15\" >0</td>\n",
              "                        <td id=\"T_058f5e24_2040_11eb_9192_0242ac1c0002row2_col16\" class=\"data row2 col16\" >0</td>\n",
              "                        <td id=\"T_058f5e24_2040_11eb_9192_0242ac1c0002row2_col17\" class=\"data row2 col17\" >0</td>\n",
              "            </tr>\n",
              "            <tr>\n",
              "                        <th id=\"T_058f5e24_2040_11eb_9192_0242ac1c0002level0_row3\" class=\"row_heading level0 row3\" >3</th>\n",
              "                        <td id=\"T_058f5e24_2040_11eb_9192_0242ac1c0002row3_col0\" class=\"data row3 col0\" >0</td>\n",
              "                        <td id=\"T_058f5e24_2040_11eb_9192_0242ac1c0002row3_col1\" class=\"data row3 col1\" >93</td>\n",
              "                        <td id=\"T_058f5e24_2040_11eb_9192_0242ac1c0002row3_col2\" class=\"data row3 col2\" >244</td>\n",
              "                        <td id=\"T_058f5e24_2040_11eb_9192_0242ac1c0002row3_col3\" class=\"data row3 col3\" >249</td>\n",
              "                        <td id=\"T_058f5e24_2040_11eb_9192_0242ac1c0002row3_col4\" class=\"data row3 col4\" >253</td>\n",
              "                        <td id=\"T_058f5e24_2040_11eb_9192_0242ac1c0002row3_col5\" class=\"data row3 col5\" >187</td>\n",
              "                        <td id=\"T_058f5e24_2040_11eb_9192_0242ac1c0002row3_col6\" class=\"data row3 col6\" >46</td>\n",
              "                        <td id=\"T_058f5e24_2040_11eb_9192_0242ac1c0002row3_col7\" class=\"data row3 col7\" >10</td>\n",
              "                        <td id=\"T_058f5e24_2040_11eb_9192_0242ac1c0002row3_col8\" class=\"data row3 col8\" >8</td>\n",
              "                        <td id=\"T_058f5e24_2040_11eb_9192_0242ac1c0002row3_col9\" class=\"data row3 col9\" >4</td>\n",
              "                        <td id=\"T_058f5e24_2040_11eb_9192_0242ac1c0002row3_col10\" class=\"data row3 col10\" >10</td>\n",
              "                        <td id=\"T_058f5e24_2040_11eb_9192_0242ac1c0002row3_col11\" class=\"data row3 col11\" >194</td>\n",
              "                        <td id=\"T_058f5e24_2040_11eb_9192_0242ac1c0002row3_col12\" class=\"data row3 col12\" >253</td>\n",
              "                        <td id=\"T_058f5e24_2040_11eb_9192_0242ac1c0002row3_col13\" class=\"data row3 col13\" >253</td>\n",
              "                        <td id=\"T_058f5e24_2040_11eb_9192_0242ac1c0002row3_col14\" class=\"data row3 col14\" >233</td>\n",
              "                        <td id=\"T_058f5e24_2040_11eb_9192_0242ac1c0002row3_col15\" class=\"data row3 col15\" >0</td>\n",
              "                        <td id=\"T_058f5e24_2040_11eb_9192_0242ac1c0002row3_col16\" class=\"data row3 col16\" >0</td>\n",
              "                        <td id=\"T_058f5e24_2040_11eb_9192_0242ac1c0002row3_col17\" class=\"data row3 col17\" >0</td>\n",
              "            </tr>\n",
              "            <tr>\n",
              "                        <th id=\"T_058f5e24_2040_11eb_9192_0242ac1c0002level0_row4\" class=\"row_heading level0 row4\" >4</th>\n",
              "                        <td id=\"T_058f5e24_2040_11eb_9192_0242ac1c0002row4_col0\" class=\"data row4 col0\" >0</td>\n",
              "                        <td id=\"T_058f5e24_2040_11eb_9192_0242ac1c0002row4_col1\" class=\"data row4 col1\" >107</td>\n",
              "                        <td id=\"T_058f5e24_2040_11eb_9192_0242ac1c0002row4_col2\" class=\"data row4 col2\" >253</td>\n",
              "                        <td id=\"T_058f5e24_2040_11eb_9192_0242ac1c0002row4_col3\" class=\"data row4 col3\" >253</td>\n",
              "                        <td id=\"T_058f5e24_2040_11eb_9192_0242ac1c0002row4_col4\" class=\"data row4 col4\" >230</td>\n",
              "                        <td id=\"T_058f5e24_2040_11eb_9192_0242ac1c0002row4_col5\" class=\"data row4 col5\" >48</td>\n",
              "                        <td id=\"T_058f5e24_2040_11eb_9192_0242ac1c0002row4_col6\" class=\"data row4 col6\" >0</td>\n",
              "                        <td id=\"T_058f5e24_2040_11eb_9192_0242ac1c0002row4_col7\" class=\"data row4 col7\" >0</td>\n",
              "                        <td id=\"T_058f5e24_2040_11eb_9192_0242ac1c0002row4_col8\" class=\"data row4 col8\" >0</td>\n",
              "                        <td id=\"T_058f5e24_2040_11eb_9192_0242ac1c0002row4_col9\" class=\"data row4 col9\" >0</td>\n",
              "                        <td id=\"T_058f5e24_2040_11eb_9192_0242ac1c0002row4_col10\" class=\"data row4 col10\" >0</td>\n",
              "                        <td id=\"T_058f5e24_2040_11eb_9192_0242ac1c0002row4_col11\" class=\"data row4 col11\" >192</td>\n",
              "                        <td id=\"T_058f5e24_2040_11eb_9192_0242ac1c0002row4_col12\" class=\"data row4 col12\" >253</td>\n",
              "                        <td id=\"T_058f5e24_2040_11eb_9192_0242ac1c0002row4_col13\" class=\"data row4 col13\" >253</td>\n",
              "                        <td id=\"T_058f5e24_2040_11eb_9192_0242ac1c0002row4_col14\" class=\"data row4 col14\" >156</td>\n",
              "                        <td id=\"T_058f5e24_2040_11eb_9192_0242ac1c0002row4_col15\" class=\"data row4 col15\" >0</td>\n",
              "                        <td id=\"T_058f5e24_2040_11eb_9192_0242ac1c0002row4_col16\" class=\"data row4 col16\" >0</td>\n",
              "                        <td id=\"T_058f5e24_2040_11eb_9192_0242ac1c0002row4_col17\" class=\"data row4 col17\" >0</td>\n",
              "            </tr>\n",
              "            <tr>\n",
              "                        <th id=\"T_058f5e24_2040_11eb_9192_0242ac1c0002level0_row5\" class=\"row_heading level0 row5\" >5</th>\n",
              "                        <td id=\"T_058f5e24_2040_11eb_9192_0242ac1c0002row5_col0\" class=\"data row5 col0\" >0</td>\n",
              "                        <td id=\"T_058f5e24_2040_11eb_9192_0242ac1c0002row5_col1\" class=\"data row5 col1\" >3</td>\n",
              "                        <td id=\"T_058f5e24_2040_11eb_9192_0242ac1c0002row5_col2\" class=\"data row5 col2\" >20</td>\n",
              "                        <td id=\"T_058f5e24_2040_11eb_9192_0242ac1c0002row5_col3\" class=\"data row5 col3\" >20</td>\n",
              "                        <td id=\"T_058f5e24_2040_11eb_9192_0242ac1c0002row5_col4\" class=\"data row5 col4\" >15</td>\n",
              "                        <td id=\"T_058f5e24_2040_11eb_9192_0242ac1c0002row5_col5\" class=\"data row5 col5\" >0</td>\n",
              "                        <td id=\"T_058f5e24_2040_11eb_9192_0242ac1c0002row5_col6\" class=\"data row5 col6\" >0</td>\n",
              "                        <td id=\"T_058f5e24_2040_11eb_9192_0242ac1c0002row5_col7\" class=\"data row5 col7\" >0</td>\n",
              "                        <td id=\"T_058f5e24_2040_11eb_9192_0242ac1c0002row5_col8\" class=\"data row5 col8\" >0</td>\n",
              "                        <td id=\"T_058f5e24_2040_11eb_9192_0242ac1c0002row5_col9\" class=\"data row5 col9\" >0</td>\n",
              "                        <td id=\"T_058f5e24_2040_11eb_9192_0242ac1c0002row5_col10\" class=\"data row5 col10\" >43</td>\n",
              "                        <td id=\"T_058f5e24_2040_11eb_9192_0242ac1c0002row5_col11\" class=\"data row5 col11\" >224</td>\n",
              "                        <td id=\"T_058f5e24_2040_11eb_9192_0242ac1c0002row5_col12\" class=\"data row5 col12\" >253</td>\n",
              "                        <td id=\"T_058f5e24_2040_11eb_9192_0242ac1c0002row5_col13\" class=\"data row5 col13\" >245</td>\n",
              "                        <td id=\"T_058f5e24_2040_11eb_9192_0242ac1c0002row5_col14\" class=\"data row5 col14\" >74</td>\n",
              "                        <td id=\"T_058f5e24_2040_11eb_9192_0242ac1c0002row5_col15\" class=\"data row5 col15\" >0</td>\n",
              "                        <td id=\"T_058f5e24_2040_11eb_9192_0242ac1c0002row5_col16\" class=\"data row5 col16\" >0</td>\n",
              "                        <td id=\"T_058f5e24_2040_11eb_9192_0242ac1c0002row5_col17\" class=\"data row5 col17\" >0</td>\n",
              "            </tr>\n",
              "            <tr>\n",
              "                        <th id=\"T_058f5e24_2040_11eb_9192_0242ac1c0002level0_row6\" class=\"row_heading level0 row6\" >6</th>\n",
              "                        <td id=\"T_058f5e24_2040_11eb_9192_0242ac1c0002row6_col0\" class=\"data row6 col0\" >0</td>\n",
              "                        <td id=\"T_058f5e24_2040_11eb_9192_0242ac1c0002row6_col1\" class=\"data row6 col1\" >0</td>\n",
              "                        <td id=\"T_058f5e24_2040_11eb_9192_0242ac1c0002row6_col2\" class=\"data row6 col2\" >0</td>\n",
              "                        <td id=\"T_058f5e24_2040_11eb_9192_0242ac1c0002row6_col3\" class=\"data row6 col3\" >0</td>\n",
              "                        <td id=\"T_058f5e24_2040_11eb_9192_0242ac1c0002row6_col4\" class=\"data row6 col4\" >0</td>\n",
              "                        <td id=\"T_058f5e24_2040_11eb_9192_0242ac1c0002row6_col5\" class=\"data row6 col5\" >0</td>\n",
              "                        <td id=\"T_058f5e24_2040_11eb_9192_0242ac1c0002row6_col6\" class=\"data row6 col6\" >0</td>\n",
              "                        <td id=\"T_058f5e24_2040_11eb_9192_0242ac1c0002row6_col7\" class=\"data row6 col7\" >0</td>\n",
              "                        <td id=\"T_058f5e24_2040_11eb_9192_0242ac1c0002row6_col8\" class=\"data row6 col8\" >0</td>\n",
              "                        <td id=\"T_058f5e24_2040_11eb_9192_0242ac1c0002row6_col9\" class=\"data row6 col9\" >0</td>\n",
              "                        <td id=\"T_058f5e24_2040_11eb_9192_0242ac1c0002row6_col10\" class=\"data row6 col10\" >249</td>\n",
              "                        <td id=\"T_058f5e24_2040_11eb_9192_0242ac1c0002row6_col11\" class=\"data row6 col11\" >253</td>\n",
              "                        <td id=\"T_058f5e24_2040_11eb_9192_0242ac1c0002row6_col12\" class=\"data row6 col12\" >245</td>\n",
              "                        <td id=\"T_058f5e24_2040_11eb_9192_0242ac1c0002row6_col13\" class=\"data row6 col13\" >126</td>\n",
              "                        <td id=\"T_058f5e24_2040_11eb_9192_0242ac1c0002row6_col14\" class=\"data row6 col14\" >0</td>\n",
              "                        <td id=\"T_058f5e24_2040_11eb_9192_0242ac1c0002row6_col15\" class=\"data row6 col15\" >0</td>\n",
              "                        <td id=\"T_058f5e24_2040_11eb_9192_0242ac1c0002row6_col16\" class=\"data row6 col16\" >0</td>\n",
              "                        <td id=\"T_058f5e24_2040_11eb_9192_0242ac1c0002row6_col17\" class=\"data row6 col17\" >0</td>\n",
              "            </tr>\n",
              "            <tr>\n",
              "                        <th id=\"T_058f5e24_2040_11eb_9192_0242ac1c0002level0_row7\" class=\"row_heading level0 row7\" >7</th>\n",
              "                        <td id=\"T_058f5e24_2040_11eb_9192_0242ac1c0002row7_col0\" class=\"data row7 col0\" >0</td>\n",
              "                        <td id=\"T_058f5e24_2040_11eb_9192_0242ac1c0002row7_col1\" class=\"data row7 col1\" >0</td>\n",
              "                        <td id=\"T_058f5e24_2040_11eb_9192_0242ac1c0002row7_col2\" class=\"data row7 col2\" >0</td>\n",
              "                        <td id=\"T_058f5e24_2040_11eb_9192_0242ac1c0002row7_col3\" class=\"data row7 col3\" >0</td>\n",
              "                        <td id=\"T_058f5e24_2040_11eb_9192_0242ac1c0002row7_col4\" class=\"data row7 col4\" >0</td>\n",
              "                        <td id=\"T_058f5e24_2040_11eb_9192_0242ac1c0002row7_col5\" class=\"data row7 col5\" >0</td>\n",
              "                        <td id=\"T_058f5e24_2040_11eb_9192_0242ac1c0002row7_col6\" class=\"data row7 col6\" >0</td>\n",
              "                        <td id=\"T_058f5e24_2040_11eb_9192_0242ac1c0002row7_col7\" class=\"data row7 col7\" >14</td>\n",
              "                        <td id=\"T_058f5e24_2040_11eb_9192_0242ac1c0002row7_col8\" class=\"data row7 col8\" >101</td>\n",
              "                        <td id=\"T_058f5e24_2040_11eb_9192_0242ac1c0002row7_col9\" class=\"data row7 col9\" >223</td>\n",
              "                        <td id=\"T_058f5e24_2040_11eb_9192_0242ac1c0002row7_col10\" class=\"data row7 col10\" >253</td>\n",
              "                        <td id=\"T_058f5e24_2040_11eb_9192_0242ac1c0002row7_col11\" class=\"data row7 col11\" >248</td>\n",
              "                        <td id=\"T_058f5e24_2040_11eb_9192_0242ac1c0002row7_col12\" class=\"data row7 col12\" >124</td>\n",
              "                        <td id=\"T_058f5e24_2040_11eb_9192_0242ac1c0002row7_col13\" class=\"data row7 col13\" >0</td>\n",
              "                        <td id=\"T_058f5e24_2040_11eb_9192_0242ac1c0002row7_col14\" class=\"data row7 col14\" >0</td>\n",
              "                        <td id=\"T_058f5e24_2040_11eb_9192_0242ac1c0002row7_col15\" class=\"data row7 col15\" >0</td>\n",
              "                        <td id=\"T_058f5e24_2040_11eb_9192_0242ac1c0002row7_col16\" class=\"data row7 col16\" >0</td>\n",
              "                        <td id=\"T_058f5e24_2040_11eb_9192_0242ac1c0002row7_col17\" class=\"data row7 col17\" >0</td>\n",
              "            </tr>\n",
              "            <tr>\n",
              "                        <th id=\"T_058f5e24_2040_11eb_9192_0242ac1c0002level0_row8\" class=\"row_heading level0 row8\" >8</th>\n",
              "                        <td id=\"T_058f5e24_2040_11eb_9192_0242ac1c0002row8_col0\" class=\"data row8 col0\" >0</td>\n",
              "                        <td id=\"T_058f5e24_2040_11eb_9192_0242ac1c0002row8_col1\" class=\"data row8 col1\" >0</td>\n",
              "                        <td id=\"T_058f5e24_2040_11eb_9192_0242ac1c0002row8_col2\" class=\"data row8 col2\" >0</td>\n",
              "                        <td id=\"T_058f5e24_2040_11eb_9192_0242ac1c0002row8_col3\" class=\"data row8 col3\" >0</td>\n",
              "                        <td id=\"T_058f5e24_2040_11eb_9192_0242ac1c0002row8_col4\" class=\"data row8 col4\" >0</td>\n",
              "                        <td id=\"T_058f5e24_2040_11eb_9192_0242ac1c0002row8_col5\" class=\"data row8 col5\" >11</td>\n",
              "                        <td id=\"T_058f5e24_2040_11eb_9192_0242ac1c0002row8_col6\" class=\"data row8 col6\" >166</td>\n",
              "                        <td id=\"T_058f5e24_2040_11eb_9192_0242ac1c0002row8_col7\" class=\"data row8 col7\" >239</td>\n",
              "                        <td id=\"T_058f5e24_2040_11eb_9192_0242ac1c0002row8_col8\" class=\"data row8 col8\" >253</td>\n",
              "                        <td id=\"T_058f5e24_2040_11eb_9192_0242ac1c0002row8_col9\" class=\"data row8 col9\" >253</td>\n",
              "                        <td id=\"T_058f5e24_2040_11eb_9192_0242ac1c0002row8_col10\" class=\"data row8 col10\" >253</td>\n",
              "                        <td id=\"T_058f5e24_2040_11eb_9192_0242ac1c0002row8_col11\" class=\"data row8 col11\" >187</td>\n",
              "                        <td id=\"T_058f5e24_2040_11eb_9192_0242ac1c0002row8_col12\" class=\"data row8 col12\" >30</td>\n",
              "                        <td id=\"T_058f5e24_2040_11eb_9192_0242ac1c0002row8_col13\" class=\"data row8 col13\" >0</td>\n",
              "                        <td id=\"T_058f5e24_2040_11eb_9192_0242ac1c0002row8_col14\" class=\"data row8 col14\" >0</td>\n",
              "                        <td id=\"T_058f5e24_2040_11eb_9192_0242ac1c0002row8_col15\" class=\"data row8 col15\" >0</td>\n",
              "                        <td id=\"T_058f5e24_2040_11eb_9192_0242ac1c0002row8_col16\" class=\"data row8 col16\" >0</td>\n",
              "                        <td id=\"T_058f5e24_2040_11eb_9192_0242ac1c0002row8_col17\" class=\"data row8 col17\" >0</td>\n",
              "            </tr>\n",
              "            <tr>\n",
              "                        <th id=\"T_058f5e24_2040_11eb_9192_0242ac1c0002level0_row9\" class=\"row_heading level0 row9\" >9</th>\n",
              "                        <td id=\"T_058f5e24_2040_11eb_9192_0242ac1c0002row9_col0\" class=\"data row9 col0\" >0</td>\n",
              "                        <td id=\"T_058f5e24_2040_11eb_9192_0242ac1c0002row9_col1\" class=\"data row9 col1\" >0</td>\n",
              "                        <td id=\"T_058f5e24_2040_11eb_9192_0242ac1c0002row9_col2\" class=\"data row9 col2\" >0</td>\n",
              "                        <td id=\"T_058f5e24_2040_11eb_9192_0242ac1c0002row9_col3\" class=\"data row9 col3\" >0</td>\n",
              "                        <td id=\"T_058f5e24_2040_11eb_9192_0242ac1c0002row9_col4\" class=\"data row9 col4\" >0</td>\n",
              "                        <td id=\"T_058f5e24_2040_11eb_9192_0242ac1c0002row9_col5\" class=\"data row9 col5\" >16</td>\n",
              "                        <td id=\"T_058f5e24_2040_11eb_9192_0242ac1c0002row9_col6\" class=\"data row9 col6\" >248</td>\n",
              "                        <td id=\"T_058f5e24_2040_11eb_9192_0242ac1c0002row9_col7\" class=\"data row9 col7\" >250</td>\n",
              "                        <td id=\"T_058f5e24_2040_11eb_9192_0242ac1c0002row9_col8\" class=\"data row9 col8\" >253</td>\n",
              "                        <td id=\"T_058f5e24_2040_11eb_9192_0242ac1c0002row9_col9\" class=\"data row9 col9\" >253</td>\n",
              "                        <td id=\"T_058f5e24_2040_11eb_9192_0242ac1c0002row9_col10\" class=\"data row9 col10\" >253</td>\n",
              "                        <td id=\"T_058f5e24_2040_11eb_9192_0242ac1c0002row9_col11\" class=\"data row9 col11\" >253</td>\n",
              "                        <td id=\"T_058f5e24_2040_11eb_9192_0242ac1c0002row9_col12\" class=\"data row9 col12\" >232</td>\n",
              "                        <td id=\"T_058f5e24_2040_11eb_9192_0242ac1c0002row9_col13\" class=\"data row9 col13\" >213</td>\n",
              "                        <td id=\"T_058f5e24_2040_11eb_9192_0242ac1c0002row9_col14\" class=\"data row9 col14\" >111</td>\n",
              "                        <td id=\"T_058f5e24_2040_11eb_9192_0242ac1c0002row9_col15\" class=\"data row9 col15\" >2</td>\n",
              "                        <td id=\"T_058f5e24_2040_11eb_9192_0242ac1c0002row9_col16\" class=\"data row9 col16\" >0</td>\n",
              "                        <td id=\"T_058f5e24_2040_11eb_9192_0242ac1c0002row9_col17\" class=\"data row9 col17\" >0</td>\n",
              "            </tr>\n",
              "            <tr>\n",
              "                        <th id=\"T_058f5e24_2040_11eb_9192_0242ac1c0002level0_row10\" class=\"row_heading level0 row10\" >10</th>\n",
              "                        <td id=\"T_058f5e24_2040_11eb_9192_0242ac1c0002row10_col0\" class=\"data row10 col0\" >0</td>\n",
              "                        <td id=\"T_058f5e24_2040_11eb_9192_0242ac1c0002row10_col1\" class=\"data row10 col1\" >0</td>\n",
              "                        <td id=\"T_058f5e24_2040_11eb_9192_0242ac1c0002row10_col2\" class=\"data row10 col2\" >0</td>\n",
              "                        <td id=\"T_058f5e24_2040_11eb_9192_0242ac1c0002row10_col3\" class=\"data row10 col3\" >0</td>\n",
              "                        <td id=\"T_058f5e24_2040_11eb_9192_0242ac1c0002row10_col4\" class=\"data row10 col4\" >0</td>\n",
              "                        <td id=\"T_058f5e24_2040_11eb_9192_0242ac1c0002row10_col5\" class=\"data row10 col5\" >0</td>\n",
              "                        <td id=\"T_058f5e24_2040_11eb_9192_0242ac1c0002row10_col6\" class=\"data row10 col6\" >0</td>\n",
              "                        <td id=\"T_058f5e24_2040_11eb_9192_0242ac1c0002row10_col7\" class=\"data row10 col7\" >43</td>\n",
              "                        <td id=\"T_058f5e24_2040_11eb_9192_0242ac1c0002row10_col8\" class=\"data row10 col8\" >98</td>\n",
              "                        <td id=\"T_058f5e24_2040_11eb_9192_0242ac1c0002row10_col9\" class=\"data row10 col9\" >98</td>\n",
              "                        <td id=\"T_058f5e24_2040_11eb_9192_0242ac1c0002row10_col10\" class=\"data row10 col10\" >208</td>\n",
              "                        <td id=\"T_058f5e24_2040_11eb_9192_0242ac1c0002row10_col11\" class=\"data row10 col11\" >253</td>\n",
              "                        <td id=\"T_058f5e24_2040_11eb_9192_0242ac1c0002row10_col12\" class=\"data row10 col12\" >253</td>\n",
              "                        <td id=\"T_058f5e24_2040_11eb_9192_0242ac1c0002row10_col13\" class=\"data row10 col13\" >253</td>\n",
              "                        <td id=\"T_058f5e24_2040_11eb_9192_0242ac1c0002row10_col14\" class=\"data row10 col14\" >253</td>\n",
              "                        <td id=\"T_058f5e24_2040_11eb_9192_0242ac1c0002row10_col15\" class=\"data row10 col15\" >187</td>\n",
              "                        <td id=\"T_058f5e24_2040_11eb_9192_0242ac1c0002row10_col16\" class=\"data row10 col16\" >22</td>\n",
              "                        <td id=\"T_058f5e24_2040_11eb_9192_0242ac1c0002row10_col17\" class=\"data row10 col17\" >0</td>\n",
              "            </tr>\n",
              "    </tbody></table>"
            ],
            "text/plain": [
              "<pandas.io.formats.style.Styler at 0x7f492e93ff60>"
            ]
          },
          "metadata": {
            "tags": []
          },
          "execution_count": 14
        }
      ]
    },
    {
      "cell_type": "markdown",
      "metadata": {
        "id": "gYl2HnkJpM29"
      },
      "source": [
        "## Ähnlichkeit der Pixel-Maps\n",
        "Wir errechnen die \"durchschnittliche\" Sieben und die \"durchschnittliche\" Drei. Danach können wir messen, wie weit unsere aktuelle Ziffer von dieser durchschnittlichen 3 bzw. 7 entfernt ist."
      ]
    },
    {
      "cell_type": "code",
      "metadata": {
        "id": "X9KFo6RzpLW7",
        "outputId": "e4556422-6bc7-4d3b-cf89-eaa582443085",
        "colab": {
          "base_uri": "https://localhost:8080/"
        }
      },
      "source": [
        "seven_tensors = [tensor(Image.open(o)) for o in sevens]\n",
        "three_tensors = [tensor(Image.open(o)) for o in threes]\n",
        "len(three_tensors),len(seven_tensors)"
      ],
      "execution_count": 15,
      "outputs": [
        {
          "output_type": "execute_result",
          "data": {
            "text/plain": [
              "(6131, 6265)"
            ]
          },
          "metadata": {
            "tags": []
          },
          "execution_count": 15
        }
      ]
    },
    {
      "cell_type": "code",
      "metadata": {
        "id": "kamk1OtDlYPh",
        "outputId": "ab6d358d-b78e-49d0-ff51-cec87a9a9086",
        "colab": {
          "base_uri": "https://localhost:8080/",
          "height": 85
        }
      },
      "source": [
        "show_image(three_tensors[1]);"
      ],
      "execution_count": 16,
      "outputs": [
        {
          "output_type": "display_data",
          "data": {
            "image/png": "[encoded data removed]",
            "text/plain": [
              "<Figure size 72x72 with 1 Axes>"
            ]
          },
          "metadata": {
            "tags": [],
            "needs_background": "light"
          }
        }
      ]
    },
    {
      "cell_type": "code",
      "metadata": {
        "id": "mHyaaz-UqK49",
        "outputId": "a071f1b5-c43e-431e-f737-6359122ada31",
        "colab": {
          "base_uri": "https://localhost:8080/"
        }
      },
      "source": [
        "stacked_sevens = torch.stack(seven_tensors).float()/255\n",
        "stacked_threes = torch.stack(three_tensors).float()/255\n",
        "stacked_threes.shape"
      ],
      "execution_count": 17,
      "outputs": [
        {
          "output_type": "execute_result",
          "data": {
            "text/plain": [
              "torch.Size([6131, 28, 28])"
            ]
          },
          "metadata": {
            "tags": []
          },
          "execution_count": 17
        }
      ]
    },
    {
      "cell_type": "code",
      "metadata": {
        "id": "b6tkF2phqOsl",
        "outputId": "0744f51e-f229-472b-9fa3-02d616b38760",
        "colab": {
          "base_uri": "https://localhost:8080/"
        }
      },
      "source": [
        "len(stacked_threes.shape)"
      ],
      "execution_count": 18,
      "outputs": [
        {
          "output_type": "execute_result",
          "data": {
            "text/plain": [
              "3"
            ]
          },
          "metadata": {
            "tags": []
          },
          "execution_count": 18
        }
      ]
    },
    {
      "cell_type": "code",
      "metadata": {
        "id": "sr3VfOF9qqd2",
        "outputId": "fa3b6b64-bfad-4db1-d663-2e1cb3bbe1ab",
        "colab": {
          "base_uri": "https://localhost:8080/"
        }
      },
      "source": [
        "stacked_threes.ndim"
      ],
      "execution_count": 19,
      "outputs": [
        {
          "output_type": "execute_result",
          "data": {
            "text/plain": [
              "3"
            ]
          },
          "metadata": {
            "tags": []
          },
          "execution_count": 19
        }
      ]
    },
    {
      "cell_type": "code",
      "metadata": {
        "id": "UrQpOngpq0_1",
        "outputId": "0e21916a-4caa-4795-bd08-68a0a0ebd90b",
        "colab": {
          "base_uri": "https://localhost:8080/",
          "height": 85
        }
      },
      "source": [
        "mean3 = stacked_threes.mean(0)\n",
        "show_image(mean3);"
      ],
      "execution_count": 20,
      "outputs": [
        {
          "output_type": "display_data",
          "data": {
            "image/png": "[encoded data removed]",
            "text/plain": [
              "<Figure size 72x72 with 1 Axes>"
            ]
          },
          "metadata": {
            "tags": [],
            "needs_background": "light"
          }
        }
      ]
    },
    {
      "cell_type": "code",
      "metadata": {
        "id": "gyePbw2jq4eu",
        "outputId": "20cf6c19-d71e-4292-e317-a15dba982209",
        "colab": {
          "base_uri": "https://localhost:8080/",
          "height": 85
        }
      },
      "source": [
        "mean7 = stacked_sevens.mean(0)\n",
        "show_image(mean7);"
      ],
      "execution_count": 21,
      "outputs": [
        {
          "output_type": "display_data",
          "data": {
            "image/png": "[encoded data removed]",
            "text/plain": [
              "<Figure size 72x72 with 1 Axes>"
            ]
          },
          "metadata": {
            "tags": [],
            "needs_background": "light"
          }
        }
      ]
    },
    {
      "cell_type": "code",
      "metadata": {
        "id": "A40qcdj8IlSo",
        "outputId": "f346a794-4eee-4ab6-bb45-527b8f05843f",
        "colab": {
          "base_uri": "https://localhost:8080/",
          "height": 85
        }
      },
      "source": [
        "a_3 = stacked_threes[1]\n",
        "show_image(a_3);"
      ],
      "execution_count": 22,
      "outputs": [
        {
          "output_type": "display_data",
          "data": {
            "image/png": "[encoded data removed]",
            "text/plain": [
              "<Figure size 72x72 with 1 Axes>"
            ]
          },
          "metadata": {
            "tags": [],
            "needs_background": "light"
          }
        }
      ]
    },
    {
      "cell_type": "code",
      "metadata": {
        "id": "eWYdV5QZq7FG",
        "outputId": "5aa04df1-e2cd-4a9f-b1a0-505407211406",
        "colab": {
          "base_uri": "https://localhost:8080/"
        }
      },
      "source": [
        "dist_3_abs = (a_3 - mean3).abs().mean()\n",
        "dist_3_sqr = ((a_3 - mean3)**2).mean().sqrt()\n",
        "dist_3_abs,dist_3_sqr"
      ],
      "execution_count": 23,
      "outputs": [
        {
          "output_type": "execute_result",
          "data": {
            "text/plain": [
              "(tensor(0.1114), tensor(0.2021))"
            ]
          },
          "metadata": {
            "tags": []
          },
          "execution_count": 23
        }
      ]
    },
    {
      "cell_type": "code",
      "metadata": {
        "id": "7s22xqcSH5Zu",
        "outputId": "31638d2e-fb8e-4b04-d0d2-ceb809dbf703",
        "colab": {
          "base_uri": "https://localhost:8080/"
        }
      },
      "source": [
        "dist_7_abs = (a_3 - mean7).abs().mean()\n",
        "dist_7_sqr = ((a_3 - mean7)**2).mean().sqrt()\n",
        "dist_7_abs,dist_7_sqr"
      ],
      "execution_count": 24,
      "outputs": [
        {
          "output_type": "execute_result",
          "data": {
            "text/plain": [
              "(tensor(0.1586), tensor(0.3021))"
            ]
          },
          "metadata": {
            "tags": []
          },
          "execution_count": 24
        }
      ]
    },
    {
      "cell_type": "code",
      "metadata": {
        "id": "hYVItkHGIBEC",
        "outputId": "2f8ac773-6d25-418f-ca14-45d271f1d2fd",
        "colab": {
          "base_uri": "https://localhost:8080/"
        }
      },
      "source": [
        "F.l1_loss(a_3.float(),mean7), F.mse_loss(a_3,mean7).sqrt()"
      ],
      "execution_count": 25,
      "outputs": [
        {
          "output_type": "execute_result",
          "data": {
            "text/plain": [
              "(tensor(0.1586), tensor(0.3021))"
            ]
          },
          "metadata": {
            "tags": []
          },
          "execution_count": 25
        }
      ]
    },
    {
      "cell_type": "code",
      "metadata": {
        "id": "OuYI_KiiILsc",
        "outputId": "d0416644-a876-430c-e959-9b7e8dd8e4ef",
        "colab": {
          "base_uri": "https://localhost:8080/"
        }
      },
      "source": [
        "F.l1_loss(a_3.float(),mean3), F.mse_loss(a_3,mean3).sqrt()"
      ],
      "execution_count": 26,
      "outputs": [
        {
          "output_type": "execute_result",
          "data": {
            "text/plain": [
              "(tensor(0.1114), tensor(0.2021))"
            ]
          },
          "metadata": {
            "tags": []
          },
          "execution_count": 26
        }
      ]
    },
    {
      "cell_type": "markdown",
      "metadata": {
        "id": "H4m8FHx1fhWA"
      },
      "source": [
        "## NumPy Arrays vs. PyTorch Tensors"
      ]
    },
    {
      "cell_type": "code",
      "metadata": {
        "id": "94xFQO7kJ9l8"
      },
      "source": [
        "data = [[1,2,3],[4,5,6]]\n",
        "arr = array (data)\n",
        "tns = tensor(data)"
      ],
      "execution_count": 27,
      "outputs": []
    },
    {
      "cell_type": "code",
      "metadata": {
        "id": "iEfnkzV-fn1F",
        "outputId": "03047c00-2e74-43ed-8c39-e5f9002c6364",
        "colab": {
          "base_uri": "https://localhost:8080/"
        }
      },
      "source": [
        "arr"
      ],
      "execution_count": 28,
      "outputs": [
        {
          "output_type": "execute_result",
          "data": {
            "text/plain": [
              "array([[1, 2, 3],\n",
              "       [4, 5, 6]])"
            ]
          },
          "metadata": {
            "tags": []
          },
          "execution_count": 28
        }
      ]
    },
    {
      "cell_type": "code",
      "metadata": {
        "id": "mk-egLtcfru8",
        "outputId": "dd4f7762-703d-4e02-dcdd-328ec05fdddf",
        "colab": {
          "base_uri": "https://localhost:8080/"
        }
      },
      "source": [
        "tns"
      ],
      "execution_count": 29,
      "outputs": [
        {
          "output_type": "execute_result",
          "data": {
            "text/plain": [
              "tensor([[1, 2, 3],\n",
              "        [4, 5, 6]])"
            ]
          },
          "metadata": {
            "tags": []
          },
          "execution_count": 29
        }
      ]
    },
    {
      "cell_type": "code",
      "metadata": {
        "id": "KUf1W40rfsQ0",
        "outputId": "6ada4279-214d-46a8-cdaa-8b1fea03f938",
        "colab": {
          "base_uri": "https://localhost:8080/"
        }
      },
      "source": [
        "tns[1]"
      ],
      "execution_count": 30,
      "outputs": [
        {
          "output_type": "execute_result",
          "data": {
            "text/plain": [
              "tensor([4, 5, 6])"
            ]
          },
          "metadata": {
            "tags": []
          },
          "execution_count": 30
        }
      ]
    },
    {
      "cell_type": "code",
      "metadata": {
        "id": "qAlammjrfvdk",
        "outputId": "8c52e092-1835-4ffe-db3b-7f85795bc26f",
        "colab": {
          "base_uri": "https://localhost:8080/"
        }
      },
      "source": [
        "tns[:,1]"
      ],
      "execution_count": 31,
      "outputs": [
        {
          "output_type": "execute_result",
          "data": {
            "text/plain": [
              "tensor([2, 5])"
            ]
          },
          "metadata": {
            "tags": []
          },
          "execution_count": 31
        }
      ]
    },
    {
      "cell_type": "code",
      "metadata": {
        "id": "L-bbGoUkfxyN",
        "outputId": "ddac856e-d9b7-4734-e1b5-0dccba74527d",
        "colab": {
          "base_uri": "https://localhost:8080/"
        }
      },
      "source": [
        "tns[1,1:3]"
      ],
      "execution_count": 32,
      "outputs": [
        {
          "output_type": "execute_result",
          "data": {
            "text/plain": [
              "tensor([5, 6])"
            ]
          },
          "metadata": {
            "tags": []
          },
          "execution_count": 32
        }
      ]
    },
    {
      "cell_type": "code",
      "metadata": {
        "id": "V5uBe59XfzO3",
        "outputId": "2b8c271e-f19c-4b07-c8de-228fb346318b",
        "colab": {
          "base_uri": "https://localhost:8080/"
        }
      },
      "source": [
        "tns+1"
      ],
      "execution_count": 33,
      "outputs": [
        {
          "output_type": "execute_result",
          "data": {
            "text/plain": [
              "tensor([[2, 3, 4],\n",
              "        [5, 6, 7]])"
            ]
          },
          "metadata": {
            "tags": []
          },
          "execution_count": 33
        }
      ]
    },
    {
      "cell_type": "code",
      "metadata": {
        "id": "A9FYP-c5f0f9",
        "outputId": "1a3faa95-cae6-47bc-89b8-c10daf075817",
        "colab": {
          "base_uri": "https://localhost:8080/"
        }
      },
      "source": [
        "tns*1.5"
      ],
      "execution_count": 34,
      "outputs": [
        {
          "output_type": "execute_result",
          "data": {
            "text/plain": [
              "tensor([[1.5000, 3.0000, 4.5000],\n",
              "        [6.0000, 7.5000, 9.0000]])"
            ]
          },
          "metadata": {
            "tags": []
          },
          "execution_count": 34
        }
      ]
    },
    {
      "cell_type": "markdown",
      "metadata": {
        "id": "-pkj2DmKn2Aa"
      },
      "source": [
        "## Metrik für das Lernen - Berechnung mittels Broadcasting"
      ]
    },
    {
      "cell_type": "code",
      "metadata": {
        "id": "4HFuzPpEf2Il",
        "outputId": "97f266c5-a883-4dd1-fb17-98a75222129d",
        "colab": {
          "base_uri": "https://localhost:8080/"
        }
      },
      "source": [
        "valid_3_tens = torch.stack([tensor(Image.open(o)) \n",
        "                            for o in (path/'valid'/'3').ls()])\n",
        "valid_3_tens = valid_3_tens.float()/255\n",
        "valid_7_tens = torch.stack([tensor(Image.open(o)) \n",
        "                            for o in (path/'valid'/'7').ls()])\n",
        "valid_7_tens = valid_7_tens.float()/255\n",
        "valid_3_tens.shape,valid_7_tens.shape"
      ],
      "execution_count": 35,
      "outputs": [
        {
          "output_type": "execute_result",
          "data": {
            "text/plain": [
              "(torch.Size([1010, 28, 28]), torch.Size([1028, 28, 28]))"
            ]
          },
          "metadata": {
            "tags": []
          },
          "execution_count": 35
        }
      ]
    },
    {
      "cell_type": "code",
      "metadata": {
        "id": "P2N6Jq-Sod9d",
        "outputId": "ff9fec88-b40c-4931-93a0-66cedd515e5b",
        "colab": {
          "base_uri": "https://localhost:8080/"
        }
      },
      "source": [
        "def mnist_distance(a,b): return (a-b).abs().mean((-1,-2))\n",
        "mnist_distance(a_3, mean3)"
      ],
      "execution_count": 36,
      "outputs": [
        {
          "output_type": "execute_result",
          "data": {
            "text/plain": [
              "tensor(0.1114)"
            ]
          },
          "metadata": {
            "tags": []
          },
          "execution_count": 36
        }
      ]
    },
    {
      "cell_type": "code",
      "metadata": {
        "id": "4zejzLTfoknc",
        "outputId": "a2c50667-a68e-4d9b-8b85-86e73a98b9ce",
        "colab": {
          "base_uri": "https://localhost:8080/"
        }
      },
      "source": [
        "valid_3_dist = mnist_distance(valid_3_tens, mean3)\n",
        "valid_3_dist, valid_3_dist.shape"
      ],
      "execution_count": 37,
      "outputs": [
        {
          "output_type": "execute_result",
          "data": {
            "text/plain": [
              "(tensor([0.1147, 0.1141, 0.1335,  ..., 0.1224, 0.1183, 0.1306]),\n",
              " torch.Size([1010]))"
            ]
          },
          "metadata": {
            "tags": []
          },
          "execution_count": 37
        }
      ]
    },
    {
      "cell_type": "code",
      "metadata": {
        "id": "puj3sq1Vr7II",
        "outputId": "8404b9e8-f75c-4d54-83ec-10223039d94c",
        "colab": {
          "base_uri": "https://localhost:8080/"
        }
      },
      "source": [
        "mean3.shape"
      ],
      "execution_count": 38,
      "outputs": [
        {
          "output_type": "execute_result",
          "data": {
            "text/plain": [
              "torch.Size([28, 28])"
            ]
          },
          "metadata": {
            "tags": []
          },
          "execution_count": 38
        }
      ]
    },
    {
      "cell_type": "code",
      "metadata": {
        "id": "UVzw7GCLo6Yk",
        "outputId": "07e713b5-53b8-4ca3-aa3f-a6eee440ad85",
        "colab": {
          "base_uri": "https://localhost:8080/"
        }
      },
      "source": [
        "# Broadcasting\n",
        "tensor([1,2,3]) + tensor([1, 1, 1])"
      ],
      "execution_count": 39,
      "outputs": [
        {
          "output_type": "execute_result",
          "data": {
            "text/plain": [
              "tensor([2, 3, 4])"
            ]
          },
          "metadata": {
            "tags": []
          },
          "execution_count": 39
        }
      ]
    },
    {
      "cell_type": "code",
      "metadata": {
        "id": "2KV1u2DgpD7t",
        "outputId": "d99d44dd-d63e-4647-bae5-5b5469a91575",
        "colab": {
          "base_uri": "https://localhost:8080/"
        }
      },
      "source": [
        "(valid_3_tens-mean3).shape"
      ],
      "execution_count": 40,
      "outputs": [
        {
          "output_type": "execute_result",
          "data": {
            "text/plain": [
              "torch.Size([1010, 28, 28])"
            ]
          },
          "metadata": {
            "tags": []
          },
          "execution_count": 40
        }
      ]
    },
    {
      "cell_type": "code",
      "metadata": {
        "id": "hIQX3n8npKJE"
      },
      "source": [
        "def is_3(x): return mnist_distance(x,mean3) < mnist_distance(x,mean7)"
      ],
      "execution_count": 41,
      "outputs": []
    },
    {
      "cell_type": "code",
      "metadata": {
        "id": "9klXoRbGprb8",
        "outputId": "d06b2000-b82d-4e42-b4a0-263eda0e0b26",
        "colab": {
          "base_uri": "https://localhost:8080/"
        }
      },
      "source": [
        "is_3(a_3), is_3(a_3).float()"
      ],
      "execution_count": 42,
      "outputs": [
        {
          "output_type": "execute_result",
          "data": {
            "text/plain": [
              "(tensor(True), tensor(1.))"
            ]
          },
          "metadata": {
            "tags": []
          },
          "execution_count": 42
        }
      ]
    },
    {
      "cell_type": "code",
      "metadata": {
        "id": "YaEeE-qXptrM",
        "outputId": "cf35a0f6-d633-483b-d676-187ee4b3cf81",
        "colab": {
          "base_uri": "https://localhost:8080/"
        }
      },
      "source": [
        "is_3(valid_3_tens)"
      ],
      "execution_count": 43,
      "outputs": [
        {
          "output_type": "execute_result",
          "data": {
            "text/plain": [
              "tensor([True, True, True,  ..., True, True, True])"
            ]
          },
          "metadata": {
            "tags": []
          },
          "execution_count": 43
        }
      ]
    },
    {
      "cell_type": "code",
      "metadata": {
        "id": "YXMqCxt-pxu9",
        "outputId": "5f8c2a64-9d8c-4b79-927e-f49e796fbd2d",
        "colab": {
          "base_uri": "https://localhost:8080/"
        }
      },
      "source": [
        "accuracy_3s =      is_3(valid_3_tens).float() .mean()\n",
        "accuracy_7s = (1 - is_3(valid_7_tens).float()).mean()\n",
        "\n",
        "accuracy_3s,accuracy_7s,(accuracy_3s+accuracy_7s)/2"
      ],
      "execution_count": 44,
      "outputs": [
        {
          "output_type": "execute_result",
          "data": {
            "text/plain": [
              "(tensor(0.9168), tensor(0.9854), tensor(0.9511))"
            ]
          },
          "metadata": {
            "tags": []
          },
          "execution_count": 44
        }
      ]
    },
    {
      "cell_type": "markdown",
      "metadata": {
        "id": "Zce5sd5vxsCV"
      },
      "source": [
        "## Stochastic Gradient Descent\n",
        "### Optimierung unserer Loss-Function"
      ]
    },
    {
      "cell_type": "code",
      "metadata": {
        "id": "C-AnZ4z0p5Tk"
      },
      "source": [
        "def f(x): return x**2"
      ],
      "execution_count": 45,
      "outputs": []
    },
    {
      "cell_type": "code",
      "metadata": {
        "id": "V_UCDBHLx4Si",
        "outputId": "ad9e400e-f210-440c-dd9a-e50248bc1df5",
        "colab": {
          "base_uri": "https://localhost:8080/",
          "height": 338
        }
      },
      "source": [
        "plot_function(f, 'x', 'x**2')"
      ],
      "execution_count": 46,
      "outputs": [
        {
          "output_type": "stream",
          "text": [
            "/usr/local/lib/python3.6/dist-packages/fastbook/__init__.py:55: UserWarning: Not providing a value for linspace's steps is deprecated and will throw a runtime error in a future release. This warning will appear only once per process. (Triggered internally at  /pytorch/aten/src/ATen/native/RangeFactories.cpp:23.)\n",
            "  x = torch.linspace(min,max)\n"
          ],
          "name": "stderr"
        },
        {
          "output_type": "display_data",
          "data": {
            "image/png": "[encoded data removed]",
            "text/plain": [
              "<Figure size 432x288 with 1 Axes>"
            ]
          },
          "metadata": {
            "tags": [],
            "needs_background": "light"
          }
        }
      ]
    },
    {
      "cell_type": "code",
      "metadata": {
        "id": "3-GIt-ONx6Lq",
        "outputId": "b877b21c-28c1-4e6b-c103-010681dfcdc3",
        "colab": {
          "base_uri": "https://localhost:8080/",
          "height": 285
        }
      },
      "source": [
        "plot_function(f, 'x', 'x**2')\n",
        "plt.scatter(-1.5, f(-1.5), color='red');"
      ],
      "execution_count": 47,
      "outputs": [
        {
          "output_type": "display_data",
          "data": {
            "image/png": "[encoded data removed]",
            "text/plain": [
              "<Figure size 432x288 with 1 Axes>"
            ]
          },
          "metadata": {
            "tags": [],
            "needs_background": "light"
          }
        }
      ]
    },
    {
      "cell_type": "markdown",
      "metadata": {
        "id": "BPUtq-TW0Wta"
      },
      "source": [
        "### Berechnung der Gradienten"
      ]
    },
    {
      "cell_type": "code",
      "metadata": {
        "id": "jGUpKgcA0Onr"
      },
      "source": [
        "xt = tensor(3.).requires_grad_()"
      ],
      "execution_count": 48,
      "outputs": []
    },
    {
      "cell_type": "code",
      "metadata": {
        "id": "zf7qxzp80356",
        "outputId": "c6d583da-5f7a-44a7-af46-10411df9925b",
        "colab": {
          "base_uri": "https://localhost:8080/"
        }
      },
      "source": [
        "yt = f(xt)\n",
        "yt"
      ],
      "execution_count": 49,
      "outputs": [
        {
          "output_type": "execute_result",
          "data": {
            "text/plain": [
              "tensor(9., grad_fn=<PowBackward0>)"
            ]
          },
          "metadata": {
            "tags": []
          },
          "execution_count": 49
        }
      ]
    },
    {
      "cell_type": "code",
      "metadata": {
        "id": "WkH8y5wR1RJS"
      },
      "source": [
        "yt.backward()"
      ],
      "execution_count": 50,
      "outputs": []
    },
    {
      "cell_type": "code",
      "metadata": {
        "id": "pwjP8POh1VC6",
        "outputId": "05e79220-8d59-4c30-a2bc-c541aa6f2095",
        "colab": {
          "base_uri": "https://localhost:8080/"
        }
      },
      "source": [
        "xt.grad"
      ],
      "execution_count": 51,
      "outputs": [
        {
          "output_type": "execute_result",
          "data": {
            "text/plain": [
              "tensor(6.)"
            ]
          },
          "metadata": {
            "tags": []
          },
          "execution_count": 51
        }
      ]
    },
    {
      "cell_type": "code",
      "metadata": {
        "id": "6BJeu_mL1Ytq",
        "outputId": "01f9bcd3-a6fc-41b0-9fde-0e9747181423",
        "colab": {
          "base_uri": "https://localhost:8080/"
        }
      },
      "source": [
        "xt = tensor([3.,4.,10.]).requires_grad_()\n",
        "xt"
      ],
      "execution_count": 52,
      "outputs": [
        {
          "output_type": "execute_result",
          "data": {
            "text/plain": [
              "tensor([ 3.,  4., 10.], requires_grad=True)"
            ]
          },
          "metadata": {
            "tags": []
          },
          "execution_count": 52
        }
      ]
    },
    {
      "cell_type": "code",
      "metadata": {
        "id": "Af2Mrki21mtD",
        "outputId": "25c674aa-349d-4134-f679-9a3e2ef7be2a",
        "colab": {
          "base_uri": "https://localhost:8080/"
        }
      },
      "source": [
        "def f(x): return (x**2).sum()\n",
        "\n",
        "yt = f(xt)\n",
        "yt"
      ],
      "execution_count": 53,
      "outputs": [
        {
          "output_type": "execute_result",
          "data": {
            "text/plain": [
              "tensor(125., grad_fn=<SumBackward0>)"
            ]
          },
          "metadata": {
            "tags": []
          },
          "execution_count": 53
        }
      ]
    },
    {
      "cell_type": "code",
      "metadata": {
        "id": "zfFXi9LV1rNy",
        "outputId": "a1c9011f-0dde-411d-c61f-082f0c6c8ec7",
        "colab": {
          "base_uri": "https://localhost:8080/"
        }
      },
      "source": [
        "yt.backward()\n",
        "xt.grad"
      ],
      "execution_count": 54,
      "outputs": [
        {
          "output_type": "execute_result",
          "data": {
            "text/plain": [
              "tensor([ 6.,  8., 20.])"
            ]
          },
          "metadata": {
            "tags": []
          },
          "execution_count": 54
        }
      ]
    },
    {
      "cell_type": "markdown",
      "metadata": {
        "id": "Qgk7Et75mtGf"
      },
      "source": [
        "## Vollständiges Beispiel mit Gradient Descent"
      ]
    },
    {
      "cell_type": "code",
      "metadata": {
        "id": "WE2jar5G1uRq",
        "outputId": "ad083714-00ef-47a2-bc69-4e6096713d19",
        "colab": {
          "base_uri": "https://localhost:8080/"
        }
      },
      "source": [
        "time = torch.arange(0,20).float(); time"
      ],
      "execution_count": 55,
      "outputs": [
        {
          "output_type": "execute_result",
          "data": {
            "text/plain": [
              "tensor([ 0.,  1.,  2.,  3.,  4.,  5.,  6.,  7.,  8.,  9., 10., 11., 12., 13., 14., 15., 16., 17., 18., 19.])"
            ]
          },
          "metadata": {
            "tags": []
          },
          "execution_count": 55
        }
      ]
    },
    {
      "cell_type": "code",
      "metadata": {
        "id": "yeVVYF9Cmxz7",
        "outputId": "8e6b44df-b25b-40ec-bd44-0c4f6f159181",
        "colab": {
          "base_uri": "https://localhost:8080/",
          "height": 285
        }
      },
      "source": [
        "speed = torch.randn(20)*3 + 0.75*(time-9.5)**2 + 1\n",
        "plt.scatter(time,speed)"
      ],
      "execution_count": 56,
      "outputs": [
        {
          "output_type": "execute_result",
          "data": {
            "text/plain": [
              "<matplotlib.collections.PathCollection at 0x7f492ce1bf60>"
            ]
          },
          "metadata": {
            "tags": []
          },
          "execution_count": 56
        },
        {
          "output_type": "display_data",
          "data": {
            "image/png": "[encoded data removed]",
            "text/plain": [
              "<Figure size 432x288 with 1 Axes>"
            ]
          },
          "metadata": {
            "tags": [],
            "needs_background": "light"
          }
        }
      ]
    },
    {
      "cell_type": "code",
      "metadata": {
        "id": "r7iEzm0im3EO"
      },
      "source": [
        "def f(t, params):\n",
        "    a,b,c = params\n",
        "    return a*(t**2) + (b*t) + c"
      ],
      "execution_count": 57,
      "outputs": []
    },
    {
      "cell_type": "code",
      "metadata": {
        "id": "HxPvmIu5nD-C"
      },
      "source": [
        "def mse(preds, targets): return ((preds-targets)**2).mean()"
      ],
      "execution_count": 58,
      "outputs": []
    },
    {
      "cell_type": "code",
      "metadata": {
        "id": "mMKtDJEMncjR"
      },
      "source": [
        "# Initialisieren der Parameter\n",
        "params = torch.randn(3).requires_grad_()"
      ],
      "execution_count": 59,
      "outputs": []
    },
    {
      "cell_type": "code",
      "metadata": {
        "id": "yLZN0GGCnhpi"
      },
      "source": [
        "orig_params = params.clone()"
      ],
      "execution_count": 60,
      "outputs": []
    },
    {
      "cell_type": "code",
      "metadata": {
        "id": "hKTtii9nnjyy"
      },
      "source": [
        "# Prognosen unseres Modells berechnen\n",
        "preds = f(time, params)"
      ],
      "execution_count": 61,
      "outputs": []
    },
    {
      "cell_type": "code",
      "metadata": {
        "id": "9DgOoS2AnrUr"
      },
      "source": [
        "def show_preds(preds, ax=None):\n",
        "    if ax is None: ax=plt.subplots()[1]\n",
        "    ax.scatter(time, speed)\n",
        "    ax.scatter(time, to_np(preds), color='red')\n",
        "    ax.set_ylim(-300,100)"
      ],
      "execution_count": 62,
      "outputs": []
    },
    {
      "cell_type": "code",
      "metadata": {
        "id": "RxjKvNOuns4q",
        "outputId": "a9b9992a-ed1d-4694-b7b4-535167e81448",
        "colab": {
          "base_uri": "https://localhost:8080/",
          "height": 273
        }
      },
      "source": [
        "show_preds(preds)"
      ],
      "execution_count": 63,
      "outputs": [
        {
          "output_type": "display_data",
          "data": {
            "image/png": "[encoded data removed]",
            "text/plain": [
              "<Figure size 432x288 with 1 Axes>"
            ]
          },
          "metadata": {
            "tags": [],
            "needs_background": "light"
          }
        }
      ]
    },
    {
      "cell_type": "code",
      "metadata": {
        "id": "XbYPhDIFnuGa",
        "outputId": "4316b274-620c-4262-d33a-885f3bb09ee6",
        "colab": {
          "base_uri": "https://localhost:8080/"
        }
      },
      "source": [
        "# Loss-Funktion berechnen\n",
        "loss = mse(preds, speed)\n",
        "loss"
      ],
      "execution_count": 64,
      "outputs": [
        {
          "output_type": "execute_result",
          "data": {
            "text/plain": [
              "tensor(25823.8086, grad_fn=<MeanBackward0>)"
            ]
          },
          "metadata": {
            "tags": []
          },
          "execution_count": 64
        }
      ]
    },
    {
      "cell_type": "code",
      "metadata": {
        "id": "tZxGLUNCnzV7",
        "outputId": "f1fb1ade-22e8-4b00-ca17-308890f1e5f0",
        "colab": {
          "base_uri": "https://localhost:8080/"
        }
      },
      "source": [
        "# Loss verbessern mithilfe der Gradienten\n",
        "loss.backward()\n",
        "params.grad"
      ],
      "execution_count": 65,
      "outputs": [
        {
          "output_type": "execute_result",
          "data": {
            "text/plain": [
              "tensor([-53195.8633,  -3419.7148,   -253.8908])"
            ]
          },
          "metadata": {
            "tags": []
          },
          "execution_count": 65
        }
      ]
    },
    {
      "cell_type": "code",
      "metadata": {
        "id": "waIYhgYXn7Qy",
        "outputId": "44635697-d0fc-41dc-c0e3-df5e516e59c6",
        "colab": {
          "base_uri": "https://localhost:8080/"
        }
      },
      "source": [
        "params.grad * 1e-5"
      ],
      "execution_count": 66,
      "outputs": [
        {
          "output_type": "execute_result",
          "data": {
            "text/plain": [
              "tensor([-0.5320, -0.0342, -0.0025])"
            ]
          },
          "metadata": {
            "tags": []
          },
          "execution_count": 66
        }
      ]
    },
    {
      "cell_type": "code",
      "metadata": {
        "id": "WGr31jABn8qy",
        "outputId": "df56bcf1-57c0-4744-8c23-0fd57aea5f8d",
        "colab": {
          "base_uri": "https://localhost:8080/"
        }
      },
      "source": [
        "params"
      ],
      "execution_count": 67,
      "outputs": [
        {
          "output_type": "execute_result",
          "data": {
            "text/plain": [
              "tensor([-0.7658, -0.7506,  1.3525], requires_grad=True)"
            ]
          },
          "metadata": {
            "tags": []
          },
          "execution_count": 67
        }
      ]
    },
    {
      "cell_type": "code",
      "metadata": {
        "id": "7JETiU_BoEGq"
      },
      "source": [
        "# Anpassen der Parameter\n",
        "lr = 1e-5\n",
        "params.data -= lr * params.grad.data\n",
        "params.grad = None"
      ],
      "execution_count": 68,
      "outputs": []
    },
    {
      "cell_type": "code",
      "metadata": {
        "id": "KOTV6COGoIvt",
        "outputId": "c96f2907-8e1b-4a27-a00f-5f2e09af1fc3",
        "colab": {
          "base_uri": "https://localhost:8080/"
        }
      },
      "source": [
        "# Wurde die Prognose besser?\n",
        "preds = f(time,params)\n",
        "mse(preds, speed)"
      ],
      "execution_count": 69,
      "outputs": [
        {
          "output_type": "execute_result",
          "data": {
            "text/plain": [
              "tensor(5435.5356, grad_fn=<MeanBackward0>)"
            ]
          },
          "metadata": {
            "tags": []
          },
          "execution_count": 69
        }
      ]
    },
    {
      "cell_type": "code",
      "metadata": {
        "id": "pgM8F4QGoY6y",
        "outputId": "31cf5110-0236-47be-bc05-ec2353c601b6",
        "colab": {
          "base_uri": "https://localhost:8080/",
          "height": 273
        }
      },
      "source": [
        "show_preds(preds)"
      ],
      "execution_count": 70,
      "outputs": [
        {
          "output_type": "display_data",
          "data": {
            "image/png": "[encoded data removed]",
            "text/plain": [
              "<Figure size 432x288 with 1 Axes>"
            ]
          },
          "metadata": {
            "tags": [],
            "needs_background": "light"
          }
        }
      ]
    },
    {
      "cell_type": "code",
      "metadata": {
        "id": "6M6HmS-sob2S"
      },
      "source": [
        "# Nun müssen wir diesen Lernprozess wiederholen\n",
        "def apply_step(params, prn=True):\n",
        "    preds = f(time, params)\n",
        "    loss = mse(preds, speed)\n",
        "    loss.backward()\n",
        "    params.data -= lr * params.grad.data\n",
        "    params.grad = None\n",
        "    if prn: print(loss.item())\n",
        "    return preds"
      ],
      "execution_count": 71,
      "outputs": []
    },
    {
      "cell_type": "code",
      "metadata": {
        "id": "csreDTkUoirS",
        "outputId": "34c1061e-3500-4088-8dd0-7acde0650d3c",
        "colab": {
          "base_uri": "https://localhost:8080/"
        }
      },
      "source": [
        "for i in range(10): apply_step(params)"
      ],
      "execution_count": 72,
      "outputs": [
        {
          "output_type": "stream",
          "text": [
            "5435.53564453125\n",
            "1577.44921875\n",
            "847.3778076171875\n",
            "709.2225341796875\n",
            "683.0758056640625\n",
            "678.1243896484375\n",
            "677.1838989257812\n",
            "677.0023803710938\n",
            "676.9645385742188\n",
            "676.9537353515625\n"
          ],
          "name": "stdout"
        }
      ]
    },
    {
      "cell_type": "code",
      "metadata": {
        "id": "qWMtiCIUokcy"
      },
      "source": [
        "params = orig_params.detach().requires_grad_()"
      ],
      "execution_count": 73,
      "outputs": []
    },
    {
      "cell_type": "code",
      "metadata": {
        "id": "G05pV6BoonAK",
        "outputId": "805b6369-0c52-45e4-9cf6-e52ec4c9d8b7",
        "colab": {
          "base_uri": "https://localhost:8080/",
          "height": 221
        }
      },
      "source": [
        "_,axs = plt.subplots(1,4,figsize=(12,3))\n",
        "for ax in axs: show_preds(apply_step(params, False), ax)\n",
        "plt.tight_layout()"
      ],
      "execution_count": 74,
      "outputs": [
        {
          "output_type": "display_data",
          "data": {
            "image/png": "[encoded data removed]",
            "text/plain": [
              "<Figure size 864x216 with 4 Axes>"
            ]
          },
          "metadata": {
            "tags": [],
            "needs_background": "light"
          }
        }
      ]
    },
    {
      "cell_type": "code",
      "metadata": {
        "id": "8qzzU1QFosXa"
      },
      "source": [
        "# Ende nach 10 Iterationen"
      ],
      "execution_count": 75,
      "outputs": []
    },
    {
      "cell_type": "markdown",
      "metadata": {
        "id": "2zjfo3AdIQA_"
      },
      "source": [
        "## Gradient Descent für unser MNIST Beispiel"
      ]
    },
    {
      "cell_type": "code",
      "metadata": {
        "id": "pm2AMmNzIT3q"
      },
      "source": [
        "train_x = torch.cat([stacked_threes, stacked_sevens]).view(-1, 28*28)"
      ],
      "execution_count": 76,
      "outputs": []
    },
    {
      "cell_type": "code",
      "metadata": {
        "id": "g-a_aUVfIWX0",
        "outputId": "23346b4c-e7ba-498c-c93d-1773748532f7",
        "colab": {
          "base_uri": "https://localhost:8080/"
        }
      },
      "source": [
        "train_y = tensor([1]*len(threes) + [0]*len(sevens)).unsqueeze(1)\n",
        "train_x.shape,train_y.shape"
      ],
      "execution_count": 77,
      "outputs": [
        {
          "output_type": "execute_result",
          "data": {
            "text/plain": [
              "(torch.Size([12396, 784]), torch.Size([12396, 1]))"
            ]
          },
          "metadata": {
            "tags": []
          },
          "execution_count": 77
        }
      ]
    },
    {
      "cell_type": "code",
      "metadata": {
        "id": "GSqa2SNHIY6a",
        "outputId": "291c6c65-af53-4e57-a072-a92d03077624",
        "colab": {
          "base_uri": "https://localhost:8080/"
        }
      },
      "source": [
        "dset = list(zip(train_x,train_y))\n",
        "x,y = dset[0]\n",
        "x.shape,y"
      ],
      "execution_count": 78,
      "outputs": [
        {
          "output_type": "execute_result",
          "data": {
            "text/plain": [
              "(torch.Size([784]), tensor([1]))"
            ]
          },
          "metadata": {
            "tags": []
          },
          "execution_count": 78
        }
      ]
    },
    {
      "cell_type": "code",
      "metadata": {
        "id": "epK7GMC6Icf6"
      },
      "source": [
        "valid_x = torch.cat([valid_3_tens, valid_7_tens]).view(-1, 28*28)\n",
        "valid_y = tensor([1]*len(valid_3_tens) + [0]*len(valid_7_tens)).unsqueeze(1)\n",
        "valid_dset = list(zip(valid_x,valid_y))"
      ],
      "execution_count": 79,
      "outputs": []
    },
    {
      "cell_type": "code",
      "metadata": {
        "id": "R7MjWI8fIhHa"
      },
      "source": [
        "def init_params(size, std=1.0): return (torch.randn(size)*std).requires_grad_()"
      ],
      "execution_count": 80,
      "outputs": []
    },
    {
      "cell_type": "code",
      "metadata": {
        "id": "gDGrKyFDIiwq"
      },
      "source": [
        "weights = init_params((28*28,1))"
      ],
      "execution_count": 81,
      "outputs": []
    },
    {
      "cell_type": "code",
      "metadata": {
        "id": "zPaYh3oeIk5i"
      },
      "source": [
        "bias = init_params(1)"
      ],
      "execution_count": 82,
      "outputs": []
    },
    {
      "cell_type": "code",
      "metadata": {
        "id": "bwJ4gpNSIpb7",
        "outputId": "dff5808b-5fe1-4641-94c4-30455d430753",
        "colab": {
          "base_uri": "https://localhost:8080/"
        }
      },
      "source": [
        "(train_x[0]*weights.T).sum() + bias"
      ],
      "execution_count": 83,
      "outputs": [
        {
          "output_type": "execute_result",
          "data": {
            "text/plain": [
              "tensor([20.2336], grad_fn=<AddBackward0>)"
            ]
          },
          "metadata": {
            "tags": []
          },
          "execution_count": 83
        }
      ]
    },
    {
      "cell_type": "code",
      "metadata": {
        "id": "nQ6UI_HsIwHB",
        "outputId": "2fdf9b05-d6e3-4fbc-8baa-858ca0dbd704",
        "colab": {
          "base_uri": "https://localhost:8080/"
        }
      },
      "source": [
        "def linear1(xb): return xb@weights + bias\n",
        "preds = linear1(train_x)\n",
        "preds"
      ],
      "execution_count": 84,
      "outputs": [
        {
          "output_type": "execute_result",
          "data": {
            "text/plain": [
              "tensor([[20.2336],\n",
              "        [17.0644],\n",
              "        [15.2384],\n",
              "        ...,\n",
              "        [18.3804],\n",
              "        [23.8567],\n",
              "        [28.6816]], grad_fn=<AddBackward0>)"
            ]
          },
          "metadata": {
            "tags": []
          },
          "execution_count": 84
        }
      ]
    },
    {
      "cell_type": "code",
      "metadata": {
        "id": "tv8JabALJjs7",
        "outputId": "806854b7-1131-4b4d-adab-804fc362a1a2",
        "colab": {
          "base_uri": "https://localhost:8080/"
        }
      },
      "source": [
        "corrects = (preds>0.0).float() == train_y\n",
        "corrects"
      ],
      "execution_count": 85,
      "outputs": [
        {
          "output_type": "execute_result",
          "data": {
            "text/plain": [
              "tensor([[ True],\n",
              "        [ True],\n",
              "        [ True],\n",
              "        ...,\n",
              "        [False],\n",
              "        [False],\n",
              "        [False]])"
            ]
          },
          "metadata": {
            "tags": []
          },
          "execution_count": 85
        }
      ]
    },
    {
      "cell_type": "code",
      "metadata": {
        "id": "REuZ86hLJoha",
        "outputId": "ea6c59fa-4ed2-43dd-a71e-55821982ddce",
        "colab": {
          "base_uri": "https://localhost:8080/"
        }
      },
      "source": [
        "corrects.float().mean().item()"
      ],
      "execution_count": 86,
      "outputs": [
        {
          "output_type": "execute_result",
          "data": {
            "text/plain": [
              "0.4912068545818329"
            ]
          },
          "metadata": {
            "tags": []
          },
          "execution_count": 86
        }
      ]
    },
    {
      "cell_type": "code",
      "metadata": {
        "id": "PbALF8OEJqPL"
      },
      "source": [
        "weights[0] *= 1.0001"
      ],
      "execution_count": 87,
      "outputs": []
    },
    {
      "cell_type": "code",
      "metadata": {
        "id": "4rJ6lbpzJtWi",
        "outputId": "91981c41-86bc-4290-db87-1452ade0397b",
        "colab": {
          "base_uri": "https://localhost:8080/"
        }
      },
      "source": [
        "preds = linear1(train_x)\n",
        "((preds>0.0).float() == train_y).float().mean().item()"
      ],
      "execution_count": 88,
      "outputs": [
        {
          "output_type": "execute_result",
          "data": {
            "text/plain": [
              "0.4912068545818329"
            ]
          },
          "metadata": {
            "tags": []
          },
          "execution_count": 88
        }
      ]
    },
    {
      "cell_type": "markdown",
      "metadata": {
        "id": "pmhgTU7dMAME"
      },
      "source": [
        "### Loss Funktion"
      ]
    },
    {
      "cell_type": "code",
      "metadata": {
        "id": "GVQzRY0EJvip"
      },
      "source": [
        "trgts  = tensor([1,0,1])\n",
        "prds   = tensor([0.9, 0.4, 0.2])"
      ],
      "execution_count": 89,
      "outputs": []
    },
    {
      "cell_type": "code",
      "metadata": {
        "id": "g4Vl00QCOSFZ"
      },
      "source": [
        "def mnist_loss(predictions, targets):\n",
        "    return torch.where(targets==1, 1-predictions, predictions).mean()"
      ],
      "execution_count": 90,
      "outputs": []
    },
    {
      "cell_type": "code",
      "metadata": {
        "id": "HBqtKZZmOVKI",
        "outputId": "7e31a6e5-66bc-4a57-da4f-8bbf4cf1ab14",
        "colab": {
          "base_uri": "https://localhost:8080/"
        }
      },
      "source": [
        "torch.where(trgts==1, 1-prds, prds)"
      ],
      "execution_count": 91,
      "outputs": [
        {
          "output_type": "execute_result",
          "data": {
            "text/plain": [
              "tensor([0.1000, 0.4000, 0.8000])"
            ]
          },
          "metadata": {
            "tags": []
          },
          "execution_count": 91
        }
      ]
    },
    {
      "cell_type": "code",
      "metadata": {
        "id": "phRvOamdPbr3",
        "outputId": "f627ce49-4515-49ce-efd9-ccaac85d8410",
        "colab": {
          "base_uri": "https://localhost:8080/"
        }
      },
      "source": [
        "mnist_loss(prds,trgts)"
      ],
      "execution_count": 92,
      "outputs": [
        {
          "output_type": "execute_result",
          "data": {
            "text/plain": [
              "tensor(0.4333)"
            ]
          },
          "metadata": {
            "tags": []
          },
          "execution_count": 92
        }
      ]
    },
    {
      "cell_type": "code",
      "metadata": {
        "id": "14FKM7_tPjPr",
        "outputId": "7e00de4e-30a0-4f68-b201-85675c1b883e",
        "colab": {
          "base_uri": "https://localhost:8080/"
        }
      },
      "source": [
        "mnist_loss(tensor([0.9, 0.4, 0.8]),trgts)"
      ],
      "execution_count": 93,
      "outputs": [
        {
          "output_type": "execute_result",
          "data": {
            "text/plain": [
              "tensor(0.2333)"
            ]
          },
          "metadata": {
            "tags": []
          },
          "execution_count": 93
        }
      ]
    },
    {
      "cell_type": "markdown",
      "metadata": {
        "id": "DfVGi9ToP7mC"
      },
      "source": [
        "### Die Sigmoid Funktion"
      ]
    },
    {
      "cell_type": "code",
      "metadata": {
        "id": "dmUb2w9LPmaz"
      },
      "source": [
        "def sigmoid(x): return 1/(1+torch.exp(-x))"
      ],
      "execution_count": 94,
      "outputs": []
    },
    {
      "cell_type": "code",
      "metadata": {
        "id": "rPg4jyyIQAUb",
        "outputId": "9b5d6ef3-8358-4877-c6fe-5abef6ed3983",
        "colab": {
          "base_uri": "https://localhost:8080/",
          "height": 285
        }
      },
      "source": [
        "plot_function(torch.sigmoid, title='Sigmoid', min=-4, max=4)"
      ],
      "execution_count": 95,
      "outputs": [
        {
          "output_type": "display_data",
          "data": {
            "image/png": "[encoded data removed]",
            "text/plain": [
              "<Figure size 432x288 with 1 Axes>"
            ]
          },
          "metadata": {
            "tags": [],
            "needs_background": "light"
          }
        }
      ]
    },
    {
      "cell_type": "code",
      "metadata": {
        "id": "XcCmgyaDQB0D"
      },
      "source": [
        "def mnist_loss(predictions, targets):\n",
        "    predictions = predictions.sigmoid()\n",
        "    return torch.where(targets==1, 1-predictions, predictions).mean()"
      ],
      "execution_count": 96,
      "outputs": []
    },
    {
      "cell_type": "markdown",
      "metadata": {
        "id": "1q0z7uvARSPJ"
      },
      "source": [
        "## Stochastic Gradient Descent - Mini Batches"
      ]
    },
    {
      "cell_type": "code",
      "metadata": {
        "id": "3HJJZlz6QFs1",
        "outputId": "d9638e0b-a8b3-4a17-b460-f612a148bbba",
        "colab": {
          "base_uri": "https://localhost:8080/"
        }
      },
      "source": [
        "coll = range(15)\n",
        "dl = DataLoader(coll, batch_size=5, shuffle=True)\n",
        "list(dl)"
      ],
      "execution_count": 97,
      "outputs": [
        {
          "output_type": "execute_result",
          "data": {
            "text/plain": [
              "[tensor([ 3, 12,  8, 10,  2]),\n",
              " tensor([ 9,  4,  7, 14,  5]),\n",
              " tensor([ 1, 13,  0,  6, 11])]"
            ]
          },
          "metadata": {
            "tags": []
          },
          "execution_count": 97
        }
      ]
    },
    {
      "cell_type": "code",
      "metadata": {
        "id": "D1ceVf3oRXf7",
        "outputId": "175b7d6f-52fd-4b28-a944-804d8c106916",
        "colab": {
          "base_uri": "https://localhost:8080/"
        }
      },
      "source": [
        "ds = L(enumerate(string.ascii_lowercase))\n",
        "ds"
      ],
      "execution_count": 98,
      "outputs": [
        {
          "output_type": "execute_result",
          "data": {
            "text/plain": [
              "(#26) [(0, 'a'),(1, 'b'),(2, 'c'),(3, 'd'),(4, 'e'),(5, 'f'),(6, 'g'),(7, 'h'),(8, 'i'),(9, 'j')...]"
            ]
          },
          "metadata": {
            "tags": []
          },
          "execution_count": 98
        }
      ]
    },
    {
      "cell_type": "code",
      "metadata": {
        "id": "hJxhwIsNRYsz",
        "outputId": "0354dd77-ffac-441c-999d-435432296cd8",
        "colab": {
          "base_uri": "https://localhost:8080/"
        }
      },
      "source": [
        "dl = DataLoader(ds, batch_size=6, shuffle=True)\n",
        "list(dl)"
      ],
      "execution_count": 99,
      "outputs": [
        {
          "output_type": "execute_result",
          "data": {
            "text/plain": [
              "[(tensor([17, 18, 10, 22,  8, 14]), ('r', 's', 'k', 'w', 'i', 'o')),\n",
              " (tensor([20, 15,  9, 13, 21, 12]), ('u', 'p', 'j', 'n', 'v', 'm')),\n",
              " (tensor([ 7, 25,  6,  5, 11, 23]), ('h', 'z', 'g', 'f', 'l', 'x')),\n",
              " (tensor([ 1,  3,  0, 24, 19, 16]), ('b', 'd', 'a', 'y', 't', 'q')),\n",
              " (tensor([2, 4]), ('c', 'e'))]"
            ]
          },
          "metadata": {
            "tags": []
          },
          "execution_count": 99
        }
      ]
    },
    {
      "cell_type": "markdown",
      "metadata": {
        "id": "ZvcVXk9WTqsp"
      },
      "source": [
        "## Integration von SGD und MiniBatches"
      ]
    },
    {
      "cell_type": "code",
      "metadata": {
        "id": "PLnAHEmMRaLD"
      },
      "source": [
        "weights = init_params((28*28,1))\n",
        "bias = init_params(1)"
      ],
      "execution_count": 100,
      "outputs": []
    },
    {
      "cell_type": "code",
      "metadata": {
        "id": "E-kpudDFTwca",
        "outputId": "2eaef023-fdef-41b1-d134-4a2a31e050f4",
        "colab": {
          "base_uri": "https://localhost:8080/"
        }
      },
      "source": [
        "dl = DataLoader(dset, batch_size=256)\n",
        "xb,yb = first(dl)\n",
        "xb.shape,yb.shape"
      ],
      "execution_count": 101,
      "outputs": [
        {
          "output_type": "execute_result",
          "data": {
            "text/plain": [
              "(torch.Size([256, 784]), torch.Size([256, 1]))"
            ]
          },
          "metadata": {
            "tags": []
          },
          "execution_count": 101
        }
      ]
    },
    {
      "cell_type": "code",
      "metadata": {
        "id": "eoO8UstbT0-l"
      },
      "source": [
        "valid_dl = DataLoader(valid_dset, batch_size=256)"
      ],
      "execution_count": 102,
      "outputs": []
    },
    {
      "cell_type": "code",
      "metadata": {
        "id": "kgLpI3fJT3CT",
        "outputId": "1b58c0bf-abd3-41ff-d543-45c14b57e771",
        "colab": {
          "base_uri": "https://localhost:8080/"
        }
      },
      "source": [
        "batch = train_x[:4]\n",
        "batch.shape"
      ],
      "execution_count": 103,
      "outputs": [
        {
          "output_type": "execute_result",
          "data": {
            "text/plain": [
              "torch.Size([4, 784])"
            ]
          },
          "metadata": {
            "tags": []
          },
          "execution_count": 103
        }
      ]
    },
    {
      "cell_type": "code",
      "metadata": {
        "id": "xil-_1PVT5sU",
        "outputId": "7bbb2939-50a8-4011-e149-8cdf13a94858",
        "colab": {
          "base_uri": "https://localhost:8080/"
        }
      },
      "source": [
        "preds = linear1(batch)\n",
        "preds"
      ],
      "execution_count": 104,
      "outputs": [
        {
          "output_type": "execute_result",
          "data": {
            "text/plain": [
              "tensor([[-2.1876],\n",
              "        [-8.3973],\n",
              "        [ 2.5000],\n",
              "        [-4.9473]], grad_fn=<AddBackward0>)"
            ]
          },
          "metadata": {
            "tags": []
          },
          "execution_count": 104
        }
      ]
    },
    {
      "cell_type": "code",
      "metadata": {
        "id": "gld2oDH4T8NC",
        "outputId": "4ebde1ed-79bb-4913-9b31-51387124defa",
        "colab": {
          "base_uri": "https://localhost:8080/"
        }
      },
      "source": [
        "loss = mnist_loss(preds, train_y[:4])\n",
        "loss"
      ],
      "execution_count": 105,
      "outputs": [
        {
          "output_type": "execute_result",
          "data": {
            "text/plain": [
              "tensor(0.7419, grad_fn=<MeanBackward0>)"
            ]
          },
          "metadata": {
            "tags": []
          },
          "execution_count": 105
        }
      ]
    },
    {
      "cell_type": "code",
      "metadata": {
        "id": "1yLJc1_1UCgC",
        "outputId": "399fe790-a607-470b-b94c-9b5747dc438f",
        "colab": {
          "base_uri": "https://localhost:8080/"
        }
      },
      "source": [
        "loss.backward()\n",
        "weights.grad.shape,weights.grad.mean(),bias.grad"
      ],
      "execution_count": 106,
      "outputs": [
        {
          "output_type": "execute_result",
          "data": {
            "text/plain": [
              "(torch.Size([784, 1]), tensor(-0.0061), tensor([-0.0420]))"
            ]
          },
          "metadata": {
            "tags": []
          },
          "execution_count": 106
        }
      ]
    },
    {
      "cell_type": "code",
      "metadata": {
        "id": "7lPKMgQVUFGa"
      },
      "source": [
        "def calc_grad(xb, yb, model):\n",
        "    preds = model(xb)\n",
        "    loss = mnist_loss(preds, yb)\n",
        "    loss.backward()"
      ],
      "execution_count": 107,
      "outputs": []
    },
    {
      "cell_type": "code",
      "metadata": {
        "id": "T2hsy-qmUHfK",
        "outputId": "cc4e5824-34b3-43c6-9d82-0cbe02b845c1",
        "colab": {
          "base_uri": "https://localhost:8080/"
        }
      },
      "source": [
        "calc_grad(batch, train_y[:4], linear1)\n",
        "weights.grad.mean(),bias.grad"
      ],
      "execution_count": 108,
      "outputs": [
        {
          "output_type": "execute_result",
          "data": {
            "text/plain": [
              "(tensor(-0.0121), tensor([-0.0840]))"
            ]
          },
          "metadata": {
            "tags": []
          },
          "execution_count": 108
        }
      ]
    },
    {
      "cell_type": "code",
      "metadata": {
        "id": "VtAfRUFvUI7k",
        "outputId": "b39c7c22-4f02-4fc7-aa92-6017a474bc09",
        "colab": {
          "base_uri": "https://localhost:8080/"
        }
      },
      "source": [
        "calc_grad(batch, train_y[:4], linear1)\n",
        "weights.grad.mean(),bias.grad"
      ],
      "execution_count": 109,
      "outputs": [
        {
          "output_type": "execute_result",
          "data": {
            "text/plain": [
              "(tensor(-0.0182), tensor([-0.1260]))"
            ]
          },
          "metadata": {
            "tags": []
          },
          "execution_count": 109
        }
      ]
    },
    {
      "cell_type": "code",
      "metadata": {
        "id": "LJEgbH5GUMPa"
      },
      "source": [
        "weights.grad.zero_()\n",
        "bias.grad.zero_();"
      ],
      "execution_count": 110,
      "outputs": []
    },
    {
      "cell_type": "code",
      "metadata": {
        "id": "wj5xmDtrUPsq"
      },
      "source": [
        "def train_epoch(model, lr, params):\n",
        "    for xb,yb in dl:\n",
        "        calc_grad(xb, yb, model)\n",
        "        for p in params:\n",
        "            p.data -= p.grad*lr\n",
        "            p.grad.zero_()"
      ],
      "execution_count": 111,
      "outputs": []
    },
    {
      "cell_type": "code",
      "metadata": {
        "id": "RbgQRr9bUXI6",
        "outputId": "d89f7663-396e-4d6c-feb4-592ab85d8390",
        "colab": {
          "base_uri": "https://localhost:8080/"
        }
      },
      "source": [
        "(preds>0.0).float() == train_y[:4]"
      ],
      "execution_count": 112,
      "outputs": [
        {
          "output_type": "execute_result",
          "data": {
            "text/plain": [
              "tensor([[False],\n",
              "        [False],\n",
              "        [ True],\n",
              "        [False]])"
            ]
          },
          "metadata": {
            "tags": []
          },
          "execution_count": 112
        }
      ]
    },
    {
      "cell_type": "code",
      "metadata": {
        "id": "2MjuLX2gUbZT"
      },
      "source": [
        "def batch_accuracy(xb, yb):\n",
        "    preds = xb.sigmoid()\n",
        "    correct = (preds>0.5) == yb\n",
        "    return correct.float().mean()"
      ],
      "execution_count": 113,
      "outputs": []
    },
    {
      "cell_type": "code",
      "metadata": {
        "id": "360LoCjRUexa",
        "outputId": "8f93394a-571a-43e6-f40f-683d0a64d8ef",
        "colab": {
          "base_uri": "https://localhost:8080/"
        }
      },
      "source": [
        "batch_accuracy(linear1(batch), train_y[:4])"
      ],
      "execution_count": 114,
      "outputs": [
        {
          "output_type": "execute_result",
          "data": {
            "text/plain": [
              "tensor(0.2500)"
            ]
          },
          "metadata": {
            "tags": []
          },
          "execution_count": 114
        }
      ]
    },
    {
      "cell_type": "code",
      "metadata": {
        "id": "JRo6cK_0Ug67"
      },
      "source": [
        "def validate_epoch(model):\n",
        "    accs = [batch_accuracy(model(xb), yb) for xb,yb in valid_dl]\n",
        "    return round(torch.stack(accs).mean().item(), 4)"
      ],
      "execution_count": 115,
      "outputs": []
    },
    {
      "cell_type": "code",
      "metadata": {
        "id": "qooNgASFUjea",
        "outputId": "f14d84cc-1659-4e16-9104-87c3f4dbd9aa",
        "colab": {
          "base_uri": "https://localhost:8080/"
        }
      },
      "source": [
        "validate_epoch(linear1)"
      ],
      "execution_count": 116,
      "outputs": [
        {
          "output_type": "execute_result",
          "data": {
            "text/plain": [
              "0.5262"
            ]
          },
          "metadata": {
            "tags": []
          },
          "execution_count": 116
        }
      ]
    },
    {
      "cell_type": "code",
      "metadata": {
        "id": "fMnVz6PeUliq",
        "outputId": "fac7d46e-cf28-4672-bc2a-b1074ec38859",
        "colab": {
          "base_uri": "https://localhost:8080/"
        }
      },
      "source": [
        "lr = 1.\n",
        "params = weights,bias\n",
        "train_epoch(linear1, lr, params)\n",
        "validate_epoch(linear1)"
      ],
      "execution_count": 117,
      "outputs": [
        {
          "output_type": "execute_result",
          "data": {
            "text/plain": [
              "0.6663"
            ]
          },
          "metadata": {
            "tags": []
          },
          "execution_count": 117
        }
      ]
    },
    {
      "cell_type": "code",
      "metadata": {
        "id": "MS8rhm-NUoVL",
        "outputId": "1f4ebca7-cdec-4a87-f457-de8f5e719d8e",
        "colab": {
          "base_uri": "https://localhost:8080/"
        }
      },
      "source": [
        "for i in range(20):\n",
        "    train_epoch(linear1, lr, params)\n",
        "    print(validate_epoch(linear1), end=' ')"
      ],
      "execution_count": 118,
      "outputs": [
        {
          "output_type": "stream",
          "text": [
            "0.8264 0.8899 0.9182 0.9275 0.9397 0.9466 0.9505 0.9524 0.9558 0.9578 0.9598 0.9608 0.9612 0.9617 0.9632 0.9637 0.9647 0.9656 0.9671 0.9676 "
          ],
          "name": "stdout"
        }
      ]
    },
    {
      "cell_type": "markdown",
      "metadata": {
        "id": "749i91lR8Die"
      },
      "source": [
        "## Einen Optimizer erstellen"
      ]
    },
    {
      "cell_type": "code",
      "metadata": {
        "id": "2opDCMb2Uq48"
      },
      "source": [
        "linear_model = nn.Linear(28*28,1)"
      ],
      "execution_count": 119,
      "outputs": []
    },
    {
      "cell_type": "code",
      "metadata": {
        "id": "X3oWM0mZ8PJ9",
        "outputId": "c9ee3750-18da-4d90-b5d6-c136ac550b40",
        "colab": {
          "base_uri": "https://localhost:8080/"
        }
      },
      "source": [
        "w,b = linear_model.parameters()\n",
        "w.shape,b.shape"
      ],
      "execution_count": 120,
      "outputs": [
        {
          "output_type": "execute_result",
          "data": {
            "text/plain": [
              "(torch.Size([1, 784]), torch.Size([1]))"
            ]
          },
          "metadata": {
            "tags": []
          },
          "execution_count": 120
        }
      ]
    },
    {
      "cell_type": "code",
      "metadata": {
        "id": "BX777J1d8gYf"
      },
      "source": [
        "class BasicOptimizer:\n",
        "    def __init__(self,params,lr): self.params,self.lr = list(params),lr\n",
        "\n",
        "    def step(self, *args, **kwargs):\n",
        "        for p in self.params: p.data -= p.grad.data * self.lr\n",
        "\n",
        "    def zero_grad(self, *args, **kwargs):\n",
        "        for p in self.params: p.grad = None"
      ],
      "execution_count": 121,
      "outputs": []
    },
    {
      "cell_type": "code",
      "metadata": {
        "id": "ArWqIrMp8kN0"
      },
      "source": [
        "opt = BasicOptimizer(linear_model.parameters(), lr)"
      ],
      "execution_count": 122,
      "outputs": []
    },
    {
      "cell_type": "code",
      "metadata": {
        "id": "lagouUrZ8pjS"
      },
      "source": [
        "def train_epoch(model):\n",
        "    for xb,yb in dl:\n",
        "        calc_grad(xb, yb, model)\n",
        "        opt.step()\n",
        "        opt.zero_grad()"
      ],
      "execution_count": 123,
      "outputs": []
    },
    {
      "cell_type": "code",
      "metadata": {
        "id": "wJ2M6cKh8rvH",
        "outputId": "37284cc6-98a7-4d5d-df3e-34040fcf3c08",
        "colab": {
          "base_uri": "https://localhost:8080/"
        }
      },
      "source": [
        "validate_epoch(linear_model)"
      ],
      "execution_count": 124,
      "outputs": [
        {
          "output_type": "execute_result",
          "data": {
            "text/plain": [
              "0.461"
            ]
          },
          "metadata": {
            "tags": []
          },
          "execution_count": 124
        }
      ]
    },
    {
      "cell_type": "code",
      "metadata": {
        "id": "73MCrjDD8tUp"
      },
      "source": [
        "def train_model(model, epochs):\n",
        "    for i in range(epochs):\n",
        "        train_epoch(model)\n",
        "        print(validate_epoch(model), end=' ')"
      ],
      "execution_count": 125,
      "outputs": []
    },
    {
      "cell_type": "code",
      "metadata": {
        "id": "h3ZkdfsJ8xZT",
        "outputId": "2fd20929-e564-47f2-de14-1568a3ce124b",
        "colab": {
          "base_uri": "https://localhost:8080/"
        }
      },
      "source": [
        "train_model(linear_model, 20)"
      ],
      "execution_count": 126,
      "outputs": [
        {
          "output_type": "stream",
          "text": [
            "0.4932 0.7685 0.8554 0.9135 0.9345 0.9482 0.957 0.9633 0.9658 0.9677 0.9697 0.9716 0.9736 0.9746 0.976 0.977 0.9775 0.9775 0.978 0.9785 "
          ],
          "name": "stdout"
        }
      ]
    },
    {
      "cell_type": "code",
      "metadata": {
        "id": "Tf1RflqP8zpW",
        "outputId": "602f2a09-b25f-4634-809e-848d146d724d",
        "colab": {
          "base_uri": "https://localhost:8080/"
        }
      },
      "source": [
        "# using internal fastai StochasticGradientDescent Optimizer\n",
        "linear_model = nn.Linear(28*28,1)\n",
        "opt = SGD(linear_model.parameters(), lr)\n",
        "train_model(linear_model, 20)"
      ],
      "execution_count": 127,
      "outputs": [
        {
          "output_type": "stream",
          "text": [
            "0.4932 0.8179 0.8496 0.914 0.9345 0.9482 0.957 0.9619 0.9658 0.9672 0.9692 0.9712 0.9741 0.9751 0.976 0.9775 0.9775 0.978 0.9785 0.979 "
          ],
          "name": "stdout"
        }
      ]
    },
    {
      "cell_type": "markdown",
      "metadata": {
        "id": "WNYd_QsS9BJV"
      },
      "source": [
        "## Learning mit Fastai"
      ]
    },
    {
      "cell_type": "code",
      "metadata": {
        "id": "NewSp_pY87gg"
      },
      "source": [
        "dls = DataLoaders(dl, valid_dl)"
      ],
      "execution_count": 128,
      "outputs": []
    },
    {
      "cell_type": "code",
      "metadata": {
        "id": "SCKc4_Oj9FUr"
      },
      "source": [
        "learn = Learner(dls, nn.Linear(28*28,1), opt_func=SGD,\n",
        "                loss_func=mnist_loss, metrics=batch_accuracy)"
      ],
      "execution_count": 129,
      "outputs": []
    },
    {
      "cell_type": "code",
      "metadata": {
        "id": "12egE4z09HsP",
        "outputId": "cd3c5488-53cf-4058-fa45-b29ed6380310",
        "colab": {
          "base_uri": "https://localhost:8080/",
          "height": 343
        }
      },
      "source": [
        "learn.fit(10, lr=lr)"
      ],
      "execution_count": 130,
      "outputs": [
        {
          "output_type": "display_data",
          "data": {
            "text/html": [
              "<table border=\"1\" class=\"dataframe\">\n",
              "  <thead>\n",
              "    <tr style=\"text-align: left;\">\n",
              "      <th>epoch</th>\n",
              "      <th>train_loss</th>\n",
              "      <th>valid_loss</th>\n",
              "      <th>batch_accuracy</th>\n",
              "      <th>time</th>\n",
              "    </tr>\n",
              "  </thead>\n",
              "  <tbody>\n",
              "    <tr>\n",
              "      <td>0</td>\n",
              "      <td>0.636709</td>\n",
              "      <td>0.503144</td>\n",
              "      <td>0.495584</td>\n",
              "      <td>00:00</td>\n",
              "    </tr>\n",
              "    <tr>\n",
              "      <td>1</td>\n",
              "      <td>0.429828</td>\n",
              "      <td>0.248517</td>\n",
              "      <td>0.777233</td>\n",
              "      <td>00:00</td>\n",
              "    </tr>\n",
              "    <tr>\n",
              "      <td>2</td>\n",
              "      <td>0.161680</td>\n",
              "      <td>0.155361</td>\n",
              "      <td>0.861629</td>\n",
              "      <td>00:00</td>\n",
              "    </tr>\n",
              "    <tr>\n",
              "      <td>3</td>\n",
              "      <td>0.072948</td>\n",
              "      <td>0.097722</td>\n",
              "      <td>0.917566</td>\n",
              "      <td>00:00</td>\n",
              "    </tr>\n",
              "    <tr>\n",
              "      <td>4</td>\n",
              "      <td>0.040128</td>\n",
              "      <td>0.073205</td>\n",
              "      <td>0.936212</td>\n",
              "      <td>00:00</td>\n",
              "    </tr>\n",
              "    <tr>\n",
              "      <td>5</td>\n",
              "      <td>0.027210</td>\n",
              "      <td>0.059466</td>\n",
              "      <td>0.950442</td>\n",
              "      <td>00:00</td>\n",
              "    </tr>\n",
              "    <tr>\n",
              "      <td>6</td>\n",
              "      <td>0.021837</td>\n",
              "      <td>0.050799</td>\n",
              "      <td>0.957802</td>\n",
              "      <td>00:00</td>\n",
              "    </tr>\n",
              "    <tr>\n",
              "      <td>7</td>\n",
              "      <td>0.019398</td>\n",
              "      <td>0.044980</td>\n",
              "      <td>0.964181</td>\n",
              "      <td>00:00</td>\n",
              "    </tr>\n",
              "    <tr>\n",
              "      <td>8</td>\n",
              "      <td>0.018122</td>\n",
              "      <td>0.040853</td>\n",
              "      <td>0.966143</td>\n",
              "      <td>00:00</td>\n",
              "    </tr>\n",
              "    <tr>\n",
              "      <td>9</td>\n",
              "      <td>0.017330</td>\n",
              "      <td>0.037788</td>\n",
              "      <td>0.968106</td>\n",
              "      <td>00:00</td>\n",
              "    </tr>\n",
              "  </tbody>\n",
              "</table>"
            ],
            "text/plain": [
              "<IPython.core.display.HTML object>"
            ]
          },
          "metadata": {
            "tags": []
          }
        }
      ]
    },
    {
      "cell_type": "markdown",
      "metadata": {
        "id": "8vXFJekiEpl6"
      },
      "source": [
        "## Non-Linearity"
      ]
    },
    {
      "cell_type": "code",
      "metadata": {
        "id": "pJhfhYzU9JCu"
      },
      "source": [
        "def simple_net(xb): \n",
        "    res = xb@w1 + b1\n",
        "    res = res.max(tensor(0.0))\n",
        "    res = res@w2 + b2\n",
        "    return res"
      ],
      "execution_count": 131,
      "outputs": []
    },
    {
      "cell_type": "code",
      "metadata": {
        "id": "rgdZ0iO-9L85"
      },
      "source": [
        "w1 = init_params((28*28,30))\n",
        "b1 = init_params(30)\n",
        "w2 = init_params((30,1))\n",
        "w2 = init_params(1)"
      ],
      "execution_count": 133,
      "outputs": []
    },
    {
      "cell_type": "markdown",
      "metadata": {
        "id": "tRJrhMB8FjXm"
      },
      "source": [
        "**The Rectified Linear Unit (RELU)**"
      ]
    },
    {
      "cell_type": "code",
      "metadata": {
        "id": "PGaLIg57EwQh",
        "outputId": "76ed9388-f7e0-4cf1-8979-3492065ea925",
        "colab": {
          "base_uri": "https://localhost:8080/",
          "height": 268
        }
      },
      "source": [
        "plot_function(F.relu)"
      ],
      "execution_count": 134,
      "outputs": [
        {
          "output_type": "display_data",
          "data": {
            "image/png": "[encoded data removed]",
            "text/plain": [
              "<Figure size 432x288 with 1 Axes>"
            ]
          },
          "metadata": {
            "tags": [],
            "needs_background": "light"
          }
        }
      ]
    },
    {
      "cell_type": "markdown",
      "metadata": {
        "id": "KfBDaAsYFtkt"
      },
      "source": [
        "**Approximation Theorem**"
      ]
    },
    {
      "cell_type": "code",
      "metadata": {
        "id": "LjkM6Zf2EyxC"
      },
      "source": [
        "simple_net = nn.Sequential(\n",
        "    nn.Linear(28*28,30),\n",
        "    nn.ReLU(),\n",
        "    nn.Linear(30,1)\n",
        ")"
      ],
      "execution_count": 135,
      "outputs": []
    },
    {
      "cell_type": "code",
      "metadata": {
        "id": "5vB39wTXE1vy"
      },
      "source": [
        "learn = Learner(dls, simple_net, opt_func=SGD,\n",
        "                loss_func=mnist_loss, metrics=batch_accuracy)"
      ],
      "execution_count": 136,
      "outputs": []
    },
    {
      "cell_type": "code",
      "metadata": {
        "id": "z2qfnBTmFHOC",
        "outputId": "05832693-a942-4fe8-b483-c470c50fc537",
        "colab": {
          "base_uri": "https://localhost:8080/",
          "height": 1000
        }
      },
      "source": [
        "learn.fit(40, 0.1)"
      ],
      "execution_count": 137,
      "outputs": [
        {
          "output_type": "display_data",
          "data": {
            "text/html": [
              "<table border=\"1\" class=\"dataframe\">\n",
              "  <thead>\n",
              "    <tr style=\"text-align: left;\">\n",
              "      <th>epoch</th>\n",
              "      <th>train_loss</th>\n",
              "      <th>valid_loss</th>\n",
              "      <th>batch_accuracy</th>\n",
              "      <th>time</th>\n",
              "    </tr>\n",
              "  </thead>\n",
              "  <tbody>\n",
              "    <tr>\n",
              "      <td>0</td>\n",
              "      <td>0.281497</td>\n",
              "      <td>0.410105</td>\n",
              "      <td>0.505888</td>\n",
              "      <td>00:00</td>\n",
              "    </tr>\n",
              "    <tr>\n",
              "      <td>1</td>\n",
              "      <td>0.135123</td>\n",
              "      <td>0.221296</td>\n",
              "      <td>0.810599</td>\n",
              "      <td>00:00</td>\n",
              "    </tr>\n",
              "    <tr>\n",
              "      <td>2</td>\n",
              "      <td>0.076352</td>\n",
              "      <td>0.113494</td>\n",
              "      <td>0.916585</td>\n",
              "      <td>00:00</td>\n",
              "    </tr>\n",
              "    <tr>\n",
              "      <td>3</td>\n",
              "      <td>0.051061</td>\n",
              "      <td>0.077187</td>\n",
              "      <td>0.942591</td>\n",
              "      <td>00:00</td>\n",
              "    </tr>\n",
              "    <tr>\n",
              "      <td>4</td>\n",
              "      <td>0.039184</td>\n",
              "      <td>0.060455</td>\n",
              "      <td>0.955839</td>\n",
              "      <td>00:00</td>\n",
              "    </tr>\n",
              "    <tr>\n",
              "      <td>5</td>\n",
              "      <td>0.033039</td>\n",
              "      <td>0.051038</td>\n",
              "      <td>0.963199</td>\n",
              "      <td>00:00</td>\n",
              "    </tr>\n",
              "    <tr>\n",
              "      <td>6</td>\n",
              "      <td>0.029466</td>\n",
              "      <td>0.045099</td>\n",
              "      <td>0.965162</td>\n",
              "      <td>00:00</td>\n",
              "    </tr>\n",
              "    <tr>\n",
              "      <td>7</td>\n",
              "      <td>0.027121</td>\n",
              "      <td>0.041028</td>\n",
              "      <td>0.967615</td>\n",
              "      <td>00:00</td>\n",
              "    </tr>\n",
              "    <tr>\n",
              "      <td>8</td>\n",
              "      <td>0.025420</td>\n",
              "      <td>0.038060</td>\n",
              "      <td>0.968597</td>\n",
              "      <td>00:00</td>\n",
              "    </tr>\n",
              "    <tr>\n",
              "      <td>9</td>\n",
              "      <td>0.024097</td>\n",
              "      <td>0.035784</td>\n",
              "      <td>0.970069</td>\n",
              "      <td>00:00</td>\n",
              "    </tr>\n",
              "    <tr>\n",
              "      <td>10</td>\n",
              "      <td>0.023020</td>\n",
              "      <td>0.033972</td>\n",
              "      <td>0.971541</td>\n",
              "      <td>00:00</td>\n",
              "    </tr>\n",
              "    <tr>\n",
              "      <td>11</td>\n",
              "      <td>0.022118</td>\n",
              "      <td>0.032484</td>\n",
              "      <td>0.973013</td>\n",
              "      <td>00:00</td>\n",
              "    </tr>\n",
              "    <tr>\n",
              "      <td>12</td>\n",
              "      <td>0.021348</td>\n",
              "      <td>0.031229</td>\n",
              "      <td>0.973994</td>\n",
              "      <td>00:00</td>\n",
              "    </tr>\n",
              "    <tr>\n",
              "      <td>13</td>\n",
              "      <td>0.020681</td>\n",
              "      <td>0.030151</td>\n",
              "      <td>0.974975</td>\n",
              "      <td>00:00</td>\n",
              "    </tr>\n",
              "    <tr>\n",
              "      <td>14</td>\n",
              "      <td>0.020095</td>\n",
              "      <td>0.029210</td>\n",
              "      <td>0.975957</td>\n",
              "      <td>00:00</td>\n",
              "    </tr>\n",
              "    <tr>\n",
              "      <td>15</td>\n",
              "      <td>0.019577</td>\n",
              "      <td>0.028379</td>\n",
              "      <td>0.976448</td>\n",
              "      <td>00:00</td>\n",
              "    </tr>\n",
              "    <tr>\n",
              "      <td>16</td>\n",
              "      <td>0.019113</td>\n",
              "      <td>0.027640</td>\n",
              "      <td>0.977429</td>\n",
              "      <td>00:00</td>\n",
              "    </tr>\n",
              "    <tr>\n",
              "      <td>17</td>\n",
              "      <td>0.018695</td>\n",
              "      <td>0.026977</td>\n",
              "      <td>0.977429</td>\n",
              "      <td>00:00</td>\n",
              "    </tr>\n",
              "    <tr>\n",
              "      <td>18</td>\n",
              "      <td>0.018315</td>\n",
              "      <td>0.026380</td>\n",
              "      <td>0.978410</td>\n",
              "      <td>00:00</td>\n",
              "    </tr>\n",
              "    <tr>\n",
              "      <td>19</td>\n",
              "      <td>0.017969</td>\n",
              "      <td>0.025838</td>\n",
              "      <td>0.978901</td>\n",
              "      <td>00:00</td>\n",
              "    </tr>\n",
              "    <tr>\n",
              "      <td>20</td>\n",
              "      <td>0.017650</td>\n",
              "      <td>0.025346</td>\n",
              "      <td>0.978901</td>\n",
              "      <td>00:00</td>\n",
              "    </tr>\n",
              "    <tr>\n",
              "      <td>21</td>\n",
              "      <td>0.017355</td>\n",
              "      <td>0.024895</td>\n",
              "      <td>0.979882</td>\n",
              "      <td>00:00</td>\n",
              "    </tr>\n",
              "    <tr>\n",
              "      <td>22</td>\n",
              "      <td>0.017081</td>\n",
              "      <td>0.024483</td>\n",
              "      <td>0.980373</td>\n",
              "      <td>00:00</td>\n",
              "    </tr>\n",
              "    <tr>\n",
              "      <td>23</td>\n",
              "      <td>0.016825</td>\n",
              "      <td>0.024105</td>\n",
              "      <td>0.980864</td>\n",
              "      <td>00:00</td>\n",
              "    </tr>\n",
              "    <tr>\n",
              "      <td>24</td>\n",
              "      <td>0.016586</td>\n",
              "      <td>0.023756</td>\n",
              "      <td>0.980864</td>\n",
              "      <td>00:00</td>\n",
              "    </tr>\n",
              "    <tr>\n",
              "      <td>25</td>\n",
              "      <td>0.016360</td>\n",
              "      <td>0.023433</td>\n",
              "      <td>0.980864</td>\n",
              "      <td>00:00</td>\n",
              "    </tr>\n",
              "    <tr>\n",
              "      <td>26</td>\n",
              "      <td>0.016148</td>\n",
              "      <td>0.023135</td>\n",
              "      <td>0.981354</td>\n",
              "      <td>00:00</td>\n",
              "    </tr>\n",
              "    <tr>\n",
              "      <td>27</td>\n",
              "      <td>0.015948</td>\n",
              "      <td>0.022858</td>\n",
              "      <td>0.981845</td>\n",
              "      <td>00:00</td>\n",
              "    </tr>\n",
              "    <tr>\n",
              "      <td>28</td>\n",
              "      <td>0.015758</td>\n",
              "      <td>0.022601</td>\n",
              "      <td>0.982336</td>\n",
              "      <td>00:00</td>\n",
              "    </tr>\n",
              "    <tr>\n",
              "      <td>29</td>\n",
              "      <td>0.015577</td>\n",
              "      <td>0.022362</td>\n",
              "      <td>0.982336</td>\n",
              "      <td>00:00</td>\n",
              "    </tr>\n",
              "    <tr>\n",
              "      <td>30</td>\n",
              "      <td>0.015406</td>\n",
              "      <td>0.022139</td>\n",
              "      <td>0.982336</td>\n",
              "      <td>00:00</td>\n",
              "    </tr>\n",
              "    <tr>\n",
              "      <td>31</td>\n",
              "      <td>0.015242</td>\n",
              "      <td>0.021931</td>\n",
              "      <td>0.982826</td>\n",
              "      <td>00:00</td>\n",
              "    </tr>\n",
              "    <tr>\n",
              "      <td>32</td>\n",
              "      <td>0.015085</td>\n",
              "      <td>0.021736</td>\n",
              "      <td>0.982826</td>\n",
              "      <td>00:00</td>\n",
              "    </tr>\n",
              "    <tr>\n",
              "      <td>33</td>\n",
              "      <td>0.014936</td>\n",
              "      <td>0.021553</td>\n",
              "      <td>0.982826</td>\n",
              "      <td>00:00</td>\n",
              "    </tr>\n",
              "    <tr>\n",
              "      <td>34</td>\n",
              "      <td>0.014793</td>\n",
              "      <td>0.021380</td>\n",
              "      <td>0.982826</td>\n",
              "      <td>00:00</td>\n",
              "    </tr>\n",
              "    <tr>\n",
              "      <td>35</td>\n",
              "      <td>0.014655</td>\n",
              "      <td>0.021218</td>\n",
              "      <td>0.982826</td>\n",
              "      <td>00:00</td>\n",
              "    </tr>\n",
              "    <tr>\n",
              "      <td>36</td>\n",
              "      <td>0.014522</td>\n",
              "      <td>0.021065</td>\n",
              "      <td>0.982826</td>\n",
              "      <td>00:00</td>\n",
              "    </tr>\n",
              "    <tr>\n",
              "      <td>37</td>\n",
              "      <td>0.014395</td>\n",
              "      <td>0.020920</td>\n",
              "      <td>0.983317</td>\n",
              "      <td>00:00</td>\n",
              "    </tr>\n",
              "    <tr>\n",
              "      <td>38</td>\n",
              "      <td>0.014271</td>\n",
              "      <td>0.020783</td>\n",
              "      <td>0.983317</td>\n",
              "      <td>00:00</td>\n",
              "    </tr>\n",
              "    <tr>\n",
              "      <td>39</td>\n",
              "      <td>0.014152</td>\n",
              "      <td>0.020652</td>\n",
              "      <td>0.983317</td>\n",
              "      <td>00:00</td>\n",
              "    </tr>\n",
              "  </tbody>\n",
              "</table>"
            ],
            "text/plain": [
              "<IPython.core.display.HTML object>"
            ]
          },
          "metadata": {
            "tags": []
          }
        }
      ]
    },
    {
      "cell_type": "code",
      "metadata": {
        "id": "9h-47uGqFJ-7",
        "outputId": "a7fa3da4-232a-4af3-9507-a10db5066b8e",
        "colab": {
          "base_uri": "https://localhost:8080/",
          "height": 270
        }
      },
      "source": [
        "plt.plot(L(learn.recorder.values).itemgot(2));"
      ],
      "execution_count": 138,
      "outputs": [
        {
          "output_type": "display_data",
          "data": {
            "image/png": "[encoded data removed]",
            "text/plain": [
              "<Figure size 432x288 with 1 Axes>"
            ]
          },
          "metadata": {
            "tags": [],
            "needs_background": "light"
          }
        }
      ]
    },
    {
      "cell_type": "code",
      "metadata": {
        "id": "ymP8SunJFN5q",
        "outputId": "7c014cea-2f2d-4904-fc62-3e25c8a9a6bf",
        "colab": {
          "base_uri": "https://localhost:8080/"
        }
      },
      "source": [
        "learn.recorder.values[-1][2]"
      ],
      "execution_count": 139,
      "outputs": [
        {
          "output_type": "execute_result",
          "data": {
            "text/plain": [
              "0.983316957950592"
            ]
          },
          "metadata": {
            "tags": []
          },
          "execution_count": 139
        }
      ]
    },
    {
      "cell_type": "code",
      "metadata": {
        "id": "ROtuZwYCFP5L"
      },
      "source": [
        ""
      ],
      "execution_count": null,
      "outputs": []
    }
  ]
}