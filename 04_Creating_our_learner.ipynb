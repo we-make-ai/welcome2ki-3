{
  "nbformat": 4,
  "nbformat_minor": 0,
  "metadata": {
    "colab": {
      "name": "04_Creating_our_learner.ipynb",
      "provenance": []
    },
    "kernelspec": {
      "name": "python3",
      "display_name": "Python 3"
    },
    "accelerator": "GPU",
    "widgets": {
      "application/vnd.jupyter.widget-state+json": {
        "ade823d4d1cc403aaf79a4fff0bb90fd": {
          "model_module": "@jupyter-widgets/controls",
          "model_name": "HBoxModel",
          "state": {
            "_view_name": "HBoxView",
            "_dom_classes": [],
            "_model_name": "HBoxModel",
            "_view_module": "@jupyter-widgets/controls",
            "_model_module_version": "1.5.0",
            "_view_count": null,
            "_view_module_version": "1.5.0",
            "box_style": "",
            "layout": "IPY_MODEL_89b190fb1f824bfdae1d0e5467c145f4",
            "_model_module": "@jupyter-widgets/controls",
            "children": [
              "IPY_MODEL_2034992040c84b53b25d786e9e704830",
              "IPY_MODEL_915c5bdbfc1842d48280122f7e9e86c3"
            ]
          }
        },
        "89b190fb1f824bfdae1d0e5467c145f4": {
          "model_module": "@jupyter-widgets/base",
          "model_name": "LayoutModel",
          "state": {
            "_view_name": "LayoutView",
            "grid_template_rows": null,
            "right": null,
            "justify_content": null,
            "_view_module": "@jupyter-widgets/base",
            "overflow": null,
            "_model_module_version": "1.2.0",
            "_view_count": null,
            "flex_flow": null,
            "width": null,
            "min_width": null,
            "border": null,
            "align_items": null,
            "bottom": null,
            "_model_module": "@jupyter-widgets/base",
            "top": null,
            "grid_column": null,
            "overflow_y": null,
            "overflow_x": null,
            "grid_auto_flow": null,
            "grid_area": null,
            "grid_template_columns": null,
            "flex": null,
            "_model_name": "LayoutModel",
            "justify_items": null,
            "grid_row": null,
            "max_height": null,
            "align_content": null,
            "visibility": null,
            "align_self": null,
            "height": null,
            "min_height": null,
            "padding": null,
            "grid_auto_rows": null,
            "grid_gap": null,
            "max_width": null,
            "order": null,
            "_view_module_version": "1.2.0",
            "grid_template_areas": null,
            "object_position": null,
            "object_fit": null,
            "grid_auto_columns": null,
            "margin": null,
            "display": null,
            "left": null
          }
        },
        "2034992040c84b53b25d786e9e704830": {
          "model_module": "@jupyter-widgets/controls",
          "model_name": "FloatProgressModel",
          "state": {
            "_view_name": "ProgressView",
            "style": "IPY_MODEL_153fc76c68a64a76800c26cfe0d30b8d",
            "_dom_classes": [],
            "description": "100%",
            "_model_name": "FloatProgressModel",
            "bar_style": "success",
            "max": 46827520,
            "_view_module": "@jupyter-widgets/controls",
            "_model_module_version": "1.5.0",
            "value": 46827520,
            "_view_count": null,
            "_view_module_version": "1.5.0",
            "orientation": "horizontal",
            "min": 0,
            "description_tooltip": null,
            "_model_module": "@jupyter-widgets/controls",
            "layout": "IPY_MODEL_867a0dc7dac445dd8d44881dd1fe46fa"
          }
        },
        "915c5bdbfc1842d48280122f7e9e86c3": {
          "model_module": "@jupyter-widgets/controls",
          "model_name": "HTMLModel",
          "state": {
            "_view_name": "HTMLView",
            "style": "IPY_MODEL_fe473096982448f19d903a6d1ae60356",
            "_dom_classes": [],
            "description": "",
            "_model_name": "HTMLModel",
            "placeholder": "​",
            "_view_module": "@jupyter-widgets/controls",
            "_model_module_version": "1.5.0",
            "value": " 44.7M/44.7M [00:00&lt;00:00, 73.5MB/s]",
            "_view_count": null,
            "_view_module_version": "1.5.0",
            "description_tooltip": null,
            "_model_module": "@jupyter-widgets/controls",
            "layout": "IPY_MODEL_69cfba4d75f341768e876d6b958d8a8a"
          }
        },
        "153fc76c68a64a76800c26cfe0d30b8d": {
          "model_module": "@jupyter-widgets/controls",
          "model_name": "ProgressStyleModel",
          "state": {
            "_view_name": "StyleView",
            "_model_name": "ProgressStyleModel",
            "description_width": "initial",
            "_view_module": "@jupyter-widgets/base",
            "_model_module_version": "1.5.0",
            "_view_count": null,
            "_view_module_version": "1.2.0",
            "bar_color": null,
            "_model_module": "@jupyter-widgets/controls"
          }
        },
        "867a0dc7dac445dd8d44881dd1fe46fa": {
          "model_module": "@jupyter-widgets/base",
          "model_name": "LayoutModel",
          "state": {
            "_view_name": "LayoutView",
            "grid_template_rows": null,
            "right": null,
            "justify_content": null,
            "_view_module": "@jupyter-widgets/base",
            "overflow": null,
            "_model_module_version": "1.2.0",
            "_view_count": null,
            "flex_flow": null,
            "width": null,
            "min_width": null,
            "border": null,
            "align_items": null,
            "bottom": null,
            "_model_module": "@jupyter-widgets/base",
            "top": null,
            "grid_column": null,
            "overflow_y": null,
            "overflow_x": null,
            "grid_auto_flow": null,
            "grid_area": null,
            "grid_template_columns": null,
            "flex": null,
            "_model_name": "LayoutModel",
            "justify_items": null,
            "grid_row": null,
            "max_height": null,
            "align_content": null,
            "visibility": null,
            "align_self": null,
            "height": null,
            "min_height": null,
            "padding": null,
            "grid_auto_rows": null,
            "grid_gap": null,
            "max_width": null,
            "order": null,
            "_view_module_version": "1.2.0",
            "grid_template_areas": null,
            "object_position": null,
            "object_fit": null,
            "grid_auto_columns": null,
            "margin": null,
            "display": null,
            "left": null
          }
        },
        "fe473096982448f19d903a6d1ae60356": {
          "model_module": "@jupyter-widgets/controls",
          "model_name": "DescriptionStyleModel",
          "state": {
            "_view_name": "StyleView",
            "_model_name": "DescriptionStyleModel",
            "description_width": "",
            "_view_module": "@jupyter-widgets/base",
            "_model_module_version": "1.5.0",
            "_view_count": null,
            "_view_module_version": "1.2.0",
            "_model_module": "@jupyter-widgets/controls"
          }
        },
        "69cfba4d75f341768e876d6b958d8a8a": {
          "model_module": "@jupyter-widgets/base",
          "model_name": "LayoutModel",
          "state": {
            "_view_name": "LayoutView",
            "grid_template_rows": null,
            "right": null,
            "justify_content": null,
            "_view_module": "@jupyter-widgets/base",
            "overflow": null,
            "_model_module_version": "1.2.0",
            "_view_count": null,
            "flex_flow": null,
            "width": null,
            "min_width": null,
            "border": null,
            "align_items": null,
            "bottom": null,
            "_model_module": "@jupyter-widgets/base",
            "top": null,
            "grid_column": null,
            "overflow_y": null,
            "overflow_x": null,
            "grid_auto_flow": null,
            "grid_area": null,
            "grid_template_columns": null,
            "flex": null,
            "_model_name": "LayoutModel",
            "justify_items": null,
            "grid_row": null,
            "max_height": null,
            "align_content": null,
            "visibility": null,
            "align_self": null,
            "height": null,
            "min_height": null,
            "padding": null,
            "grid_auto_rows": null,
            "grid_gap": null,
            "max_width": null,
            "order": null,
            "_view_module_version": "1.2.0",
            "grid_template_areas": null,
            "object_position": null,
            "object_fit": null,
            "grid_auto_columns": null,
            "margin": null,
            "display": null,
            "left": null
          }
        },
        "b1ee1567c25144fbac994cd89659ddf9": {
          "model_module": "@jupyter-widgets/controls",
          "model_name": "FileUploadModel",
          "state": {
            "_view_name": "FileUploadView",
            "_counter": 2,
            "style": "IPY_MODEL_9b638a4cdd1d465aa3db156c21b36b33",
            "_dom_classes": [],
            "description": "Upload",
            "multiple": false,
            "_model_name": "FileUploadModel",
            "data": [
              null
            ],
            "button_style": "",
            "_view_module": "@jupyter-widgets/controls",
            "_model_module_version": "1.5.0",
            "accept": "",
            "_view_count": null,
            "disabled": false,
            "_view_module_version": "1.5.0",
            "error": "",
            "description_tooltip": null,
            "metadata": [
              {
                "name": "saab9000.jpg",
                "type": "image/jpeg",
                "size": 145800,
                "lastModified": 1603267666225
              }
            ],
            "_model_module": "@jupyter-widgets/controls",
            "layout": "IPY_MODEL_ad8ea2a20f2949cbbbf807c27eabc29a",
            "icon": "upload"
          }
        },
        "9b638a4cdd1d465aa3db156c21b36b33": {
          "model_module": "@jupyter-widgets/controls",
          "model_name": "ButtonStyleModel",
          "state": {
            "_view_name": "StyleView",
            "_model_name": "ButtonStyleModel",
            "_view_module": "@jupyter-widgets/base",
            "_model_module_version": "1.5.0",
            "_view_count": null,
            "button_color": null,
            "font_weight": "",
            "_view_module_version": "1.2.0",
            "_model_module": "@jupyter-widgets/controls"
          }
        },
        "ad8ea2a20f2949cbbbf807c27eabc29a": {
          "model_module": "@jupyter-widgets/base",
          "model_name": "LayoutModel",
          "state": {
            "_view_name": "LayoutView",
            "grid_template_rows": null,
            "right": null,
            "justify_content": null,
            "_view_module": "@jupyter-widgets/base",
            "overflow": null,
            "_model_module_version": "1.2.0",
            "_view_count": null,
            "flex_flow": null,
            "width": null,
            "min_width": null,
            "border": null,
            "align_items": null,
            "bottom": null,
            "_model_module": "@jupyter-widgets/base",
            "top": null,
            "grid_column": null,
            "overflow_y": null,
            "overflow_x": null,
            "grid_auto_flow": null,
            "grid_area": null,
            "grid_template_columns": null,
            "flex": null,
            "_model_name": "LayoutModel",
            "justify_items": null,
            "grid_row": null,
            "max_height": null,
            "align_content": null,
            "visibility": null,
            "align_self": null,
            "height": null,
            "min_height": null,
            "padding": null,
            "grid_auto_rows": null,
            "grid_gap": null,
            "max_width": null,
            "order": null,
            "_view_module_version": "1.2.0",
            "grid_template_areas": null,
            "object_position": null,
            "object_fit": null,
            "grid_auto_columns": null,
            "margin": null,
            "display": null,
            "left": null
          }
        },
        "b411271003ea430999cb9879c82e7f78": {
          "model_module": "@jupyter-widgets/output",
          "model_name": "OutputModel",
          "state": {
            "_view_name": "OutputView",
            "msg_id": "",
            "_dom_classes": [],
            "_model_name": "OutputModel",
            "outputs": [
              {
                "output_type": "display_data",
                "metadata": {
                  "tags": []
                },
                "image/png": "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\n",
                "text/plain": "<PIL.Image.Image image mode=RGB size=128x72 at 0x7F764A287588>"
              }
            ],
            "_view_module": "@jupyter-widgets/output",
            "_model_module_version": "1.0.0",
            "_view_count": null,
            "_view_module_version": "1.0.0",
            "layout": "IPY_MODEL_7b6d77e066be46f4996eb31ce5cae5df",
            "_model_module": "@jupyter-widgets/output"
          }
        },
        "7b6d77e066be46f4996eb31ce5cae5df": {
          "model_module": "@jupyter-widgets/base",
          "model_name": "LayoutModel",
          "state": {
            "_view_name": "LayoutView",
            "grid_template_rows": null,
            "right": null,
            "justify_content": null,
            "_view_module": "@jupyter-widgets/base",
            "overflow": null,
            "_model_module_version": "1.2.0",
            "_view_count": null,
            "flex_flow": null,
            "width": null,
            "min_width": null,
            "border": null,
            "align_items": null,
            "bottom": null,
            "_model_module": "@jupyter-widgets/base",
            "top": null,
            "grid_column": null,
            "overflow_y": null,
            "overflow_x": null,
            "grid_auto_flow": null,
            "grid_area": null,
            "grid_template_columns": null,
            "flex": null,
            "_model_name": "LayoutModel",
            "justify_items": null,
            "grid_row": null,
            "max_height": null,
            "align_content": null,
            "visibility": null,
            "align_self": null,
            "height": null,
            "min_height": null,
            "padding": null,
            "grid_auto_rows": null,
            "grid_gap": null,
            "max_width": null,
            "order": null,
            "_view_module_version": "1.2.0",
            "grid_template_areas": null,
            "object_position": null,
            "object_fit": null,
            "grid_auto_columns": null,
            "margin": null,
            "display": null,
            "left": null
          }
        },
        "35e3e81bcd394c63b41e695bd7b623c6": {
          "model_module": "@jupyter-widgets/controls",
          "model_name": "LabelModel",
          "state": {
            "_view_name": "LabelView",
            "style": "IPY_MODEL_34eab2a02b8f4217aac9147fb3458d5a",
            "_dom_classes": [],
            "description": "",
            "_model_name": "LabelModel",
            "placeholder": "​",
            "_view_module": "@jupyter-widgets/controls",
            "_model_module_version": "1.5.0",
            "value": "Prediction: 9000; Probability: 0.6053",
            "_view_count": null,
            "_view_module_version": "1.5.0",
            "description_tooltip": null,
            "_model_module": "@jupyter-widgets/controls",
            "layout": "IPY_MODEL_be60f6eb827241f996630a9f1b373005"
          }
        },
        "34eab2a02b8f4217aac9147fb3458d5a": {
          "model_module": "@jupyter-widgets/controls",
          "model_name": "DescriptionStyleModel",
          "state": {
            "_view_name": "StyleView",
            "_model_name": "DescriptionStyleModel",
            "description_width": "",
            "_view_module": "@jupyter-widgets/base",
            "_model_module_version": "1.5.0",
            "_view_count": null,
            "_view_module_version": "1.2.0",
            "_model_module": "@jupyter-widgets/controls"
          }
        },
        "be60f6eb827241f996630a9f1b373005": {
          "model_module": "@jupyter-widgets/base",
          "model_name": "LayoutModel",
          "state": {
            "_view_name": "LayoutView",
            "grid_template_rows": null,
            "right": null,
            "justify_content": null,
            "_view_module": "@jupyter-widgets/base",
            "overflow": null,
            "_model_module_version": "1.2.0",
            "_view_count": null,
            "flex_flow": null,
            "width": null,
            "min_width": null,
            "border": null,
            "align_items": null,
            "bottom": null,
            "_model_module": "@jupyter-widgets/base",
            "top": null,
            "grid_column": null,
            "overflow_y": null,
            "overflow_x": null,
            "grid_auto_flow": null,
            "grid_area": null,
            "grid_template_columns": null,
            "flex": null,
            "_model_name": "LayoutModel",
            "justify_items": null,
            "grid_row": null,
            "max_height": null,
            "align_content": null,
            "visibility": null,
            "align_self": null,
            "height": null,
            "min_height": null,
            "padding": null,
            "grid_auto_rows": null,
            "grid_gap": null,
            "max_width": null,
            "order": null,
            "_view_module_version": "1.2.0",
            "grid_template_areas": null,
            "object_position": null,
            "object_fit": null,
            "grid_auto_columns": null,
            "margin": null,
            "display": null,
            "left": null
          }
        },
        "b2ff4071a47449a1a87d0bdc13358a14": {
          "model_module": "@jupyter-widgets/controls",
          "model_name": "ButtonModel",
          "state": {
            "_view_name": "ButtonView",
            "style": "IPY_MODEL_1b374594bac84296848e931516a78018",
            "_dom_classes": [],
            "description": "Classify",
            "_model_name": "ButtonModel",
            "button_style": "",
            "_view_module": "@jupyter-widgets/controls",
            "_model_module_version": "1.5.0",
            "tooltip": "",
            "_view_count": null,
            "disabled": false,
            "_view_module_version": "1.5.0",
            "layout": "IPY_MODEL_0626ce2a72674423a95bb3de33e145d1",
            "_model_module": "@jupyter-widgets/controls",
            "icon": ""
          }
        },
        "1b374594bac84296848e931516a78018": {
          "model_module": "@jupyter-widgets/controls",
          "model_name": "ButtonStyleModel",
          "state": {
            "_view_name": "StyleView",
            "_model_name": "ButtonStyleModel",
            "_view_module": "@jupyter-widgets/base",
            "_model_module_version": "1.5.0",
            "_view_count": null,
            "button_color": null,
            "font_weight": "",
            "_view_module_version": "1.2.0",
            "_model_module": "@jupyter-widgets/controls"
          }
        },
        "0626ce2a72674423a95bb3de33e145d1": {
          "model_module": "@jupyter-widgets/base",
          "model_name": "LayoutModel",
          "state": {
            "_view_name": "LayoutView",
            "grid_template_rows": null,
            "right": null,
            "justify_content": null,
            "_view_module": "@jupyter-widgets/base",
            "overflow": null,
            "_model_module_version": "1.2.0",
            "_view_count": null,
            "flex_flow": null,
            "width": null,
            "min_width": null,
            "border": null,
            "align_items": null,
            "bottom": null,
            "_model_module": "@jupyter-widgets/base",
            "top": null,
            "grid_column": null,
            "overflow_y": null,
            "overflow_x": null,
            "grid_auto_flow": null,
            "grid_area": null,
            "grid_template_columns": null,
            "flex": null,
            "_model_name": "LayoutModel",
            "justify_items": null,
            "grid_row": null,
            "max_height": null,
            "align_content": null,
            "visibility": null,
            "align_self": null,
            "height": null,
            "min_height": null,
            "padding": null,
            "grid_auto_rows": null,
            "grid_gap": null,
            "max_width": null,
            "order": null,
            "_view_module_version": "1.2.0",
            "grid_template_areas": null,
            "object_position": null,
            "object_fit": null,
            "grid_auto_columns": null,
            "margin": null,
            "display": null,
            "left": null
          }
        },
        "568658dc44d0481ea1e59c178a9b8a7f": {
          "model_module": "@jupyter-widgets/controls",
          "model_name": "VBoxModel",
          "state": {
            "_view_name": "VBoxView",
            "_dom_classes": [],
            "_model_name": "VBoxModel",
            "_view_module": "@jupyter-widgets/controls",
            "_model_module_version": "1.5.0",
            "_view_count": null,
            "_view_module_version": "1.5.0",
            "box_style": "",
            "layout": "IPY_MODEL_0e9010272ecc4441a4347c4eaa50a928",
            "_model_module": "@jupyter-widgets/controls",
            "children": [
              "IPY_MODEL_edc9781d010f4532b16876388cdebf07",
              "IPY_MODEL_24fcc130f80043368d76f91f514d4a72",
              "IPY_MODEL_b2ff4071a47449a1a87d0bdc13358a14",
              "IPY_MODEL_b411271003ea430999cb9879c82e7f78",
              "IPY_MODEL_35e3e81bcd394c63b41e695bd7b623c6"
            ]
          }
        },
        "0e9010272ecc4441a4347c4eaa50a928": {
          "model_module": "@jupyter-widgets/base",
          "model_name": "LayoutModel",
          "state": {
            "_view_name": "LayoutView",
            "grid_template_rows": null,
            "right": null,
            "justify_content": null,
            "_view_module": "@jupyter-widgets/base",
            "overflow": null,
            "_model_module_version": "1.2.0",
            "_view_count": null,
            "flex_flow": null,
            "width": null,
            "min_width": null,
            "border": null,
            "align_items": null,
            "bottom": null,
            "_model_module": "@jupyter-widgets/base",
            "top": null,
            "grid_column": null,
            "overflow_y": null,
            "overflow_x": null,
            "grid_auto_flow": null,
            "grid_area": null,
            "grid_template_columns": null,
            "flex": null,
            "_model_name": "LayoutModel",
            "justify_items": null,
            "grid_row": null,
            "max_height": null,
            "align_content": null,
            "visibility": null,
            "align_self": null,
            "height": null,
            "min_height": null,
            "padding": null,
            "grid_auto_rows": null,
            "grid_gap": null,
            "max_width": null,
            "order": null,
            "_view_module_version": "1.2.0",
            "grid_template_areas": null,
            "object_position": null,
            "object_fit": null,
            "grid_auto_columns": null,
            "margin": null,
            "display": null,
            "left": null
          }
        },
        "edc9781d010f4532b16876388cdebf07": {
          "model_module": "@jupyter-widgets/controls",
          "model_name": "LabelModel",
          "state": {
            "_view_name": "LabelView",
            "style": "IPY_MODEL_091a831291374f0f8e44f8d15ead7534",
            "_dom_classes": [],
            "description": "",
            "_model_name": "LabelModel",
            "placeholder": "​",
            "_view_module": "@jupyter-widgets/controls",
            "_model_module_version": "1.5.0",
            "value": "Select your car!",
            "_view_count": null,
            "_view_module_version": "1.5.0",
            "description_tooltip": null,
            "_model_module": "@jupyter-widgets/controls",
            "layout": "IPY_MODEL_1f9ee2996c1449648c33709790a6573f"
          }
        },
        "24fcc130f80043368d76f91f514d4a72": {
          "model_module": "@jupyter-widgets/controls",
          "model_name": "FileUploadModel",
          "state": {
            "_view_name": "FileUploadView",
            "_counter": 3,
            "style": "IPY_MODEL_19feed643ac54bdabfe64ac5a4868246",
            "_dom_classes": [],
            "description": "Upload",
            "multiple": false,
            "_model_name": "FileUploadModel",
            "data": [
              null
            ],
            "button_style": "",
            "_view_module": "@jupyter-widgets/controls",
            "_model_module_version": "1.5.0",
            "accept": "",
            "_view_count": null,
            "disabled": false,
            "_view_module_version": "1.5.0",
            "error": "",
            "description_tooltip": null,
            "metadata": [
              {
                "name": "saab9000.jpg",
                "type": "image/jpeg",
                "size": 145800,
                "lastModified": 1603267666225
              }
            ],
            "_model_module": "@jupyter-widgets/controls",
            "layout": "IPY_MODEL_66378975d34746cf942d199f7b985b6b",
            "icon": "upload"
          }
        },
        "091a831291374f0f8e44f8d15ead7534": {
          "model_module": "@jupyter-widgets/controls",
          "model_name": "DescriptionStyleModel",
          "state": {
            "_view_name": "StyleView",
            "_model_name": "DescriptionStyleModel",
            "description_width": "",
            "_view_module": "@jupyter-widgets/base",
            "_model_module_version": "1.5.0",
            "_view_count": null,
            "_view_module_version": "1.2.0",
            "_model_module": "@jupyter-widgets/controls"
          }
        },
        "1f9ee2996c1449648c33709790a6573f": {
          "model_module": "@jupyter-widgets/base",
          "model_name": "LayoutModel",
          "state": {
            "_view_name": "LayoutView",
            "grid_template_rows": null,
            "right": null,
            "justify_content": null,
            "_view_module": "@jupyter-widgets/base",
            "overflow": null,
            "_model_module_version": "1.2.0",
            "_view_count": null,
            "flex_flow": null,
            "width": null,
            "min_width": null,
            "border": null,
            "align_items": null,
            "bottom": null,
            "_model_module": "@jupyter-widgets/base",
            "top": null,
            "grid_column": null,
            "overflow_y": null,
            "overflow_x": null,
            "grid_auto_flow": null,
            "grid_area": null,
            "grid_template_columns": null,
            "flex": null,
            "_model_name": "LayoutModel",
            "justify_items": null,
            "grid_row": null,
            "max_height": null,
            "align_content": null,
            "visibility": null,
            "align_self": null,
            "height": null,
            "min_height": null,
            "padding": null,
            "grid_auto_rows": null,
            "grid_gap": null,
            "max_width": null,
            "order": null,
            "_view_module_version": "1.2.0",
            "grid_template_areas": null,
            "object_position": null,
            "object_fit": null,
            "grid_auto_columns": null,
            "margin": null,
            "display": null,
            "left": null
          }
        },
        "19feed643ac54bdabfe64ac5a4868246": {
          "model_module": "@jupyter-widgets/controls",
          "model_name": "ButtonStyleModel",
          "state": {
            "_view_name": "StyleView",
            "_model_name": "ButtonStyleModel",
            "_view_module": "@jupyter-widgets/base",
            "_model_module_version": "1.5.0",
            "_view_count": null,
            "button_color": null,
            "font_weight": "",
            "_view_module_version": "1.2.0",
            "_model_module": "@jupyter-widgets/controls"
          }
        },
        "66378975d34746cf942d199f7b985b6b": {
          "model_module": "@jupyter-widgets/base",
          "model_name": "LayoutModel",
          "state": {
            "_view_name": "LayoutView",
            "grid_template_rows": null,
            "right": null,
            "justify_content": null,
            "_view_module": "@jupyter-widgets/base",
            "overflow": null,
            "_model_module_version": "1.2.0",
            "_view_count": null,
            "flex_flow": null,
            "width": null,
            "min_width": null,
            "border": null,
            "align_items": null,
            "bottom": null,
            "_model_module": "@jupyter-widgets/base",
            "top": null,
            "grid_column": null,
            "overflow_y": null,
            "overflow_x": null,
            "grid_auto_flow": null,
            "grid_area": null,
            "grid_template_columns": null,
            "flex": null,
            "_model_name": "LayoutModel",
            "justify_items": null,
            "grid_row": null,
            "max_height": null,
            "align_content": null,
            "visibility": null,
            "align_self": null,
            "height": null,
            "min_height": null,
            "padding": null,
            "grid_auto_rows": null,
            "grid_gap": null,
            "max_width": null,
            "order": null,
            "_view_module_version": "1.2.0",
            "grid_template_areas": null,
            "object_position": null,
            "object_fit": null,
            "grid_auto_columns": null,
            "margin": null,
            "display": null,
            "left": null
          }
        }
      }
    }
  },
  "cells": [
    {
      "cell_type": "code",
      "metadata": {
        "id": "mVgw34LCx0jM",
        "outputId": "b6139a21-1687-465a-f516-9794596d6c52",
        "colab": {
          "base_uri": "https://localhost:8080/",
          "height": 658
        }
      },
      "source": [
        "!pip install fastai --upgrade -q\n",
        "!pip install nbdev"
      ],
      "execution_count": 41,
      "outputs": [
        {
          "output_type": "stream",
          "text": [
            "Requirement already satisfied: nbdev in /usr/local/lib/python3.6/dist-packages (1.1.4)\n",
            "Requirement already satisfied: packaging in /usr/local/lib/python3.6/dist-packages (from nbdev) (20.4)\n",
            "Requirement already satisfied: pip in /usr/local/lib/python3.6/dist-packages (from nbdev) (19.3.1)\n",
            "Requirement already satisfied: jupyter-client in /usr/local/lib/python3.6/dist-packages (from nbdev) (5.3.5)\n",
            "Requirement already satisfied: ipykernel in /usr/local/lib/python3.6/dist-packages (from nbdev) (4.10.1)\n",
            "Requirement already satisfied: pyyaml in /usr/local/lib/python3.6/dist-packages (from nbdev) (3.13)\n",
            "Requirement already satisfied: nbconvert<6 in /usr/local/lib/python3.6/dist-packages (from nbdev) (5.6.1)\n",
            "Requirement already satisfied: nbformat>=4.4.0 in /usr/local/lib/python3.6/dist-packages (from nbdev) (5.0.7)\n",
            "Requirement already satisfied: fastcore>=1.2.0 in /usr/local/lib/python3.6/dist-packages (from nbdev) (1.2.2)\n",
            "Requirement already satisfied: pyparsing>=2.0.2 in /usr/local/lib/python3.6/dist-packages (from packaging->nbdev) (2.4.7)\n",
            "Requirement already satisfied: six in /usr/local/lib/python3.6/dist-packages (from packaging->nbdev) (1.15.0)\n",
            "Requirement already satisfied: traitlets in /usr/local/lib/python3.6/dist-packages (from jupyter-client->nbdev) (4.3.3)\n",
            "Requirement already satisfied: jupyter-core>=4.6.0 in /usr/local/lib/python3.6/dist-packages (from jupyter-client->nbdev) (4.6.3)\n",
            "Requirement already satisfied: tornado>=4.1 in /usr/local/lib/python3.6/dist-packages (from jupyter-client->nbdev) (5.1.1)\n",
            "Requirement already satisfied: pyzmq>=13 in /usr/local/lib/python3.6/dist-packages (from jupyter-client->nbdev) (19.0.2)\n",
            "Requirement already satisfied: python-dateutil>=2.1 in /usr/local/lib/python3.6/dist-packages (from jupyter-client->nbdev) (2.8.1)\n",
            "Requirement already satisfied: ipython>=4.0.0 in /usr/local/lib/python3.6/dist-packages (from ipykernel->nbdev) (5.5.0)\n",
            "Requirement already satisfied: pandocfilters>=1.4.1 in /usr/local/lib/python3.6/dist-packages (from nbconvert<6->nbdev) (1.4.2)\n",
            "Requirement already satisfied: bleach in /usr/local/lib/python3.6/dist-packages (from nbconvert<6->nbdev) (3.2.1)\n",
            "Requirement already satisfied: mistune<2,>=0.8.1 in /usr/local/lib/python3.6/dist-packages (from nbconvert<6->nbdev) (0.8.4)\n",
            "Requirement already satisfied: pygments in /usr/local/lib/python3.6/dist-packages (from nbconvert<6->nbdev) (2.6.1)\n",
            "Requirement already satisfied: defusedxml in /usr/local/lib/python3.6/dist-packages (from nbconvert<6->nbdev) (0.6.0)\n",
            "Requirement already satisfied: testpath in /usr/local/lib/python3.6/dist-packages (from nbconvert<6->nbdev) (0.4.4)\n",
            "Requirement already satisfied: entrypoints>=0.2.2 in /usr/local/lib/python3.6/dist-packages (from nbconvert<6->nbdev) (0.3)\n",
            "Requirement already satisfied: jinja2>=2.4 in /usr/local/lib/python3.6/dist-packages (from nbconvert<6->nbdev) (2.11.2)\n",
            "Requirement already satisfied: jsonschema!=2.5.0,>=2.4 in /usr/local/lib/python3.6/dist-packages (from nbformat>=4.4.0->nbdev) (2.6.0)\n",
            "Requirement already satisfied: ipython-genutils in /usr/local/lib/python3.6/dist-packages (from nbformat>=4.4.0->nbdev) (0.2.0)\n",
            "Requirement already satisfied: decorator in /usr/local/lib/python3.6/dist-packages (from traitlets->jupyter-client->nbdev) (4.4.2)\n",
            "Requirement already satisfied: pexpect; sys_platform != \"win32\" in /usr/local/lib/python3.6/dist-packages (from ipython>=4.0.0->ipykernel->nbdev) (4.8.0)\n",
            "Requirement already satisfied: prompt-toolkit<2.0.0,>=1.0.4 in /usr/local/lib/python3.6/dist-packages (from ipython>=4.0.0->ipykernel->nbdev) (1.0.18)\n",
            "Requirement already satisfied: simplegeneric>0.8 in /usr/local/lib/python3.6/dist-packages (from ipython>=4.0.0->ipykernel->nbdev) (0.8.1)\n",
            "Requirement already satisfied: setuptools>=18.5 in /usr/local/lib/python3.6/dist-packages (from ipython>=4.0.0->ipykernel->nbdev) (50.3.0)\n",
            "Requirement already satisfied: pickleshare in /usr/local/lib/python3.6/dist-packages (from ipython>=4.0.0->ipykernel->nbdev) (0.7.5)\n",
            "Requirement already satisfied: webencodings in /usr/local/lib/python3.6/dist-packages (from bleach->nbconvert<6->nbdev) (0.5.1)\n",
            "Requirement already satisfied: MarkupSafe>=0.23 in /usr/local/lib/python3.6/dist-packages (from jinja2>=2.4->nbconvert<6->nbdev) (1.1.1)\n",
            "Requirement already satisfied: ptyprocess>=0.5 in /usr/local/lib/python3.6/dist-packages (from pexpect; sys_platform != \"win32\"->ipython>=4.0.0->ipykernel->nbdev) (0.6.0)\n",
            "Requirement already satisfied: wcwidth in /usr/local/lib/python3.6/dist-packages (from prompt-toolkit<2.0.0,>=1.0.4->ipython>=4.0.0->ipykernel->nbdev) (0.2.5)\n"
          ],
          "name": "stdout"
        }
      ]
    },
    {
      "cell_type": "code",
      "metadata": {
        "id": "H7nbdIDkx2tO"
      },
      "source": [
        "from fastai.vision.all import *"
      ],
      "execution_count": 42,
      "outputs": []
    },
    {
      "cell_type": "markdown",
      "metadata": {
        "id": "nhAThTxqwL0E"
      },
      "source": [
        "# Dataloaders und Learners erstellen"
      ]
    },
    {
      "cell_type": "markdown",
      "metadata": {
        "id": "IFWS7CWwwZ7V"
      },
      "source": [
        "## Download der Bilddateien von GDrive"
      ]
    },
    {
      "cell_type": "code",
      "metadata": {
        "id": "lMqbYX0SwSpB"
      },
      "source": [
        "!cp /content/drive/My\\ Drive/saab_images/saab_images.tar.gz ./\n",
        "!mkdir /content/images/\n",
        "!tar -xf /content/saab_images.tar.gz -C /content/images/"
      ],
      "execution_count": 3,
      "outputs": []
    },
    {
      "cell_type": "code",
      "metadata": {
        "id": "mKjDcpz-xnU0",
        "outputId": "abc51bd1-45b7-4e5a-a740-5f3e4585cc60",
        "colab": {
          "base_uri": "https://localhost:8080/",
          "height": 17
        }
      },
      "source": [
        "path = Path('images')\n",
        "failed = verify_images(get_image_files(path))\n",
        "failed.map(Path.unlink);"
      ],
      "execution_count": 4,
      "outputs": [
        {
          "output_type": "display_data",
          "data": {
            "text/html": [
              ""
            ],
            "text/plain": [
              "<IPython.core.display.HTML object>"
            ]
          },
          "metadata": {
            "tags": []
          }
        }
      ]
    },
    {
      "cell_type": "markdown",
      "metadata": {
        "id": "HsPaxMvfxUdi"
      },
      "source": [
        "## Dataloader Objekt erstellen"
      ]
    },
    {
      "cell_type": "code",
      "metadata": {
        "id": "69WHvekiw8fl"
      },
      "source": [
        "cars = DataBlock(\n",
        "  blocks=(ImageBlock, CategoryBlock), \n",
        "  get_items=get_image_files, \n",
        "  splitter=RandomSplitter(valid_pct=0.2, seed=42),\n",
        "  get_y=parent_label,\n",
        "  item_tfms=Resize(128))"
      ],
      "execution_count": 5,
      "outputs": []
    },
    {
      "cell_type": "code",
      "metadata": {
        "id": "wF_sUpdjxcYe"
      },
      "source": [
        "dls = cars.dataloaders(path)"
      ],
      "execution_count": 6,
      "outputs": []
    },
    {
      "cell_type": "code",
      "metadata": {
        "id": "gVYsZrltyBb9",
        "outputId": "99b1c06d-1875-43d7-ce7c-1e35187bd0d6",
        "colab": {
          "base_uri": "https://localhost:8080/",
          "height": 246
        }
      },
      "source": [
        "dls.show_batch(max_n=4, nrows=1)"
      ],
      "execution_count": 7,
      "outputs": [
        {
          "output_type": "stream",
          "text": [
            "/usr/local/lib/python3.6/dist-packages/PIL/Image.py:932: UserWarning: Palette images with Transparency expressed in bytes should be converted to RGBA images\n",
            "  \"Palette images with Transparency expressed in bytes should be \"\n"
          ],
          "name": "stderr"
        },
        {
          "output_type": "display_data",
          "data": {
            "image/png": "[encoded data removed]",
            "text/plain": [
              "<Figure size 864x216 with 4 Axes>"
            ]
          },
          "metadata": {
            "tags": [],
            "needs_background": "light"
          }
        }
      ]
    },
    {
      "cell_type": "markdown",
      "metadata": {
        "id": "jovIMgTnEJoH"
      },
      "source": [
        "## Trainieren des Learner"
      ]
    },
    {
      "cell_type": "code",
      "metadata": {
        "id": "Vxn8XcCu8Ry7",
        "outputId": "128252cd-ff59-4696-a2f6-0cf4cb5559b6",
        "colab": {
          "base_uri": "https://localhost:8080/",
          "height": 479,
          "referenced_widgets": [
            "ade823d4d1cc403aaf79a4fff0bb90fd",
            "89b190fb1f824bfdae1d0e5467c145f4",
            "2034992040c84b53b25d786e9e704830",
            "915c5bdbfc1842d48280122f7e9e86c3",
            "153fc76c68a64a76800c26cfe0d30b8d",
            "867a0dc7dac445dd8d44881dd1fe46fa",
            "fe473096982448f19d903a6d1ae60356",
            "69cfba4d75f341768e876d6b958d8a8a"
          ]
        }
      },
      "source": [
        "learn = cnn_learner(dls, resnet18, metrics=error_rate)\n",
        "learn.fine_tune(4)"
      ],
      "execution_count": 8,
      "outputs": [
        {
          "output_type": "stream",
          "text": [
            "Downloading: \"https://download.pytorch.org/models/resnet18-5c106cde.pth\" to /root/.cache/torch/hub/checkpoints/resnet18-5c106cde.pth\n"
          ],
          "name": "stderr"
        },
        {
          "output_type": "display_data",
          "data": {
            "application/vnd.jupyter.widget-view+json": {
              "model_id": "ade823d4d1cc403aaf79a4fff0bb90fd",
              "version_minor": 0,
              "version_major": 2
            },
            "text/plain": [
              "HBox(children=(FloatProgress(value=0.0, max=46827520.0), HTML(value='')))"
            ]
          },
          "metadata": {
            "tags": []
          }
        },
        {
          "output_type": "stream",
          "text": [
            "\n"
          ],
          "name": "stdout"
        },
        {
          "output_type": "display_data",
          "data": {
            "text/html": [
              "<table border=\"1\" class=\"dataframe\">\n",
              "  <thead>\n",
              "    <tr style=\"text-align: left;\">\n",
              "      <th>epoch</th>\n",
              "      <th>train_loss</th>\n",
              "      <th>valid_loss</th>\n",
              "      <th>error_rate</th>\n",
              "      <th>time</th>\n",
              "    </tr>\n",
              "  </thead>\n",
              "  <tbody>\n",
              "    <tr>\n",
              "      <td>0</td>\n",
              "      <td>2.814877</td>\n",
              "      <td>2.026335</td>\n",
              "      <td>0.703448</td>\n",
              "      <td>00:26</td>\n",
              "    </tr>\n",
              "  </tbody>\n",
              "</table>"
            ],
            "text/plain": [
              "<IPython.core.display.HTML object>"
            ]
          },
          "metadata": {
            "tags": []
          }
        },
        {
          "output_type": "stream",
          "text": [
            "/usr/local/lib/python3.6/dist-packages/PIL/Image.py:932: UserWarning: Palette images with Transparency expressed in bytes should be converted to RGBA images\n",
            "  \"Palette images with Transparency expressed in bytes should be \"\n"
          ],
          "name": "stderr"
        },
        {
          "output_type": "display_data",
          "data": {
            "text/html": [
              "<table border=\"1\" class=\"dataframe\">\n",
              "  <thead>\n",
              "    <tr style=\"text-align: left;\">\n",
              "      <th>epoch</th>\n",
              "      <th>train_loss</th>\n",
              "      <th>valid_loss</th>\n",
              "      <th>error_rate</th>\n",
              "      <th>time</th>\n",
              "    </tr>\n",
              "  </thead>\n",
              "  <tbody>\n",
              "    <tr>\n",
              "      <td>0</td>\n",
              "      <td>1.992726</td>\n",
              "      <td>1.673162</td>\n",
              "      <td>0.613793</td>\n",
              "      <td>00:25</td>\n",
              "    </tr>\n",
              "    <tr>\n",
              "      <td>1</td>\n",
              "      <td>1.769576</td>\n",
              "      <td>1.669968</td>\n",
              "      <td>0.531034</td>\n",
              "      <td>00:25</td>\n",
              "    </tr>\n",
              "    <tr>\n",
              "      <td>2</td>\n",
              "      <td>1.491533</td>\n",
              "      <td>1.703894</td>\n",
              "      <td>0.572414</td>\n",
              "      <td>00:25</td>\n",
              "    </tr>\n",
              "    <tr>\n",
              "      <td>3</td>\n",
              "      <td>1.308498</td>\n",
              "      <td>1.703380</td>\n",
              "      <td>0.593103</td>\n",
              "      <td>00:25</td>\n",
              "    </tr>\n",
              "  </tbody>\n",
              "</table>"
            ],
            "text/plain": [
              "<IPython.core.display.HTML object>"
            ]
          },
          "metadata": {
            "tags": []
          }
        },
        {
          "output_type": "stream",
          "text": [
            "/usr/local/lib/python3.6/dist-packages/PIL/Image.py:932: UserWarning: Palette images with Transparency expressed in bytes should be converted to RGBA images\n",
            "  \"Palette images with Transparency expressed in bytes should be \"\n",
            "/usr/local/lib/python3.6/dist-packages/PIL/Image.py:932: UserWarning: Palette images with Transparency expressed in bytes should be converted to RGBA images\n",
            "  \"Palette images with Transparency expressed in bytes should be \"\n",
            "/usr/local/lib/python3.6/dist-packages/PIL/Image.py:932: UserWarning: Palette images with Transparency expressed in bytes should be converted to RGBA images\n",
            "  \"Palette images with Transparency expressed in bytes should be \"\n",
            "/usr/local/lib/python3.6/dist-packages/PIL/Image.py:932: UserWarning: Palette images with Transparency expressed in bytes should be converted to RGBA images\n",
            "  \"Palette images with Transparency expressed in bytes should be \"\n"
          ],
          "name": "stderr"
        }
      ]
    },
    {
      "cell_type": "markdown",
      "metadata": {
        "id": "nkhNG0mEE5Nd"
      },
      "source": [
        "## Learner exportieren"
      ]
    },
    {
      "cell_type": "code",
      "metadata": {
        "id": "qTT0HLSUE-Kk"
      },
      "source": [
        "learn.export('saab_cars_classifier.pkl')"
      ],
      "execution_count": 9,
      "outputs": []
    },
    {
      "cell_type": "code",
      "metadata": {
        "id": "nJyiWq-8QCSU"
      },
      "source": [
        "learn.export()"
      ],
      "execution_count": 36,
      "outputs": []
    },
    {
      "cell_type": "code",
      "metadata": {
        "id": "1RhV7BkRIK2H",
        "outputId": "25f3b8de-7c7e-4f7a-de88-e14589b35b88",
        "colab": {
          "base_uri": "https://localhost:8080/",
          "height": 34
        }
      },
      "source": [
        "path = Path()\n",
        "path.ls(file_exts='.pkl')"
      ],
      "execution_count": 37,
      "outputs": [
        {
          "output_type": "execute_result",
          "data": {
            "text/plain": [
              "(#2) [Path('saab_cars_classifier.pkl'),Path('export.pkl')]"
            ]
          },
          "metadata": {
            "tags": []
          },
          "execution_count": 37
        }
      ]
    },
    {
      "cell_type": "code",
      "metadata": {
        "id": "4_Dy_5l0IS86"
      },
      "source": [
        "# store learner on gdrive\n",
        "!cp /content/saab_cars_classifier.pkl /content/drive/My\\ Drive/saab_images/saab_cars_classifier.pkl"
      ],
      "execution_count": 13,
      "outputs": []
    },
    {
      "cell_type": "markdown",
      "metadata": {
        "id": "jHjU8_huIi27"
      },
      "source": [
        "## Learner importieren / Inference"
      ]
    },
    {
      "cell_type": "code",
      "metadata": {
        "id": "_NltaLBbLRo7"
      },
      "source": [
        "# copy exported learner from gdrive\n",
        "!cp /content/drive/My\\ Drive/saab_images/saab_cars_classifier.pkl ./"
      ],
      "execution_count": 43,
      "outputs": []
    },
    {
      "cell_type": "code",
      "metadata": {
        "id": "DB6qfbV2ImPC"
      },
      "source": [
        "inference = load_learner(path/'saab_cars_classifier.pkl')"
      ],
      "execution_count": 44,
      "outputs": []
    },
    {
      "cell_type": "code",
      "metadata": {
        "id": "B5h5KXW9JRR_",
        "outputId": "cb3eca43-1206-4938-891f-da951a839323",
        "colab": {
          "base_uri": "https://localhost:8080/",
          "height": 143
        }
      },
      "source": [
        "doc(load_learner)"
      ],
      "execution_count": 40,
      "outputs": [
        {
          "output_type": "display_data",
          "data": {
            "text/html": [
              "<h4 id=\"load_learner\" class=\"doc_header\"><code>load_learner</code><a href=\"https://github.com/fastai/fastai/tree/master/fastai/learner.py#L546\" class=\"source_link\" style=\"float:right\">[source]</a></h4><blockquote><p><code>load_learner</code>(<strong><code>fname</code></strong>, <strong><code>cpu</code></strong>=<em><code>True</code></em>)</p>\n",
              "</blockquote>\n",
              "<p>Load a <code>Learner</code> object in <code>fname</code>, optionally putting it on the <code>cpu</code></p>\n",
              "<p><a href=\"https://docs.fast.ai/learner#load_learner\" target=\"_blank\" rel=\"noreferrer noopener\">Show in docs</a></p>\n"
            ],
            "text/plain": [
              "<IPython.core.display.HTML object>"
            ]
          },
          "metadata": {
            "tags": []
          }
        }
      ]
    },
    {
      "cell_type": "code",
      "metadata": {
        "id": "GSFxiI1ZNdVK"
      },
      "source": [
        "!cp /content/saab9000.jpg /content/drive/My\\ Drive/saab_images/\n",
        "!cp /content/drive/My\\ Drive/saab_images/saab9000.jpg ./"
      ],
      "execution_count": 35,
      "outputs": []
    },
    {
      "cell_type": "code",
      "metadata": {
        "id": "SmKhEVi5MH1K",
        "outputId": "e07e98ec-eea0-4e94-c1a6-860391fcb25d",
        "colab": {
          "base_uri": "https://localhost:8080/",
          "height": 89
        }
      },
      "source": [
        "img = Image.open('saab9000.jpg')\n",
        "img.to_thumb(128, 128)"
      ],
      "execution_count": 26,
      "outputs": [
        {
          "output_type": "execute_result",
          "data": {
            "image/png": "[encoded data removed]",
            "text/plain": [
              "<PIL.Image.Image image mode=RGB size=128x72 at 0x7F76587542B0>"
            ]
          },
          "metadata": {
            "tags": []
          },
          "execution_count": 26
        }
      ]
    },
    {
      "cell_type": "code",
      "metadata": {
        "id": "fbVRrAeWL-ek",
        "outputId": "4d786410-bfdc-4474-fcdf-c86360d3eb3e",
        "colab": {
          "base_uri": "https://localhost:8080/",
          "height": 34
        }
      },
      "source": [
        "inference.predict('saab9000.jpg')"
      ],
      "execution_count": 27,
      "outputs": [
        {
          "output_type": "display_data",
          "data": {
            "text/html": [
              ""
            ],
            "text/plain": [
              "<IPython.core.display.HTML object>"
            ]
          },
          "metadata": {
            "tags": []
          }
        },
        {
          "output_type": "execute_result",
          "data": {
            "text/plain": [
              "('9000', tensor(3), tensor([0.0148, 0.0683, 0.2861, 0.6053, 0.0255]))"
            ]
          },
          "metadata": {
            "tags": []
          },
          "execution_count": 27
        }
      ]
    },
    {
      "cell_type": "code",
      "metadata": {
        "id": "oSJAF8mENAH5",
        "outputId": "817eb1f1-859f-43c7-a2b9-2202514ef112",
        "colab": {
          "base_uri": "https://localhost:8080/",
          "height": 34
        }
      },
      "source": [
        "inference.dls.vocab"
      ],
      "execution_count": 31,
      "outputs": [
        {
          "output_type": "execute_result",
          "data": {
            "text/plain": [
              "['9-3', '9-5', '900', '9000', '93']"
            ]
          },
          "metadata": {
            "tags": []
          },
          "execution_count": 31
        }
      ]
    },
    {
      "cell_type": "code",
      "metadata": {
        "id": "maZfQ9IKNTI4",
        "outputId": "a09a73cf-17a9-4601-e251-4a3b323cfe83",
        "colab": {
          "base_uri": "https://localhost:8080/",
          "height": 35
        }
      },
      "source": [
        "inference.dls.vocab[3]"
      ],
      "execution_count": 32,
      "outputs": [
        {
          "output_type": "execute_result",
          "data": {
            "application/vnd.google.colaboratory.intrinsic+json": {
              "type": "string"
            },
            "text/plain": [
              "'9000'"
            ]
          },
          "metadata": {
            "tags": []
          },
          "execution_count": 32
        }
      ]
    },
    {
      "cell_type": "markdown",
      "metadata": {
        "id": "44oHhE2KEz9H"
      },
      "source": [
        "## User-Interface hinzufügen"
      ]
    },
    {
      "cell_type": "code",
      "metadata": {
        "id": "KWzK8uI-X3CQ"
      },
      "source": [
        "import ipywidgets as widgets"
      ],
      "execution_count": 46,
      "outputs": []
    },
    {
      "cell_type": "code",
      "metadata": {
        "id": "AP8mW-u4E-mG",
        "outputId": "34ee55e3-fca1-4c23-d92e-a27ba2db52f2",
        "colab": {
          "base_uri": "https://localhost:8080/",
          "height": 49,
          "referenced_widgets": [
            "b1ee1567c25144fbac994cd89659ddf9",
            "9b638a4cdd1d465aa3db156c21b36b33",
            "ad8ea2a20f2949cbbbf807c27eabc29a"
          ]
        }
      },
      "source": [
        "btn_upload = widgets.FileUpload()\n",
        "btn_upload"
      ],
      "execution_count": 47,
      "outputs": [
        {
          "output_type": "display_data",
          "data": {
            "application/vnd.jupyter.widget-view+json": {
              "model_id": "b1ee1567c25144fbac994cd89659ddf9",
              "version_minor": 0,
              "version_major": 2
            },
            "text/plain": [
              "FileUpload(value={}, description='Upload')"
            ]
          },
          "metadata": {
            "tags": []
          }
        }
      ]
    },
    {
      "cell_type": "code",
      "metadata": {
        "id": "ybh1Q_uRX1rh",
        "outputId": "d73b9f83-4bfb-40db-82ef-e2e7f05cb692",
        "colab": {
          "base_uri": "https://localhost:8080/",
          "height": 89,
          "referenced_widgets": [
            "b411271003ea430999cb9879c82e7f78",
            "7b6d77e066be46f4996eb31ce5cae5df"
          ]
        }
      },
      "source": [
        "out_pl = widgets.Output()\n",
        "out_pl.clear_output()\n",
        "with out_pl: display(img.to_thumb(128,128))\n",
        "out_pl"
      ],
      "execution_count": 48,
      "outputs": [
        {
          "output_type": "display_data",
          "data": {
            "application/vnd.jupyter.widget-view+json": {
              "model_id": "b411271003ea430999cb9879c82e7f78",
              "version_minor": 0,
              "version_major": 2
            },
            "text/plain": [
              "Output()"
            ]
          },
          "metadata": {
            "tags": []
          }
        }
      ]
    },
    {
      "cell_type": "code",
      "metadata": {
        "id": "3oeK4PHzYUUt"
      },
      "source": [
        "img = PILImage.create(btn_upload.data[-1])"
      ],
      "execution_count": 52,
      "outputs": []
    },
    {
      "cell_type": "code",
      "metadata": {
        "id": "LXY_Au_SYJCo",
        "outputId": "1757cc49-844e-4b4c-81dd-2828f9918472",
        "colab": {
          "base_uri": "https://localhost:8080/",
          "height": 17
        }
      },
      "source": [
        "pred,pred_idx,probs = inference.predict(img)"
      ],
      "execution_count": 53,
      "outputs": [
        {
          "output_type": "display_data",
          "data": {
            "text/html": [
              ""
            ],
            "text/plain": [
              "<IPython.core.display.HTML object>"
            ]
          },
          "metadata": {
            "tags": []
          }
        }
      ]
    },
    {
      "cell_type": "code",
      "metadata": {
        "id": "u2PCeaynYNFQ",
        "outputId": "62cef1df-fb06-4ad3-8dc4-a5f4cd1f79f5",
        "colab": {
          "base_uri": "https://localhost:8080/",
          "height": 49,
          "referenced_widgets": [
            "35e3e81bcd394c63b41e695bd7b623c6",
            "34eab2a02b8f4217aac9147fb3458d5a",
            "be60f6eb827241f996630a9f1b373005"
          ]
        }
      },
      "source": [
        "lbl_pred = widgets.Label()\n",
        "lbl_pred.value = f'Prediction: {pred}; Probability: {probs[pred_idx]:.04f}'\n",
        "lbl_pred"
      ],
      "execution_count": 54,
      "outputs": [
        {
          "output_type": "display_data",
          "data": {
            "application/vnd.jupyter.widget-view+json": {
              "model_id": "35e3e81bcd394c63b41e695bd7b623c6",
              "version_minor": 0,
              "version_major": 2
            },
            "text/plain": [
              "Label(value='Prediction: 9000; Probability: 0.6053')"
            ]
          },
          "metadata": {
            "tags": []
          }
        }
      ]
    },
    {
      "cell_type": "code",
      "metadata": {
        "id": "9vdRHFEnYibo",
        "outputId": "aa269453-808a-4235-c50a-8793b9a75693",
        "colab": {
          "base_uri": "https://localhost:8080/",
          "height": 49,
          "referenced_widgets": [
            "b2ff4071a47449a1a87d0bdc13358a14",
            "1b374594bac84296848e931516a78018",
            "0626ce2a72674423a95bb3de33e145d1"
          ]
        }
      },
      "source": [
        "btn_run = widgets.Button(description='Classify')\n",
        "btn_run"
      ],
      "execution_count": 62,
      "outputs": [
        {
          "output_type": "display_data",
          "data": {
            "application/vnd.jupyter.widget-view+json": {
              "model_id": "b2ff4071a47449a1a87d0bdc13358a14",
              "version_minor": 0,
              "version_major": 2
            },
            "text/plain": [
              "Button(description='Classify', style=ButtonStyle())"
            ]
          },
          "metadata": {
            "tags": []
          }
        }
      ]
    },
    {
      "cell_type": "code",
      "metadata": {
        "id": "zpzFfDUVYlyQ"
      },
      "source": [
        "def on_click_classify(change):\n",
        "    img = PILImage.create(btn_upload.data[-1])\n",
        "    out_pl.clear_output()\n",
        "    with out_pl: display(img.to_thumb(128,128))\n",
        "    pred,pred_idx,probs = inference.predict(img)\n",
        "    lbl_pred.value = f'Prediction: {pred}; Probability: {probs[pred_idx]:.04f}'\n",
        "\n",
        "btn_run.on_click(on_click_classify)"
      ],
      "execution_count": 63,
      "outputs": []
    },
    {
      "cell_type": "code",
      "metadata": {
        "id": "ne2Vd5MiYofw",
        "outputId": "2a76488d-0101-4a99-ccdc-2d916cf792ec",
        "colab": {
          "base_uri": "https://localhost:8080/",
          "height": 217,
          "referenced_widgets": [
            "568658dc44d0481ea1e59c178a9b8a7f",
            "0e9010272ecc4441a4347c4eaa50a928",
            "edc9781d010f4532b16876388cdebf07",
            "24fcc130f80043368d76f91f514d4a72",
            "b2ff4071a47449a1a87d0bdc13358a14",
            "b411271003ea430999cb9879c82e7f78",
            "35e3e81bcd394c63b41e695bd7b623c6",
            "091a831291374f0f8e44f8d15ead7534",
            "1f9ee2996c1449648c33709790a6573f",
            "19feed643ac54bdabfe64ac5a4868246",
            "66378975d34746cf942d199f7b985b6b",
            "1b374594bac84296848e931516a78018",
            "0626ce2a72674423a95bb3de33e145d1",
            "34eab2a02b8f4217aac9147fb3458d5a",
            "be60f6eb827241f996630a9f1b373005",
            "7b6d77e066be46f4996eb31ce5cae5df"
          ]
        }
      },
      "source": [
        "btn_upload = widgets.FileUpload()\n",
        "widgets.VBox([widgets.Label('Select your car!'), \n",
        "      btn_upload, btn_run, out_pl, lbl_pred])"
      ],
      "execution_count": 64,
      "outputs": [
        {
          "output_type": "display_data",
          "data": {
            "application/vnd.jupyter.widget-view+json": {
              "model_id": "568658dc44d0481ea1e59c178a9b8a7f",
              "version_minor": 0,
              "version_major": 2
            },
            "text/plain": [
              "VBox(children=(Label(value='Select your car!'), FileUpload(value={}, description='Upload'), Button(description…"
            ]
          },
          "metadata": {
            "tags": []
          }
        },
        {
          "output_type": "display_data",
          "data": {
            "text/html": [
              ""
            ],
            "text/plain": [
              "<IPython.core.display.HTML object>"
            ]
          },
          "metadata": {
            "tags": []
          }
        },
        {
          "output_type": "display_data",
          "data": {
            "text/html": [
              ""
            ],
            "text/plain": [
              "<IPython.core.display.HTML object>"
            ]
          },
          "metadata": {
            "tags": []
          }
        },
        {
          "output_type": "display_data",
          "data": {
            "text/html": [
              ""
            ],
            "text/plain": [
              "<IPython.core.display.HTML object>"
            ]
          },
          "metadata": {
            "tags": []
          }
        },
        {
          "output_type": "display_data",
          "data": {
            "text/html": [
              ""
            ],
            "text/plain": [
              "<IPython.core.display.HTML object>"
            ]
          },
          "metadata": {
            "tags": []
          }
        },
        {
          "output_type": "display_data",
          "data": {
            "text/html": [
              ""
            ],
            "text/plain": [
              "<IPython.core.display.HTML object>"
            ]
          },
          "metadata": {
            "tags": []
          }
        }
      ]
    },
    {
      "cell_type": "code",
      "metadata": {
        "id": "2uUndSvgYsUK"
      },
      "source": [
        ""
      ],
      "execution_count": null,
      "outputs": []
    }
  ]
}